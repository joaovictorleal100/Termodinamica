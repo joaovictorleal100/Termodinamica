{
 "cells": [
  {
   "cell_type": "markdown",
   "metadata": {
    "slideshow": {
     "slide_type": "slide"
    }
   },
   "source": [
    "## Ciclo Ideal de Refrigeração por Compressão de Vapor"
   ]
  },
  {
   "cell_type": "markdown",
   "metadata": {
    "slideshow": {
     "slide_type": "slide"
    }
   },
   "source": [
    "\n",
    "### **Exemplo:** Um refrigerador utiliza refrigerante R134a como fluido de trabalho e opera em um ciclo de refrigeração por compressão de vapor entre $0,14MPa$ e $0,8MPa$. Se a vazão mássica do refrigerante for de $0,05 kg/s$, determine (a) a taxa de remoção de calor do espaço refrigerado e a potência fornecida ao compressor, (b) a taxa de rejeição de calor para o ambiente e (c) o COP do refrigerador."
   ]
  },
  {
   "cell_type": "markdown",
   "metadata": {
    "slideshow": {
     "slide_type": "slide"
    }
   },
   "source": [
    "Para a solução do problema devemos analisar o diagrama T-s para o ciclo ideal de refrigeração. Observe que a vazão mássica está especificada ($ \\dot{m}=0,05m^3/s $) e os limites de pressão são $ 0,14MPa $  na entrada e $0,8MPa$ na saída do compressor. Podemos construir o diagrama abaixo, desprezando as perdas de carga no evaporador e condensador, considerando o compressor isentrópico e a válvula de expansão isentálpica."
   ]
  },
  {
   "cell_type": "code",
   "execution_count": 14,
   "metadata": {
    "slideshow": {
     "slide_type": "subslide"
    }
   },
   "outputs": [
    {
     "data": {
      "image/png": "[encoded data removed]",
      "text/plain": [
       "<IPython.core.display.Image object>"
      ]
     },
     "execution_count": 14,
     "metadata": {},
     "output_type": "execute_result"
    }
   ],
   "source": [
    "from IPython.display import Image\n",
    "Image(\"Ciclo.png\")"
   ]
  },
  {
   "cell_type": "markdown",
   "metadata": {
    "slideshow": {
     "slide_type": "slide"
    }
   },
   "source": [
    "## Solução"
   ]
  },
  {
   "cell_type": "markdown",
   "metadata": {
    "slideshow": {
     "slide_type": "subslide"
    }
   },
   "source": [
    "Para a solução do problema precisamos obter as propriedades do fluido de trabalho (R134a) nos estados de interesse. para isso vamos usar a biblioteca de propriedades de fluidos CoolProp (http://www.coolprop.org) e definir o R134a como fluido refrigerante."
   ]
  },
  {
   "cell_type": "code",
   "execution_count": 2,
   "metadata": {
    "slideshow": {
     "slide_type": "subslide"
    }
   },
   "outputs": [],
   "source": [
    "from CoolProp import CoolProp as cp\n",
    "fluido= 'R134a'\n",
    "cp.set_reference_state(fluido,'ASHRAE') # Definindo o padrão ASHRAE de referência para as propriedades termodinâmicas.\n",
    "m=0.05 # vazão mássica dada no enunciado."
   ]
  },
  {
   "cell_type": "markdown",
   "metadata": {},
   "source": [
    "Para o estado 1, temos vapor saturado a $P_1=0,14MPa$:\n"
   ]
  },
  {
   "cell_type": "code",
   "execution_count": 3,
   "metadata": {},
   "outputs": [
    {
     "name": "stdout",
     "output_type": "stream",
     "text": [
      "h1= 239.176 kJ/kg:\n",
      "s1= 0.945 kJ/kg:\n",
      "T1= -18.760 °C:\n"
     ]
    }
   ],
   "source": [
    "P1=0.14 #Unidade em MPa, a conversão para Pa será feita na chamada à função abaixo.\n",
    "Q1=1    # Título igual a um para vapor saturado\n",
    "h1 = cp.PropsSI('H', 'P', P1 * 1E6, 'Q', Q1, fluido) * 1E-3 #Determinando a entalpia e convertendo para kJ/kg\n",
    "s1 = cp.PropsSI('S', 'P', P1 * 1E6, 'Q', Q1, fluido) * 1E-3 #Determinando a entropia e convertendo para kJ/kg\n",
    "T1 = cp.PropsSI('T', 'P', P1 * 1E6, 'Q', Q1, fluido)        #Determinando a temperatura em K\n",
    "print('h1= {:.3f} kJ/kg:'.format(h1))\n",
    "print('s1= {:.3f} kJ/kg:'.format(s1))\n",
    "print('T1= {:.3f} °C:'.format(T1-273.15))"
   ]
  },
  {
   "cell_type": "markdown",
   "metadata": {},
   "source": [
    "Para o estado 2, temos vapor superaquecido a $P_2=0,8MPa$ e $s_2=s_1$ (Compressor isentrópico):\n"
   ]
  },
  {
   "cell_type": "code",
   "execution_count": 4,
   "metadata": {},
   "outputs": [
    {
     "name": "stdout",
     "output_type": "stream",
     "text": [
      "h2= 275.388 kJ/kg:\n",
      "T2= 38.977 kJ/kg:\n"
     ]
    }
   ],
   "source": [
    "P2 = 0.8 #Unidade em MPa, a conversão para Pa será feita na chamada à função abaixo.\n",
    "s2 = s1    # Título igual a um para vapor saturado\n",
    "h2 = cp.PropsSI('H', 'P', P2 * 1E6, 'S', s2*1E3, fluido) * 1E-3 #Determinando a entalpia e convertendo para kJ/kg\n",
    "T2 = cp.PropsSI('T', 'P', P2 * 1E6, 'S', s2*1E3, fluido)        #Determinando a temperatura em K\n",
    "print('h2= {:.3f} kJ/kg:'.format(h2))\n",
    "print('T2= {:.3f} kJ/kg:'.format(T2-273.15))"
   ]
  },
  {
   "cell_type": "markdown",
   "metadata": {},
   "source": [
    "Do diagrama T-s, observamos que no estado 3 temos líquido saturado a $P_3=0,8MPa$:\n"
   ]
  },
  {
   "cell_type": "code",
   "execution_count": 5,
   "metadata": {},
   "outputs": [
    {
     "name": "stdout",
     "output_type": "stream",
     "text": [
      "h3= 95.501 kJ/kg:\n",
      "T3= 31.327 °C:\n"
     ]
    }
   ],
   "source": [
    "P3=P2 #Unidade em MPa, a conversão para Pa será feita na chamada à função abaixo.\n",
    "Q3=0    # Título igual a zero para líquido saturado\n",
    "h3 = cp.PropsSI('H', 'P', P3 * 1E6, 'Q', Q3, fluido) * 1E-3 #Determinando a entalpia e convertendo para kJ/kg\n",
    "s3 = cp.PropsSI('S', 'P', P3 * 1E6, 'Q', Q3, fluido) * 1E-3 #Determinando a entalpia e convertendo para kJ/kg\n",
    "T3 = cp.PropsSI('T', 'P', P3 * 1E6, 'Q', Q3, fluido)        #Determinando a temperatura em K\n",
    "print('h3= {:.3f} kJ/kg:'.format(h3))\n",
    "print('T3= {:.3f} °C:'.format(T3-273.15))"
   ]
  },
  {
   "cell_type": "markdown",
   "metadata": {},
   "source": [
    "E, como a válvula de expansão é isentálpica, $h_4=h_3$:\n"
   ]
  },
  {
   "cell_type": "code",
   "execution_count": 6,
   "metadata": {},
   "outputs": [
    {
     "name": "stdout",
     "output_type": "stream",
     "text": [
      "h4= 95.501 kJ/kg:\n",
      "s4= 0.380 kJ/kg:\n",
      "T4= -18.760 kJ/kg:\n"
     ]
    }
   ],
   "source": [
    "h4=h3 #Válvula isentálpica\n",
    "T4=T1\n",
    "P4=P1\n",
    "s4 = cp.PropsSI('S', 'H', h4* 1E3, 'P', P4*1E6, fluido) * 1E-3 #Determinando a entalpia e convertendo para kJ/kg\n",
    "print('h4= {:.3f} kJ/kg:'.format(h4))\n",
    "print('s4= {:.3f} kJ/kg:'.format(s4))\n",
    "print('T4= {:.3f} kJ/kg:'.format(T4-273.15))"
   ]
  },
  {
   "cell_type": "markdown",
   "metadata": {},
   "source": [
    "Para continuar a solução do problemas, vamos aplicar a equação da energia para volume de controle para cada um dos quatro componentes do ciclo, considerando ainda regime permanente ($\\frac{dE_{vc}}{dt}=0$) e desprezando-se a variação de energias cinética e potencial. Assim, para o evaporador $\\dot{W}=0$ e a equação da energia se reduz a: \n",
    "$\\dot{Q_L}=\\dot{m}(h_1-h_4)$"
   ]
  },
  {
   "cell_type": "code",
   "execution_count": 7,
   "metadata": {},
   "outputs": [
    {
     "name": "stdout",
     "output_type": "stream",
     "text": [
      "QL = 7.184 kW:\n"
     ]
    }
   ],
   "source": [
    "QL=m*(h1-h4)\n",
    "print('QL = {:.3f} kW:'.format(QL))"
   ]
  },
  {
   "cell_type": "markdown",
   "metadata": {},
   "source": [
    "Aplicando a equação da energia para volume de controle para o compressor $\\dot{Q}=0$ obtemos: \n",
    "$\\dot{W_{ent}}=\\dot{m}(h_2-h_1)$"
   ]
  },
  {
   "cell_type": "code",
   "execution_count": 8,
   "metadata": {},
   "outputs": [
    {
     "name": "stdout",
     "output_type": "stream",
     "text": [
      "W = 1.811 kW:\n"
     ]
    }
   ],
   "source": [
    "W=m*(h2-h1)\n",
    "print('W = {:.3f} kW:'.format(W))"
   ]
  },
  {
   "cell_type": "markdown",
   "metadata": {},
   "source": [
    "Aplicando a equação da energia para volume de controle para o condensador $\\dot{Q}=0$ obtemos: \n",
    "$\\dot{Q_{H}}=\\dot{m}(h_2-h_3)$"
   ]
  },
  {
   "cell_type": "code",
   "execution_count": 9,
   "metadata": {},
   "outputs": [
    {
     "name": "stdout",
     "output_type": "stream",
     "text": [
      "QH = 8.994 kW\n"
     ]
    }
   ],
   "source": [
    "QH=m*(h2-h3)\n",
    "print('QH = {:.3f} kW'.format(QH))"
   ]
  },
  {
   "cell_type": "markdown",
   "metadata": {},
   "source": [
    "Finalmente, obtemos o coeficiente de desempenho: $COP=\\frac{\\dot{Q_L}}{\\dot{W_{ent}}}$:"
   ]
  },
  {
   "cell_type": "code",
   "execution_count": 10,
   "metadata": {},
   "outputs": [
    {
     "name": "stdout",
     "output_type": "stream",
     "text": [
      "COP = 3.968\n"
     ]
    }
   ],
   "source": [
    "COP=QL/W\n",
    "print('COP = {:.3f}'.format(COP))"
   ]
  },
  {
   "cell_type": "markdown",
   "metadata": {},
   "source": [
    "## Diagrama T-s - Ciclo de Refrigeração\n",
    "\n",
    "#### Processos termodinâmicos considerados:\n",
    "\n",
    "- Processo 1 a 2 : Compressão isentrópica (s2 = s1); <br> \n",
    "- Processo 2 a 3 : Condensação isobárica  (P3 = P2); <br>\n",
    "- Processo 3 a 4 : Expansão isentálpica   (h4 = h3); <br>\n",
    "- Processo 4 a 1 : Evaporação isobárica   (P4 = P1)."
   ]
  },
  {
   "cell_type": "markdown",
   "metadata": {},
   "source": [
    "Para plotar o Diagrama T-s, precisamos utilizar a biblioteca matplotlib para mostrar o gráfico e a biblioteca numpy para poder gerar os vetores que serão plotados."
   ]
  },
  {
   "cell_type": "markdown",
   "metadata": {},
   "source": [
    "Construindo o diagrama T - s:"
   ]
  },
  {
   "cell_type": "code",
   "execution_count": 11,
   "metadata": {},
   "outputs": [
    {
     "data": {
      "image/png": "[encoded data removed]",
      "text/plain": [
       "<Figure size 432x288 with 1 Axes>"
      ]
     },
     "metadata": {
      "needs_background": "light"
     },
     "output_type": "display_data"
    }
   ],
   "source": [
    "import matplotlib.pyplot as plt\n",
    "import numpy as np\n",
    "\n",
    "plt.figure() # Define a saída do gráfico\n",
    "\n",
    "## Curvas de saturação de líquido (Q=0) e vapor (Q=1) para temperatura variando entre 10°C e 647.096K (T crítica)\n",
    "npt = np.linspace(-20,101.06,200) # Gera um vetor com 200 elementos para o intervalo de temperatura \n",
    "svap = [s for s in [cp.PropsSI('S', 'T', j + 273.15, 'Q', 1, fluido) * 1E-3 for j in npt]]\n",
    "sliq = [s for s in [cp.PropsSI('S', 'T', j + 273.15, 'Q', 0, fluido) * 1E-3 for j in npt]]\n",
    "plt.plot(svap, npt, 'r-')\n",
    "plt.plot(sliq, npt, 'b-')\n",
    "\n",
    "### Conjunto de processos  (s,T)\n",
    "\n",
    "T12 = [T1-273.15, T2-273.15] \n",
    "s12 = [s1, s2]\n",
    "\n",
    "T23=np.linspace(T2-273.15,T3-273.16,100)\n",
    "s23 = [s for s in [cp.PropsSI('S', 'T', j+273.15 , 'P', P3*1E6, fluido) * 1E-3 for j in T23]]\n",
    "\n",
    "P34 = np.linspace(P3,P4,20)\n",
    "T34 = [T-273.15 for T in [cp.PropsSI('T', 'H', h3*1E3, 'P', j*1E6, fluido)  for j in P34]]\n",
    "s34 = [s for s in [cp.PropsSI('S', 'H', h3*1E3, 'P', j*1E6, fluido) * 1E-3 for j in P34]]\n",
    "\n",
    "T41 = [T4-273.15, T1-273.15]\n",
    "s41 = [s4,s1]\n",
    "\n",
    "plt.plot(s12,T12,'g')\n",
    "plt.plot(s23,T23,'g')\n",
    "plt.plot(s34,T34,'g')\n",
    "plt.plot(s41,T41,'g')\n",
    "\n",
    "\n",
    "plt.xlabel('Entropia (kJ/(kg K)')\n",
    "plt.ylabel('Temperatura (°C)')\n",
    "plt.savefig('Rankine.png', transparent = True)\n",
    "plt.grid()\n",
    "plt.show()"
   ]
  },
  {
   "cell_type": "code",
   "execution_count": 12,
   "metadata": {},
   "outputs": [
    {
     "data": {
      "text/html": [
       "\n",
       "    <div class=\"bk-root\">\n",
       "        <a href=\"https://bokeh.org\" target=\"_blank\" class=\"bk-logo bk-logo-small bk-logo-notebook\"></a>\n",
       "        <span id=\"1001\">Loading BokehJS ...</span>\n",
       "    </div>"
      ]
     },
     "metadata": {},
     "output_type": "display_data"
    },
    {
     "data": {
      "application/javascript": [
       "\n",
       "(function(root) {\n",
       "  function now() {\n",
       "    return new Date();\n",
       "  }\n",
       "\n",
       "  var force = true;\n",
       "\n",
       "  if (typeof root._bokeh_onload_callbacks === \"undefined\" || force === true) {\n",
       "    root._bokeh_onload_callbacks = [];\n",
       "    root._bokeh_is_loading = undefined;\n",
       "  }\n",
       "\n",
       "  var JS_MIME_TYPE = 'application/javascript';\n",
       "  var HTML_MIME_TYPE = 'text/html';\n",
       "  var EXEC_MIME_TYPE = 'application/vnd.bokehjs_exec.v0+json';\n",
       "  var CLASS_NAME = 'output_bokeh rendered_html';\n",
       "\n",
       "  /**\n",
       "   * Render data to the DOM node\n",
       "   */\n",
       "  function render(props, node) {\n",
       "    var script = document.createElement(\"script\");\n",
       "    node.appendChild(script);\n",
       "  }\n",
       "\n",
       "  /**\n",
       "   * Handle when an output is cleared or removed\n",
       "   */\n",
       "  function handleClearOutput(event, handle) {\n",
       "    var cell = handle.cell;\n",
       "\n",
       "    var id = cell.output_area._bokeh_element_id;\n",
       "    var server_id = cell.output_area._bokeh_server_id;\n",
       "    // Clean up Bokeh references\n",
       "    if (id != null && id in Bokeh.index) {\n",
       "      Bokeh.index[id].model.document.clear();\n",
       "      delete Bokeh.index[id];\n",
       "    }\n",
       "\n",
       "    if (server_id !== undefined) {\n",
       "      // Clean up Bokeh references\n",
       "      var cmd = \"from bokeh.io.state import curstate; print(curstate().uuid_to_server['\" + server_id + \"'].get_sessions()[0].document.roots[0]._id)\";\n",
       "      cell.notebook.kernel.execute(cmd, {\n",
       "        iopub: {\n",
       "          output: function(msg) {\n",
       "            var id = msg.content.text.trim();\n",
       "            if (id in Bokeh.index) {\n",
       "              Bokeh.index[id].model.document.clear();\n",
       "              delete Bokeh.index[id];\n",
       "            }\n",
       "          }\n",
       "        }\n",
       "      });\n",
       "      // Destroy server and session\n",
       "      var cmd = \"import bokeh.io.notebook as ion; ion.destroy_server('\" + server_id + \"')\";\n",
       "      cell.notebook.kernel.execute(cmd);\n",
       "    }\n",
       "  }\n",
       "\n",
       "  /**\n",
       "   * Handle when a new output is added\n",
       "   */\n",
       "  function handleAddOutput(event, handle) {\n",
       "    var output_area = handle.output_area;\n",
       "    var output = handle.output;\n",
       "\n",
       "    // limit handleAddOutput to display_data with EXEC_MIME_TYPE content only\n",
       "    if ((output.output_type != \"display_data\") || (!output.data.hasOwnProperty(EXEC_MIME_TYPE))) {\n",
       "      return\n",
       "    }\n",
       "\n",
       "    var toinsert = output_area.element.find(\".\" + CLASS_NAME.split(' ')[0]);\n",
       "\n",
       "    if (output.metadata[EXEC_MIME_TYPE][\"id\"] !== undefined) {\n",
       "      toinsert[toinsert.length - 1].firstChild.textContent = output.data[JS_MIME_TYPE];\n",
       "      // store reference to embed id on output_area\n",
       "      output_area._bokeh_element_id = output.metadata[EXEC_MIME_TYPE][\"id\"];\n",
       "    }\n",
       "    if (output.metadata[EXEC_MIME_TYPE][\"server_id\"] !== undefined) {\n",
       "      var bk_div = document.createElement(\"div\");\n",
       "      bk_div.innerHTML = output.data[HTML_MIME_TYPE];\n",
       "      var script_attrs = bk_div.children[0].attributes;\n",
       "      for (var i = 0; i < script_attrs.length; i++) {\n",
       "        toinsert[toinsert.length - 1].firstChild.setAttribute(script_attrs[i].name, script_attrs[i].value);\n",
       "        toinsert[toinsert.length - 1].firstChild.textContent = bk_div.children[0].textContent\n",
       "      }\n",
       "      // store reference to server id on output_area\n",
       "      output_area._bokeh_server_id = output.metadata[EXEC_MIME_TYPE][\"server_id\"];\n",
       "    }\n",
       "  }\n",
       "\n",
       "  function register_renderer(events, OutputArea) {\n",
       "\n",
       "    function append_mime(data, metadata, element) {\n",
       "      // create a DOM node to render to\n",
       "      var toinsert = this.create_output_subarea(\n",
       "        metadata,\n",
       "        CLASS_NAME,\n",
       "        EXEC_MIME_TYPE\n",
       "      );\n",
       "      this.keyboard_manager.register_events(toinsert);\n",
       "      // Render to node\n",
       "      var props = {data: data, metadata: metadata[EXEC_MIME_TYPE]};\n",
       "      render(props, toinsert[toinsert.length - 1]);\n",
       "      element.append(toinsert);\n",
       "      return toinsert\n",
       "    }\n",
       "\n",
       "    /* Handle when an output is cleared or removed */\n",
       "    events.on('clear_output.CodeCell', handleClearOutput);\n",
       "    events.on('delete.Cell', handleClearOutput);\n",
       "\n",
       "    /* Handle when a new output is added */\n",
       "    events.on('output_added.OutputArea', handleAddOutput);\n",
       "\n",
       "    /**\n",
       "     * Register the mime type and append_mime function with output_area\n",
       "     */\n",
       "    OutputArea.prototype.register_mime_type(EXEC_MIME_TYPE, append_mime, {\n",
       "      /* Is output safe? */\n",
       "      safe: true,\n",
       "      /* Index of renderer in `output_area.display_order` */\n",
       "      index: 0\n",
       "    });\n",
       "  }\n",
       "\n",
       "  // register the mime type if in Jupyter Notebook environment and previously unregistered\n",
       "  if (root.Jupyter !== undefined) {\n",
       "    var events = require('base/js/events');\n",
       "    var OutputArea = require('notebook/js/outputarea').OutputArea;\n",
       "\n",
       "    if (OutputArea.prototype.mime_types().indexOf(EXEC_MIME_TYPE) == -1) {\n",
       "      register_renderer(events, OutputArea);\n",
       "    }\n",
       "  }\n",
       "\n",
       "  \n",
       "  if (typeof (root._bokeh_timeout) === \"undefined\" || force === true) {\n",
       "    root._bokeh_timeout = Date.now() + 5000;\n",
       "    root._bokeh_failed_load = false;\n",
       "  }\n",
       "\n",
       "  var NB_LOAD_WARNING = {'data': {'text/html':\n",
       "     \"<div style='background-color: #fdd'>\\n\"+\n",
       "     \"<p>\\n\"+\n",
       "     \"BokehJS does not appear to have successfully loaded. If loading BokehJS from CDN, this \\n\"+\n",
       "     \"may be due to a slow or bad network connection. Possible fixes:\\n\"+\n",
       "     \"</p>\\n\"+\n",
       "     \"<ul>\\n\"+\n",
       "     \"<li>re-rerun `output_notebook()` to attempt to load from CDN again, or</li>\\n\"+\n",
       "     \"<li>use INLINE resources instead, as so:</li>\\n\"+\n",
       "     \"</ul>\\n\"+\n",
       "     \"<code>\\n\"+\n",
       "     \"from bokeh.resources import INLINE\\n\"+\n",
       "     \"output_notebook(resources=INLINE)\\n\"+\n",
       "     \"</code>\\n\"+\n",
       "     \"</div>\"}};\n",
       "\n",
       "  function display_loaded() {\n",
       "    var el = document.getElementById(\"1001\");\n",
       "    if (el != null) {\n",
       "      el.textContent = \"BokehJS is loading...\";\n",
       "    }\n",
       "    if (root.Bokeh !== undefined) {\n",
       "      if (el != null) {\n",
       "        el.textContent = \"BokehJS \" + root.Bokeh.version + \" successfully loaded.\";\n",
       "      }\n",
       "    } else if (Date.now() < root._bokeh_timeout) {\n",
       "      setTimeout(display_loaded, 100)\n",
       "    }\n",
       "  }\n",
       "\n",
       "\n",
       "  function run_callbacks() {\n",
       "    try {\n",
       "      root._bokeh_onload_callbacks.forEach(function(callback) {\n",
       "        if (callback != null)\n",
       "          callback();\n",
       "      });\n",
       "    } finally {\n",
       "      delete root._bokeh_onload_callbacks\n",
       "    }\n",
       "    console.debug(\"Bokeh: all callbacks have finished\");\n",
       "  }\n",
       "\n",
       "  function load_libs(css_urls, js_urls, callback) {\n",
       "    if (css_urls == null) css_urls = [];\n",
       "    if (js_urls == null) js_urls = [];\n",
       "\n",
       "    root._bokeh_onload_callbacks.push(callback);\n",
       "    if (root._bokeh_is_loading > 0) {\n",
       "      console.debug(\"Bokeh: BokehJS is being loaded, scheduling callback at\", now());\n",
       "      return null;\n",
       "    }\n",
       "    if (js_urls == null || js_urls.length === 0) {\n",
       "      run_callbacks();\n",
       "      return null;\n",
       "    }\n",
       "    console.debug(\"Bokeh: BokehJS not loaded, scheduling load and callback at\", now());\n",
       "    root._bokeh_is_loading = css_urls.length + js_urls.length;\n",
       "\n",
       "    function on_load() {\n",
       "      root._bokeh_is_loading--;\n",
       "      if (root._bokeh_is_loading === 0) {\n",
       "        console.debug(\"Bokeh: all BokehJS libraries/stylesheets loaded\");\n",
       "        run_callbacks()\n",
       "      }\n",
       "    }\n",
       "\n",
       "    function on_error() {\n",
       "      console.error(\"failed to load \" + url);\n",
       "    }\n",
       "\n",
       "    for (var i = 0; i < css_urls.length; i++) {\n",
       "      var url = css_urls[i];\n",
       "      const element = document.createElement(\"link\");\n",
       "      element.onload = on_load;\n",
       "      element.onerror = on_error;\n",
       "      element.rel = \"stylesheet\";\n",
       "      element.type = \"text/css\";\n",
       "      element.href = url;\n",
       "      console.debug(\"Bokeh: injecting link tag for BokehJS stylesheet: \", url);\n",
       "      document.body.appendChild(element);\n",
       "    }\n",
       "\n",
       "    const hashes = {\"https://cdn.bokeh.org/bokeh/release/bokeh-2.0.2.min.js\": \"ufR9RFnRs6lniiaFvtJziE0YeidtAgBRH6ux2oUItHw5WTvE1zuk9uzhUU/FJXDp\", \"https://cdn.bokeh.org/bokeh/release/bokeh-widgets-2.0.2.min.js\": \"8QM/PGWBT+IssZuRcDcjzwIh1mkOmJSoNMmyYDZbCfXJg3Ap1lEvdVgFuSAwhb/J\", \"https://cdn.bokeh.org/bokeh/release/bokeh-tables-2.0.2.min.js\": \"Jm8cH3Rg0P6UeZhVY5cLy1WzKajUT9KImCY+76hEqrcJt59/d8GPvFHjCkYgnSIn\", \"https://cdn.bokeh.org/bokeh/release/bokeh-gl-2.0.2.min.js\": \"Ozhzj+SI7ywm74aOI/UajcWz+C0NjsPunEVyVIrxzYkB+jA+2tUw8x5xJCbVtK5I\"};\n",
       "\n",
       "    for (var i = 0; i < js_urls.length; i++) {\n",
       "      var url = js_urls[i];\n",
       "      var element = document.createElement('script');\n",
       "      element.onload = on_load;\n",
       "      element.onerror = on_error;\n",
       "      element.async = false;\n",
       "      element.src = url;\n",
       "      if (url in hashes) {\n",
       "        element.crossOrigin = \"anonymous\";\n",
       "        element.integrity = \"sha384-\" + hashes[url];\n",
       "      }\n",
       "      console.debug(\"Bokeh: injecting script tag for BokehJS library: \", url);\n",
       "      document.head.appendChild(element);\n",
       "    }\n",
       "  };\n",
       "\n",
       "  function inject_raw_css(css) {\n",
       "    const element = document.createElement(\"style\");\n",
       "    element.appendChild(document.createTextNode(css));\n",
       "    document.body.appendChild(element);\n",
       "  }\n",
       "\n",
       "  \n",
       "  var js_urls = [\"https://cdn.bokeh.org/bokeh/release/bokeh-2.0.2.min.js\", \"https://cdn.bokeh.org/bokeh/release/bokeh-widgets-2.0.2.min.js\", \"https://cdn.bokeh.org/bokeh/release/bokeh-tables-2.0.2.min.js\", \"https://cdn.bokeh.org/bokeh/release/bokeh-gl-2.0.2.min.js\"];\n",
       "  var css_urls = [];\n",
       "  \n",
       "\n",
       "  var inline_js = [\n",
       "    function(Bokeh) {\n",
       "      Bokeh.set_log_level(\"info\");\n",
       "    },\n",
       "    function(Bokeh) {\n",
       "    \n",
       "    \n",
       "    }\n",
       "  ];\n",
       "\n",
       "  function run_inline_js() {\n",
       "    \n",
       "    if (root.Bokeh !== undefined || force === true) {\n",
       "      \n",
       "    for (var i = 0; i < inline_js.length; i++) {\n",
       "      inline_js[i].call(root, root.Bokeh);\n",
       "    }\n",
       "    if (force === true) {\n",
       "        display_loaded();\n",
       "      }} else if (Date.now() < root._bokeh_timeout) {\n",
       "      setTimeout(run_inline_js, 100);\n",
       "    } else if (!root._bokeh_failed_load) {\n",
       "      console.log(\"Bokeh: BokehJS failed to load within specified timeout.\");\n",
       "      root._bokeh_failed_load = true;\n",
       "    } else if (force !== true) {\n",
       "      var cell = $(document.getElementById(\"1001\")).parents('.cell').data().cell;\n",
       "      cell.output_area.append_execute_result(NB_LOAD_WARNING)\n",
       "    }\n",
       "\n",
       "  }\n",
       "\n",
       "  if (root._bokeh_is_loading === 0) {\n",
       "    console.debug(\"Bokeh: BokehJS loaded, going straight to plotting\");\n",
       "    run_inline_js();\n",
       "  } else {\n",
       "    load_libs(css_urls, js_urls, function() {\n",
       "      console.debug(\"Bokeh: BokehJS plotting callback run at\", now());\n",
       "      run_inline_js();\n",
       "    });\n",
       "  }\n",
       "}(window));"
      ],
      "application/vnd.bokehjs_load.v0+json": "\n(function(root) {\n  function now() {\n    return new Date();\n  }\n\n  var force = true;\n\n  if (typeof root._bokeh_onload_callbacks === \"undefined\" || force === true) {\n    root._bokeh_onload_callbacks = [];\n    root._bokeh_is_loading = undefined;\n  }\n\n  \n\n  \n  if (typeof (root._bokeh_timeout) === \"undefined\" || force === true) {\n    root._bokeh_timeout = Date.now() + 5000;\n    root._bokeh_failed_load = false;\n  }\n\n  var NB_LOAD_WARNING = {'data': {'text/html':\n     \"<div style='background-color: #fdd'>\\n\"+\n     \"<p>\\n\"+\n     \"BokehJS does not appear to have successfully loaded. If loading BokehJS from CDN, this \\n\"+\n     \"may be due to a slow or bad network connection. Possible fixes:\\n\"+\n     \"</p>\\n\"+\n     \"<ul>\\n\"+\n     \"<li>re-rerun `output_notebook()` to attempt to load from CDN again, or</li>\\n\"+\n     \"<li>use INLINE resources instead, as so:</li>\\n\"+\n     \"</ul>\\n\"+\n     \"<code>\\n\"+\n     \"from bokeh.resources import INLINE\\n\"+\n     \"output_notebook(resources=INLINE)\\n\"+\n     \"</code>\\n\"+\n     \"</div>\"}};\n\n  function display_loaded() {\n    var el = document.getElementById(\"1001\");\n    if (el != null) {\n      el.textContent = \"BokehJS is loading...\";\n    }\n    if (root.Bokeh !== undefined) {\n      if (el != null) {\n        el.textContent = \"BokehJS \" + root.Bokeh.version + \" successfully loaded.\";\n      }\n    } else if (Date.now() < root._bokeh_timeout) {\n      setTimeout(display_loaded, 100)\n    }\n  }\n\n\n  function run_callbacks() {\n    try {\n      root._bokeh_onload_callbacks.forEach(function(callback) {\n        if (callback != null)\n          callback();\n      });\n    } finally {\n      delete root._bokeh_onload_callbacks\n    }\n    console.debug(\"Bokeh: all callbacks have finished\");\n  }\n\n  function load_libs(css_urls, js_urls, callback) {\n    if (css_urls == null) css_urls = [];\n    if (js_urls == null) js_urls = [];\n\n    root._bokeh_onload_callbacks.push(callback);\n    if (root._bokeh_is_loading > 0) {\n      console.debug(\"Bokeh: BokehJS is being loaded, scheduling callback at\", now());\n      return null;\n    }\n    if (js_urls == null || js_urls.length === 0) {\n      run_callbacks();\n      return null;\n    }\n    console.debug(\"Bokeh: BokehJS not loaded, scheduling load and callback at\", now());\n    root._bokeh_is_loading = css_urls.length + js_urls.length;\n\n    function on_load() {\n      root._bokeh_is_loading--;\n      if (root._bokeh_is_loading === 0) {\n        console.debug(\"Bokeh: all BokehJS libraries/stylesheets loaded\");\n        run_callbacks()\n      }\n    }\n\n    function on_error() {\n      console.error(\"failed to load \" + url);\n    }\n\n    for (var i = 0; i < css_urls.length; i++) {\n      var url = css_urls[i];\n      const element = document.createElement(\"link\");\n      element.onload = on_load;\n      element.onerror = on_error;\n      element.rel = \"stylesheet\";\n      element.type = \"text/css\";\n      element.href = url;\n      console.debug(\"Bokeh: injecting link tag for BokehJS stylesheet: \", url);\n      document.body.appendChild(element);\n    }\n\n    const hashes = {\"https://cdn.bokeh.org/bokeh/release/bokeh-2.0.2.min.js\": \"ufR9RFnRs6lniiaFvtJziE0YeidtAgBRH6ux2oUItHw5WTvE1zuk9uzhUU/FJXDp\", \"https://cdn.bokeh.org/bokeh/release/bokeh-widgets-2.0.2.min.js\": \"8QM/PGWBT+IssZuRcDcjzwIh1mkOmJSoNMmyYDZbCfXJg3Ap1lEvdVgFuSAwhb/J\", \"https://cdn.bokeh.org/bokeh/release/bokeh-tables-2.0.2.min.js\": \"Jm8cH3Rg0P6UeZhVY5cLy1WzKajUT9KImCY+76hEqrcJt59/d8GPvFHjCkYgnSIn\", \"https://cdn.bokeh.org/bokeh/release/bokeh-gl-2.0.2.min.js\": \"Ozhzj+SI7ywm74aOI/UajcWz+C0NjsPunEVyVIrxzYkB+jA+2tUw8x5xJCbVtK5I\"};\n\n    for (var i = 0; i < js_urls.length; i++) {\n      var url = js_urls[i];\n      var element = document.createElement('script');\n      element.onload = on_load;\n      element.onerror = on_error;\n      element.async = false;\n      element.src = url;\n      if (url in hashes) {\n        element.crossOrigin = \"anonymous\";\n        element.integrity = \"sha384-\" + hashes[url];\n      }\n      console.debug(\"Bokeh: injecting script tag for BokehJS library: \", url);\n      document.head.appendChild(element);\n    }\n  };\n\n  function inject_raw_css(css) {\n    const element = document.createElement(\"style\");\n    element.appendChild(document.createTextNode(css));\n    document.body.appendChild(element);\n  }\n\n  \n  var js_urls = [\"https://cdn.bokeh.org/bokeh/release/bokeh-2.0.2.min.js\", \"https://cdn.bokeh.org/bokeh/release/bokeh-widgets-2.0.2.min.js\", \"https://cdn.bokeh.org/bokeh/release/bokeh-tables-2.0.2.min.js\", \"https://cdn.bokeh.org/bokeh/release/bokeh-gl-2.0.2.min.js\"];\n  var css_urls = [];\n  \n\n  var inline_js = [\n    function(Bokeh) {\n      Bokeh.set_log_level(\"info\");\n    },\n    function(Bokeh) {\n    \n    \n    }\n  ];\n\n  function run_inline_js() {\n    \n    if (root.Bokeh !== undefined || force === true) {\n      \n    for (var i = 0; i < inline_js.length; i++) {\n      inline_js[i].call(root, root.Bokeh);\n    }\n    if (force === true) {\n        display_loaded();\n      }} else if (Date.now() < root._bokeh_timeout) {\n      setTimeout(run_inline_js, 100);\n    } else if (!root._bokeh_failed_load) {\n      console.log(\"Bokeh: BokehJS failed to load within specified timeout.\");\n      root._bokeh_failed_load = true;\n    } else if (force !== true) {\n      var cell = $(document.getElementById(\"1001\")).parents('.cell').data().cell;\n      cell.output_area.append_execute_result(NB_LOAD_WARNING)\n    }\n\n  }\n\n  if (root._bokeh_is_loading === 0) {\n    console.debug(\"Bokeh: BokehJS loaded, going straight to plotting\");\n    run_inline_js();\n  } else {\n    load_libs(css_urls, js_urls, function() {\n      console.debug(\"Bokeh: BokehJS plotting callback run at\", now());\n      run_inline_js();\n    });\n  }\n}(window));"
     },
     "metadata": {},
     "output_type": "display_data"
    },
    {
     "data": {
      "text/html": [
       "\n",
       "\n",
       "\n",
       "\n",
       "\n",
       "\n",
       "  <div class=\"bk-root\" id=\"a4d802b0-3162-4df5-a43f-5733f1ddb92f\" data-root-id=\"1002\"></div>\n"
      ]
     },
     "metadata": {},
     "output_type": "display_data"
    },
    {
     "data": {
      "application/javascript": [
       "(function(root) {\n",
       "  function embed_document(root) {\n",
       "    \n",
       "  var docs_json = {\"50672cfa-afcc-4cc1-a0e0-0fccbc6780b9\":{\"roots\":{\"references\":[{\"attributes\":{\"below\":[{\"id\":\"1011\"}],\"center\":[{\"id\":\"1014\"},{\"id\":\"1018\"},{\"id\":\"1049\"}],\"left\":[{\"id\":\"1015\"}],\"renderers\":[{\"id\":\"1040\"},{\"id\":\"1054\"},{\"id\":\"1069\"},{\"id\":\"1074\"},{\"id\":\"1079\"},{\"id\":\"1084\"}],\"title\":{\"id\":\"1033\"},\"toolbar\":{\"id\":\"1026\"},\"x_range\":{\"id\":\"1003\"},\"x_scale\":{\"id\":\"1007\"},\"y_range\":{\"id\":\"1005\"},\"y_scale\":{\"id\":\"1009\"}},\"id\":\"1002\",\"subtype\":\"Figure\",\"type\":\"Plot\"},{\"attributes\":{\"align\":\"center\",\"text\":\"Ciclo Ideal de Rankine\",\"text_color\":{\"value\":\"black\"},\"text_font_size\":{\"value\":\"30px\"}},\"id\":\"1033\",\"type\":\"Title\"},{\"attributes\":{\"axis_label\":\"Entropia (kJ/(kg K)\",\"formatter\":{\"id\":\"1044\"},\"ticker\":{\"id\":\"1012\"}},\"id\":\"1011\",\"type\":\"LinearAxis\"},{\"attributes\":{\"active_drag\":\"auto\",\"active_inspect\":\"auto\",\"active_multi\":null,\"active_scroll\":\"auto\",\"active_tap\":\"auto\",\"tools\":[{\"id\":\"1019\"},{\"id\":\"1020\"},{\"id\":\"1021\"},{\"id\":\"1022\"},{\"id\":\"1023\"},{\"id\":\"1024\"}]},\"id\":\"1026\",\"type\":\"Toolbar\"},{\"attributes\":{},\"id\":\"1063\",\"type\":\"UnionRenderers\"},{\"attributes\":{},\"id\":\"1064\",\"type\":\"Selection\"},{\"attributes\":{\"data\":{\"x\":[0.35413665825130464,0.35425208555799453,0.35440845972379814,0.3546109992599903,0.35486582941829875,0.3551801935266417,0.3555627279874689,0.35602382504656904,0.35657611869186273,0.357235146677027,0.35802027004555476,0.35895597858747785,0.3600737913786036,0.36141510552363854,0.3630356149507717,0.3650124502808771,0.36745630193864776,0.37053331255898064,0.3745078530593262,0.37983534735088054],\"y\":[31.32746316327666,29.77656343730507,28.171729499621563,26.50833644264526,24.781101539208464,22.983949982900242,21.109843978916956,19.150562353678367,17.096412241480607,14.93584578793093,12.65494122704905,10.23668565616714,7.659959900959052,4.8980615761079775,1.916485523263816,-1.3305431431369357,-4.905744538172428,-8.898632586282076,-13.443927816810628,-18.7595703757832]},\"selected\":{\"id\":\"1102\"},\"selection_policy\":{\"id\":\"1101\"}},\"id\":\"1076\",\"type\":\"ColumnDataSource\"},{\"attributes\":{\"label\":{\"value\":\"Curva de Vapor Saturado\"},\"renderers\":[{\"id\":\"1054\"}]},\"id\":\"1065\",\"type\":\"LegendItem\"},{\"attributes\":{\"data_source\":{\"id\":\"1071\"},\"glyph\":{\"id\":\"1072\"},\"hover_glyph\":null,\"muted_glyph\":null,\"nonselection_glyph\":{\"id\":\"1073\"},\"selection_glyph\":null,\"view\":{\"id\":\"1075\"}},\"id\":\"1074\",\"type\":\"GlyphRenderer\"},{\"attributes\":{},\"id\":\"1096\",\"type\":\"Selection\"},{\"attributes\":{},\"id\":\"1003\",\"type\":\"DataRange1d\"},{\"attributes\":{\"source\":{\"id\":\"1071\"}},\"id\":\"1075\",\"type\":\"CDSView\"},{\"attributes\":{},\"id\":\"1095\",\"type\":\"UnionRenderers\"},{\"attributes\":{\"axis\":{\"id\":\"1015\"},\"dimension\":1,\"ticker\":null},\"id\":\"1018\",\"type\":\"Grid\"},{\"attributes\":{\"line_alpha\":0.1,\"line_color\":\"red\",\"line_width\":2,\"x\":{\"field\":\"x\"},\"y\":{\"field\":\"y\"}},\"id\":\"1053\",\"type\":\"Line\"},{\"attributes\":{},\"id\":\"1009\",\"type\":\"LinearScale\"},{\"attributes\":{\"line_alpha\":0.1,\"line_color\":\"blue\",\"line_width\":2,\"x\":{\"field\":\"x\"},\"y\":{\"field\":\"y\"}},\"id\":\"1039\",\"type\":\"Line\"},{\"attributes\":{},\"id\":\"1099\",\"type\":\"UnionRenderers\"},{\"attributes\":{},\"id\":\"1097\",\"type\":\"UnionRenderers\"},{\"attributes\":{},\"id\":\"1005\",\"type\":\"DataRange1d\"},{\"attributes\":{},\"id\":\"1044\",\"type\":\"BasicTickFormatter\"},{\"attributes\":{},\"id\":\"1098\",\"type\":\"Selection\"},{\"attributes\":{\"line_color\":\"green\",\"line_width\":2,\"x\":{\"field\":\"x\"},\"y\":{\"field\":\"y\"}},\"id\":\"1077\",\"type\":\"Line\"},{\"attributes\":{},\"id\":\"1101\",\"type\":\"UnionRenderers\"},{\"attributes\":{\"source\":{\"id\":\"1037\"}},\"id\":\"1041\",\"type\":\"CDSView\"},{\"attributes\":{\"source\":{\"id\":\"1051\"}},\"id\":\"1055\",\"type\":\"CDSView\"},{\"attributes\":{\"bottom_units\":\"screen\",\"fill_alpha\":0.5,\"fill_color\":\"lightgrey\",\"left_units\":\"screen\",\"level\":\"overlay\",\"line_alpha\":1.0,\"line_color\":\"black\",\"line_dash\":[4,4],\"line_width\":2,\"render_mode\":\"css\",\"right_units\":\"screen\",\"top_units\":\"screen\"},\"id\":\"1025\",\"type\":\"BoxAnnotation\"},{\"attributes\":{\"data_source\":{\"id\":\"1037\"},\"glyph\":{\"id\":\"1038\"},\"hover_glyph\":null,\"muted_glyph\":null,\"nonselection_glyph\":{\"id\":\"1039\"},\"selection_glyph\":null,\"view\":{\"id\":\"1041\"}},\"id\":\"1040\",\"type\":\"GlyphRenderer\"},{\"attributes\":{\"line_color\":\"red\",\"line_width\":2,\"x\":{\"field\":\"x\"},\"y\":{\"field\":\"y\"}},\"id\":\"1052\",\"type\":\"Line\"},{\"attributes\":{\"line_alpha\":0.1,\"line_color\":\"green\",\"line_width\":2,\"x\":{\"field\":\"x\"},\"y\":{\"field\":\"y\"}},\"id\":\"1078\",\"type\":\"Line\"},{\"attributes\":{},\"id\":\"1100\",\"type\":\"Selection\"},{\"attributes\":{},\"id\":\"1019\",\"type\":\"PanTool\"},{\"attributes\":{},\"id\":\"1020\",\"type\":\"WheelZoomTool\"},{\"attributes\":{\"line_color\":\"green\",\"line_width\":2,\"x\":{\"field\":\"x\"},\"y\":{\"field\":\"y\"}},\"id\":\"1067\",\"type\":\"Line\"},{\"attributes\":{},\"id\":\"1103\",\"type\":\"UnionRenderers\"},{\"attributes\":{\"overlay\":{\"id\":\"1025\"}},\"id\":\"1021\",\"type\":\"BoxZoomTool\"},{\"attributes\":{},\"id\":\"1022\",\"type\":\"SaveTool\"},{\"attributes\":{\"line_alpha\":0.1,\"line_color\":\"green\",\"line_width\":2,\"x\":{\"field\":\"x\"},\"y\":{\"field\":\"y\"}},\"id\":\"1068\",\"type\":\"Line\"},{\"attributes\":{},\"id\":\"1102\",\"type\":\"Selection\"},{\"attributes\":{\"data_source\":{\"id\":\"1076\"},\"glyph\":{\"id\":\"1077\"},\"hover_glyph\":null,\"muted_glyph\":null,\"nonselection_glyph\":{\"id\":\"1078\"},\"selection_glyph\":null,\"view\":{\"id\":\"1080\"}},\"id\":\"1079\",\"type\":\"GlyphRenderer\"},{\"attributes\":{},\"id\":\"1007\",\"type\":\"LinearScale\"},{\"attributes\":{\"data\":{\"x\":[0.9457119400754601,0.9451699049246818,0.9446357857123122,0.9441094711091964,0.943590850791788,0.9430798154223752,0.942576256629384,0.9420800669877124,0.9415911399991373,0.941109370072754,0.9406346525054774,0.9401668834625819,0.9397059599582892,0.9392517798363964,0.9388042417509467,0.9383632451469305,0.9379286902410314,0.9375004780023889,0.9370785101334033,0.9366626890505555,0.9362529178652498,0.9358491003646753,0.9354511409926746,0.9350589448306295,0.9346724175783417,0.9342914655349157,0.9339159955796328,0.9335459151637627,0.9331811322508922,0.9328215553542732,0.9324670934824013,0.9321176561280335,0.9317731532488982,0.9314334952483594,0.9310985929560203,0.9307683576082615,0.9304427008287064,0.9301215346086025,0.9298047712871115,0.9294923235314999,0.9291841043172199,0.9288800269078628,0.9285800048349948,0.9282839518778349,0.9279917820427904,0.9277034095428214,0.9274187487766296,0.9271377143076542,0.9268602208428652,0.9265861832113339,0.9263155163425746,0.9260481352446348,0.925783954981919,0.9255228906527353,0.9252648573665366,0.9250097702208528,0.9247575442778758,0.9245080945407034,0.9242613359291885,0.9240171832554069,0.9237755511986937,0.9235363542802403,0.9232995068372192,0.9230649229964203,0.9228325166473577,0.9226022014148351,0.9223738906309248,0.9221474973063445,0.9219229341011855,0.9217001132949706,0.9214789467559971,0.9212593459099326,0.9210412217076268,0.9208244845920892,0.9206090444646001,0.9203948106499038,0.9201816918604422,0.9199695961595677,0.9197584309236955,0.9195481028033333,0.9193385176829374,0.9191295806395156,0.9189211958999415,0.9187132667968823,0.918505695723292,0.9182983840853769,0.9180912322539669,0.9178841395141999,0.9176770040134299,0.9174697227072658,0.9172621913036497,0.9170543042048491,0.916845954447268,0.9166370336389503,0.916427431894653,0.9162170377683457,0.9160057381830078,0.9157934183575607,0.9155799617307808,0.9153652498820134,0.915149162448518,0.9149315770392363,0.9147123691447872,0.9144914120434562,0.9142685767029578,0.9140437316776976,0.9138167430012879,0.9135874740740088,0.9133557855449103,0.9131215351882336,0.9128845777737834,0.9126447649308714,0.9124019450054303,0.9121559628966462,0.9119066599554332,0.9116538737275245,0.9113974378436613,0.9111371818175533,0.9108729308514274,0.910604505630836,0.9103317221079793,0.9100543912727195,0.9097723189104137,0.9094853053456045,0.9091931451705425,0.9088956269573908,0.9085925329529096,0.9082836387542574,0.9079687129644576,0.9076475168259421,0.9073198038304069,0.9069853193030758,0.9066437999602049,0.9062949734326289,0.9059385577636324,0.9055742608616785,0.9052017799401114,0.9048208008578431,0.9044309974900945,0.904032030992658,0.903623549034469,0.9032051849477761,0.9027765569048549,0.9023372668727325,0.9018868995309113,0.9014250212689646,0.9009511788629754,0.9004648981627104,0.8999656826386216,0.8994530117578007,0.8989263394181137,0.8983850918142113,0.8978286655276901,0.8972564252135147,0.8966677011269422,0.8960617862505833,0.8954379334312114,0.8947953518823758,0.8941332034745862,0.8934505985715165,0.8927465913848409,0.8920201747776989,0.8912702744344176,0.8904957422991782,0.889695349168115,0.888867776297167,0.8880116058607264,0.8871253100624484,0.8862072386577676,0.8852556045952582,0.8842684674181788,0.8832437139838485,0.8821790359517255,0.8810719033533552,0.8799195333784059,0.8787188532761565,0.8774664559604908,0.8761585464893816,0.8747908770243004,0.8733586670983953,0.8718565049412027,0.8702782240793816,0.8686167472368391,0.8668638863432988,0.8650100826600327,0.8630440636988065,0.8609523821233658,0.8587187833073135,0.8563233173932167,0.8537410584115571,0.8509401968297863,0.8478790891451844,0.8445014789271041,0.8407282996712199,0.8364425456022508,0.830159703067826,0.8205704935179058,0.8097411794290642,0.7963713242674331,0.7664886134429691],\"y\":{\"__ndarray__\":\"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\",\"dtype\":\"float64\",\"shape\":[200]}},\"selected\":{\"id\":\"1096\"},\"selection_policy\":{\"id\":\"1095\"}},\"id\":\"1051\",\"type\":\"ColumnDataSource\"},{\"attributes\":{},\"id\":\"1024\",\"type\":\"HelpTool\"},{\"attributes\":{\"data\":{\"x\":[0.10463543277635971,0.10773466747466581,0.11082943243631432,0.11391976602459244,0.11700570652428623,0.12008729214684292,0.12316456103553267,0.12623755127062122,0.1293063008745467,0.13237084781711608,0.135431230020706,0.13848748536549751,0.1415396516947186,0.14458776681992064,0.1476318685262784,0.15067199457792507,0.15370818272331513,0.15674047070063504,0.15976889624324656,0.1627934970851792,0.16581431096666865,0.168831375639746,0.1718447288738853,0.174854408461707,0.17786045222474178,0.1808628980192668,0.18386178374220352,0.1868571473370974,0.18984902680016813,0.19283746018644715,0.1958224856159976,0.1988041412802282,0.20178246544829667,0.20475749647361954,0.20772927280047926,0.21069783297074524,0.2136632156307052,0.21662545953801826,0.21958460356879073,0.22254068672478175,0.22549374814074583,0.2284438270919146,0.23139096300162515,0.23433519544910794,0.23727656417742532,0.2402151091015838,0.24315087031681676,0.24608388810705098,0.24901420295355742,0.25194185554380044,0.2548668867804918,0.2577893377908549,0.26070924993611316,0.2636266648212068,0.26654162430474865,0.26945417050923487,0.2723643458315078,0.2752721929534968,0.2781777548532382,0.28108107481618866,0.283982196446843,0.28688116368067745,0.289778020796417,0.29267281242865517,0.2955655835808308,0.29845637963858335,0.3013452463835007,0.30423223000727556,0.3071173771262892,0.3100007347966424,0.31288235052965147,0.3157622723078257,0.31864054860136376,0.32151722838516805,0.32439236115642106,0.32726599695274333,0.3301381863709522,0.33300898058645706,0.335878431373325,0.33874659112503563,0.341613512875966,0.34447925032364524,0.347343857851806,0.35020739055427547,0.35306990425975604,0.3559314555575212,0.35879210182409854,0.3616519012509646,0.3645109128733215,0.3673691966000007,0.3702268132445692,0.3730838245576769,0.37594029326073347,0.3787962830809842,0.3816518587880467,0.38450708623200913,0.3873620323831654,0.3902167653734842,0.39307135453991227,0.3959258704696145,0.39878038504727154,0.40163497150455096,0.4044897044718845,0.40734466003269376,0.4101999157802111,0.4130555508770611,0.4159116461177699,0.41876828399439775,0.4216255487654872,0.4244835265285423,0.4273423052962814,0.4302019750769036,0.4330626279586333,0.4359243581988596,0.4387872623181525,0.4416514391995171,0.4445169901932488,0.4473840192277833,0.4502526329269728,0.45312294073425907,0.45599505504424775,0.4588690913422255,0.46174516835223184,0.4646234081943222,0.4675039365517282,0.47038688284869357,0.4732723804398154,0.4761605668118046,0.47905158379867074,0.4819455778114206,0.484842700083459,0.4877431069330135,0.4906469600440108,0.4935544267669851,0.4964656804417578,0.4993809007434052,0.5023002740563413,0.5052239938706982,0.5081522612171541,0.511085285129478,0.5140232831461086,0.516966481851515,0.519915117461936,0.5228694364592964,0.5258296962783627,0.5287961660536038,0.5317691274301077,0.5347488754468431,0.5377357194995172,0.5407299843908996,0.5437320114841906,0.546742159957529,0.5497608081892001,0.5527883552763788,0.5558252227133724,0.5588718562220025,0.5619287278180393,0.5649963380613241,0.5680752185754063,0.5711659348501194,0.5742690893711987,0.5773853251246537,0.5805153295321034,0.583659838883549,0.586819643346561,0.5899955926461606,0.5931886025284906,0.5963996621446532,0.5996298425200967,0.6028803063112379,0.6061523190968671,0.6094472625101119,0.6127666495913762,0.6161121428390267,0.619485575560187,0.6228889772891821,0.6263246042606968,0.6297949762196684,0.6333029212509148,0.636851630863692,0.6404447283375878,0.6440863544294573,0.6477812761176275,0.6515350263739565,0.6553540864281336,0.6592461272953692,0.6632203357252435,0.6672878632471944,0.6714624596421334,0.6757613914795277,0.6802068176791449,0.6848279302866653,0.6896644454734605,0.6947726364918647,0.7002365627386641,0.706178115645264,0.7128556794216552,0.7208032853408032,0.7314487923850935,0.7664886134429691],\"y\":{\"__ndarray__\":\"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\",\"dtype\":\"float64\",\"shape\":[200]}},\"selected\":{\"id\":\"1064\"},\"selection_policy\":{\"id\":\"1063\"}},\"id\":\"1037\",\"type\":\"ColumnDataSource\"},{\"attributes\":{\"line_color\":\"blue\",\"line_width\":2,\"x\":{\"field\":\"x\"},\"y\":{\"field\":\"y\"}},\"id\":\"1038\",\"type\":\"Line\"},{\"attributes\":{\"source\":{\"id\":\"1076\"}},\"id\":\"1080\",\"type\":\"CDSView\"},{\"attributes\":{\"data\":{\"x\":[0.37983534735088054,0.9446150957228581],\"y\":[-18.759570375783227,-18.759570375783227]},\"selected\":{\"id\":\"1104\"},\"selection_policy\":{\"id\":\"1103\"}},\"id\":\"1081\",\"type\":\"ColumnDataSource\"},{\"attributes\":{},\"id\":\"1046\",\"type\":\"BasicTickFormatter\"},{\"attributes\":{},\"id\":\"1023\",\"type\":\"ResetTool\"},{\"attributes\":{\"data\":{\"x\":[0.9446150957586825,0.9443573804559233,0.9440995376261663,0.9438415667883997,0.9435834674584621,0.9433252391490151,0.9430668813695162,0.9428083936261913,0.9425497754220082,0.9422910262566502,0.9420321456264836,0.9417731330245352,0.9415139879404592,0.9412547098605106,0.9409952982675164,0.9407357526408441,0.9404760724563745,0.9402162571864698,0.9399563062999446,0.9396962192620335,0.9394359955343629,0.9391756345749174,0.9389151358380079,0.9386544987742426,0.9383937228304922,0.938132807449858,0.9378717520716394,0.9376105561312996,0.9373492190604339,0.9370877402867333,0.9368261192339526,0.9365643553218751,0.9363024479662748,0.9360403965788867,0.9357782005673654,0.9355158593352517,0.9352533722819367,0.9349907388026227,0.934727958288289,0.9344650301256507,0.9342019536971228,0.9339387283807814,0.9336753535503252,0.9334118285750356,0.9331481528197362,0.9328843256447545,0.9326203464058794,0.9323562144543238,0.9320919291366768,0.9318274897948685,0.9315628957661239,0.9312981463829204,0.9310332409729458,0.9307681788590537,0.9305029593592189,0.9302375817864942,0.9299720454489644,0.9297063496496998,0.9294404936867103,0.9291744768529017,0.9289082984360231,0.9286419577186238,0.9283754539780034,0.9281087864861628,0.9278419545097546,0.9275749573100359,0.9273077941428134,0.9270404642583956,0.9267729669015415,0.926505301311407,0.9262374667214922,0.92596946235959,0.9257012874477292,0.9254329412021236,0.9251644228331141,0.9248957315451141,0.924626866536552,0.9243578269998175,0.9240886121211994,0.9238192210808314,0.9235496530526294,0.9232799072042356,0.9230099826969562,0.922739878685699,0.922469594318914,0.9221991287385316,0.9219284810798968,0.921657650471706,0.9213866360359454,0.9211154368878197,0.9208440521356929,0.9205724808810158,0.9203007222182624,0.9200287752348573,0.9197566390111104,0.919484312620144,0.9192117951278234,0.9189390855926846,0.9186661830658622,0.3540889475110505],\"y\":{\"__ndarray__\":\"oBjh3g19Q0AuMmClJnNDQLxL32s/aUNASmVeMlhfQ0DZft34cFVDQGeYXL+JS0NA9bHbhaJBQ0CDy1pMuzdDQBHl2RLULUNAn/5Y2ewjQ0AtGNifBRpDQLwxV2YeEENASkvWLDcGQ0DYZFXzT/xCQGZ+1Llo8kJA9JdTgIHoQkCCsdJGmt5CQBDLUQ2z1EJAn+TQ08vKQkAt/k+a5MBCQLsXz2D9tkJASTFOJxatQkDXSs3tLqNCQGVkTLRHmUJA833LemCPQkCCl0pBeYVCQBCxyQeSe0JAnspIzqpxQkAs5MeUw2dCQLr9RlvcXUJASBfGIfVTQkDWMEXoDUpCQGRKxK4mQEJA82NDdT82QkCBfcI7WCxCQA+XQQJxIkJAnbDAyIkYQkAryj+Pog5CQLnjvlW7BEJASP09HNT6QUDWFr3i7PBBQGQwPKkF50FA8km7bx7dQUCAYzo2N9NBQA59ufxPyUFAnJY4w2i/QUAqsLeJgbVBQLnJNlCaq0FAR+O1FrOhQUDV/DTdy5dBQGMWtKPkjUFA8S8zav2DQUB/SbIwFnpBQA5jMfcucEFAnHywvUdmQUAqli+EYFxBQLivrkp5UkFARsktEZJIQUDU4qzXqj5BQGL8K57DNEFA8BWrZNwqQUB/Lyor9SBBQA1JqfENF0FAm2IouCYNQUApfKd+PwNBQLeVJkVY+UBARa+lC3HvQEDTyCTSieVAQGLio5ii20BA8PsiX7vRQEB+FaIl1MdAQAwvIezsvUBAmkigsgW0QEAoYh95HqpAQLZ7nj83oEBARJUdBlCWQEDTrpzMaIxAQGHIG5OBgkBA7+GaWZp4QEB9+xkgs25AQAsVmebLZEBAmS4YreRaQEAoSJdz/VBAQLZhFjoWR0BARHuVAC89QEDSlBTHRzNAQGCuk41gKUBA7scSVHkfQEB84ZEakhVAQAr7EOGqC0BAmRSQp8MBQEBOXB7cuO8/QGqPHGnq2z9AhsIa9hvIP0Ci9RiDTbQ/QL8oFxB/oD9A21sVnbCMP0D3jhMq4ng/QBTCEbcTZT9AMPUPREVRP0A=\",\"dtype\":\"float64\",\"shape\":[100]}},\"selected\":{\"id\":\"1100\"},\"selection_policy\":{\"id\":\"1099\"}},\"id\":\"1071\",\"type\":\"ColumnDataSource\"},{\"attributes\":{},\"id\":\"1104\",\"type\":\"Selection\"},{\"attributes\":{\"data_source\":{\"id\":\"1066\"},\"glyph\":{\"id\":\"1067\"},\"hover_glyph\":null,\"muted_glyph\":null,\"nonselection_glyph\":{\"id\":\"1068\"},\"selection_glyph\":null,\"view\":{\"id\":\"1070\"}},\"id\":\"1069\",\"type\":\"GlyphRenderer\"},{\"attributes\":{\"items\":[{\"id\":\"1050\"},{\"id\":\"1065\"}],\"location\":\"top_left\"},\"id\":\"1049\",\"type\":\"Legend\"},{\"attributes\":{\"source\":{\"id\":\"1066\"}},\"id\":\"1070\",\"type\":\"CDSView\"},{\"attributes\":{\"data_source\":{\"id\":\"1081\"},\"glyph\":{\"id\":\"1082\"},\"hover_glyph\":null,\"muted_glyph\":null,\"nonselection_glyph\":{\"id\":\"1083\"},\"selection_glyph\":null,\"view\":{\"id\":\"1085\"}},\"id\":\"1084\",\"type\":\"GlyphRenderer\"},{\"attributes\":{\"line_alpha\":0.1,\"line_color\":\"green\",\"line_width\":2,\"x\":{\"field\":\"x\"},\"y\":{\"field\":\"y\"}},\"id\":\"1073\",\"type\":\"Line\"},{\"attributes\":{\"label\":{\"value\":\"Curva de L\\u00edquido Saturado\"},\"renderers\":[{\"id\":\"1040\"}]},\"id\":\"1050\",\"type\":\"LegendItem\"},{\"attributes\":{\"line_color\":\"green\",\"line_width\":2,\"x\":{\"field\":\"x\"},\"y\":{\"field\":\"y\"}},\"id\":\"1082\",\"type\":\"Line\"},{\"attributes\":{},\"id\":\"1012\",\"type\":\"BasicTicker\"},{\"attributes\":{},\"id\":\"1016\",\"type\":\"BasicTicker\"},{\"attributes\":{\"data\":{\"x\":[0.9446150957228581,0.9446150957228581],\"y\":[-18.759570375783227,38.97698579779649]},\"selected\":{\"id\":\"1098\"},\"selection_policy\":{\"id\":\"1097\"}},\"id\":\"1066\",\"type\":\"ColumnDataSource\"},{\"attributes\":{\"line_alpha\":0.1,\"line_color\":\"green\",\"line_width\":2,\"x\":{\"field\":\"x\"},\"y\":{\"field\":\"y\"}},\"id\":\"1083\",\"type\":\"Line\"},{\"attributes\":{\"axis\":{\"id\":\"1011\"},\"ticker\":null},\"id\":\"1014\",\"type\":\"Grid\"},{\"attributes\":{\"line_color\":\"green\",\"line_width\":2,\"x\":{\"field\":\"x\"},\"y\":{\"field\":\"y\"}},\"id\":\"1072\",\"type\":\"Line\"},{\"attributes\":{\"source\":{\"id\":\"1081\"}},\"id\":\"1085\",\"type\":\"CDSView\"},{\"attributes\":{\"axis_label\":\"Temperatura (\\u00b0C)\",\"formatter\":{\"id\":\"1046\"},\"ticker\":{\"id\":\"1016\"}},\"id\":\"1015\",\"type\":\"LinearAxis\"},{\"attributes\":{\"data_source\":{\"id\":\"1051\"},\"glyph\":{\"id\":\"1052\"},\"hover_glyph\":null,\"muted_glyph\":null,\"nonselection_glyph\":{\"id\":\"1053\"},\"selection_glyph\":null,\"view\":{\"id\":\"1055\"}},\"id\":\"1054\",\"type\":\"GlyphRenderer\"}],\"root_ids\":[\"1002\"]},\"title\":\"Bokeh Application\",\"version\":\"2.0.2\"}};\n",
       "  var render_items = [{\"docid\":\"50672cfa-afcc-4cc1-a0e0-0fccbc6780b9\",\"root_ids\":[\"1002\"],\"roots\":{\"1002\":\"a4d802b0-3162-4df5-a43f-5733f1ddb92f\"}}];\n",
       "  root.Bokeh.embed.embed_items_notebook(docs_json, render_items);\n",
       "\n",
       "  }\n",
       "  if (root.Bokeh !== undefined) {\n",
       "    embed_document(root);\n",
       "  } else {\n",
       "    var attempts = 0;\n",
       "    var timer = setInterval(function(root) {\n",
       "      if (root.Bokeh !== undefined) {\n",
       "        clearInterval(timer);\n",
       "        embed_document(root);\n",
       "      } else {\n",
       "        attempts++;\n",
       "        if (attempts > 100) {\n",
       "          clearInterval(timer);\n",
       "          console.log(\"Bokeh: ERROR: Unable to run BokehJS code because BokehJS library is missing\");\n",
       "        }\n",
       "      }\n",
       "    }, 10, root)\n",
       "  }\n",
       "})(window);"
      ],
      "application/vnd.bokehjs_exec.v0+json": ""
     },
     "metadata": {
      "application/vnd.bokehjs_exec.v0+json": {
       "id": "1002"
      }
     },
     "output_type": "display_data"
    }
   ],
   "source": [
    "from bokeh.plotting import *\n",
    "\n",
    "# Criando um arquivo estático em html\n",
    "output_file(\"Rankine.html\")\n",
    "\n",
    "output_notebook()\n",
    "\n",
    "p = figure(plot_width=600, plot_height=600)\n",
    "\n",
    "p.title.text = 'Ciclo Ideal de Rankine'\n",
    "p.title.align = 'center'\n",
    "p.title.text_color = 'black'\n",
    "p.title.text_font_size = '30px'\n",
    "p.xaxis[0].axis_label = 'Entropia (kJ/(kg K)'\n",
    "p.yaxis[0].axis_label = 'Temperatura (°C)'\n",
    "\n",
    "\n",
    "p.line(sliq, npt, legend_label = 'Curva de Líquido Saturado', line_width = 2, color = 'blue')\n",
    "p.line(svap, npt, legend_label = 'Curva de Vapor Saturado', line_width = 2, color = 'red')\n",
    "\n",
    "\n",
    "p.line(s12, T12, line_width = 2, color = 'green')\n",
    "p.line(s23, T23, line_width = 2, color = 'green')\n",
    "p.line(s34, T34, line_width = 2, color = 'green')\n",
    "p.line(s41, T41, line_width = 2, color = 'green')\n",
    "p.legend.location = \"top_left\"\n",
    "\n",
    "# Exibir o Gráfico\n",
    "show(p)"
   ]
  },
  {
   "cell_type": "code",
   "execution_count": null,
   "metadata": {},
   "outputs": [],
   "source": []
  },
  {
   "cell_type": "code",
   "execution_count": null,
   "metadata": {},
   "outputs": [],
   "source": []
  }
 ],
 "metadata": {
  "kernelspec": {
   "display_name": "Python 3",
   "language": "python",
   "name": "python3"
  },
  "language_info": {
   "codemirror_mode": {
    "name": "ipython",
    "version": 3
   },
   "file_extension": ".py",
   "mimetype": "text/x-python",
   "name": "python",
   "nbconvert_exporter": "python",
   "pygments_lexer": "ipython3",
   "version": "3.7.7"
  }
 },
 "nbformat": 4,
 "nbformat_minor": 4
}
