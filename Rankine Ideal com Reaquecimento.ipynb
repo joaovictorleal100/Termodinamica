{
 "cells": [
  {
   "cell_type": "markdown",
   "metadata": {
    "slideshow": {
     "slide_type": "slide"
    }
   },
   "source": [
    "# Máquinas Térmicas\n",
    " _Prof. Tito Dias Júnior_"
   ]
  },
  {
   "cell_type": "markdown",
   "metadata": {
    "slideshow": {
     "slide_type": "slide"
    }
   },
   "source": [
    "### Ciclo de Rankine Ideal com Reaquecimento"
   ]
  },
  {
   "cell_type": "markdown",
   "metadata": {
    "slideshow": {
     "slide_type": "slide"
    }
   },
   "source": [
    "\n",
    "### **Exemplo:**\n",
    "Considere uma usina a vapor que opera segundo o ciclo de Rankine ideal com reaquecimento.\n",
    "O vapor entra na turbina de alta pressão a 15 MPa e 600 °C e é condensado\n",
    "no condensador a uma pressão de 10 kPa. Considerando que o conteúdo\n",
    "de umidade do vapor na saída da turbina de baixa pressão não deve exceder 10,4%,\n",
    "determine:\n",
    "\n",
    "(a) a pressão na qual o vapor deve ser reaquecido e \n",
    "\n",
    "(b) a eficiência térmica do ciclo. \n",
    "\n",
    "Considere que o vapor é reaquecido até a mesma temperatura de entrada da turbina de alta pressão."
   ]
  },
  {
   "cell_type": "markdown",
   "metadata": {
    "slideshow": {
     "slide_type": "slide"
    }
   },
   "source": [
    "![Esquema](Exemplo_10.4.png \"Ciclo de Rankine com Reaquecimento\")"
   ]
  },
  {
   "cell_type": "markdown",
   "metadata": {
    "slideshow": {
     "slide_type": "slide"
    }
   },
   "source": [
    "## Solução"
   ]
  },
  {
   "cell_type": "markdown",
   "metadata": {
    "slideshow": {
     "slide_type": "fragment"
    }
   },
   "source": [
    "Para a solução do problema devemos analisar o diagrama T-s para o ciclo ideal de Rankine e, partindo da definição, calcular a eficiência térmica do ciclo e determinar a pressão na qual o vapor deve ser reaquicido, considerando \n",
    "\n",
    "Podemos construir o diagrama abaixo, desprezando as perdas de carga no evaporador e condensador, considerando a bomba e a turbina isentrópicas e o ciclo operando em regime permanente."
   ]
  },
  {
   "cell_type": "markdown",
   "metadata": {
    "slideshow": {
     "slide_type": "slide"
    }
   },
   "source": [
    "![Diagrama](Diagrama_10.4.png \"Diagrama T-s para o Ciclo de Rankine com Reaquecimento\")"
   ]
  },
  {
   "cell_type": "markdown",
   "metadata": {
    "slideshow": {
     "slide_type": "slide"
    }
   },
   "source": [
    "Começamos obtendo as propriedades do fluido de trabalho (Água) nos estados de interesse. Para isso vamos usar a biblioteca de propriedades de fluidos CoolProp (http://www.coolprop.org) e definir a água (water) como fluido de trabalho."
   ]
  },
  {
   "cell_type": "code",
   "execution_count": 4,
   "metadata": {
    "slideshow": {
     "slide_type": "fragment"
    }
   },
   "outputs": [],
   "source": [
    "from CoolProp import CoolProp as cp\n",
    "fluido = 'Water'"
   ]
  },
  {
   "cell_type": "markdown",
   "metadata": {
    "slideshow": {
     "slide_type": "slide"
    }
   },
   "source": [
    "Para o estado 1, temos líquido saturado a $P_1=10kPa = 0,010MPa$:\n"
   ]
  },
  {
   "cell_type": "code",
   "execution_count": 5,
   "metadata": {
    "slideshow": {
     "slide_type": "fragment"
    }
   },
   "outputs": [
    {
     "name": "stdout",
     "output_type": "stream",
     "text": [
      "h1= 191.806 kJ/kg\n",
      "v1= 0.001 kJ/kg\n",
      "s1= 0.649 kJ/kg\n",
      "T1= 45.806 °C\n"
     ]
    }
   ],
   "source": [
    "P1 = 0.010 #Unidade em MPa, a conversão para Pa será feita na chamada à função abaixo.\n",
    "Q1 = 0    # Título igual a zero para líquido saturado\n",
    "h1 = cp.PropsSI('H', 'P', P1 * 1E6, 'Q', Q1, fluido) * 1E-3 #Determinando a entalpia e convertendo para kJ/kg\n",
    "v1 = 1/cp.PropsSI('D', 'P', P1 * 1E6, 'Q', Q1, fluido)  #Determinando a densidade e invertendo para obter o volume específico (m^3/kg)\n",
    "s1 = cp.PropsSI('S', 'P', P1 * 1E6, 'Q', Q1, fluido) * 1E-3 #Determinando a entropia e convertendo para kJ/kg\n",
    "T1 = cp.PropsSI('T', 'P', P1 * 1E6, 'Q', Q1, fluido)        #Determinando a temperatura em K\n",
    "print('h1= {:.3f} kJ/kg'.format(h1))\n",
    "print('v1= {:.3f} kJ/kg'.format(v1))\n",
    "print('s1= {:.3f} kJ/kg'.format(s1))\n",
    "print('T1= {:.3f} °C'.format(T1-273.15))"
   ]
  },
  {
   "cell_type": "markdown",
   "metadata": {
    "slideshow": {
     "slide_type": "slide"
    }
   },
   "source": [
    "Para o estado 2, temos líquido comprimido a $P_2=15,0MPa$ e $s_2=s_1$ (bomba isentrópica):\n"
   ]
  },
  {
   "cell_type": "code",
   "execution_count": 6,
   "metadata": {
    "slideshow": {
     "slide_type": "fragment"
    }
   },
   "outputs": [
    {
     "name": "stdout",
     "output_type": "stream",
     "text": [
      "h2= 206.902 kJ/kg\n",
      "T2= 46.305 °C\n"
     ]
    }
   ],
   "source": [
    "P2 = 15 #Unidade em MPa, a conversão para Pa será feita na chamada à função abaixo.\n",
    "s2 = s1    # Título igual a um para vapor saturado\n",
    "h2 = cp.PropsSI('H', 'P', P2 * 1E6, 'S', s2*1E3, fluido) * 1E-3 #Determinando a entalpia e convertendo para kJ/kg\n",
    "T2 = cp.PropsSI('T', 'P', P2 * 1E6, 'S', s2*1E3, fluido) #Determinando a temperatura em K\n",
    "print('h2= {:.3f} kJ/kg'.format(h2))\n",
    "print('T2= {:.3f} °C'.format(T2-273.15))"
   ]
  },
  {
   "cell_type": "markdown",
   "metadata": {
    "slideshow": {
     "slide_type": "slide"
    }
   },
   "source": [
    "Do diagrama T-s, observamos que no estado 3 temos vapor superaquecido a $P_3=15,0MPa$ e $T_3=600°C$:\n"
   ]
  },
  {
   "cell_type": "code",
   "execution_count": 7,
   "metadata": {
    "slideshow": {
     "slide_type": "fragment"
    }
   },
   "outputs": [
    {
     "name": "stdout",
     "output_type": "stream",
     "text": [
      "h3= 3583.132 kJ/kg\n",
      "T3= 600.000 °C\n"
     ]
    }
   ],
   "source": [
    "P3=P2 #Unidade em MPa, a conversão para Pa será feita na chamada à função abaixo.\n",
    "T3=600 + 273.15   # Temperatura em °C, a conversão para K será feita na chamada à função abaixo.\n",
    "h3 = cp.PropsSI('H', 'P', P3 * 1E6, 'T', T3, fluido) * 1E-3 #Determinando a entalpia e convertendo para kJ/kg\n",
    "s3 = cp.PropsSI('S', 'P', P3 * 1E6, 'T', T3, fluido) * 1E-3 #Determinando a entalpia e convertendo para kJ/kg\n",
    "print('h3= {:.3f} kJ/kg'.format(h3))\n",
    "print('T3= {:.3f} °C'.format(T3-273.15))"
   ]
  },
  {
   "cell_type": "markdown",
   "metadata": {
    "slideshow": {
     "slide_type": "slide"
    }
   },
   "source": [
    "No Estado 4 teremos $P_4 = 4MPa$ e $s_3=s_4$ e, para determinar a entalpia:\n"
   ]
  },
  {
   "cell_type": "code",
   "execution_count": 12,
   "metadata": {
    "slideshow": {
     "slide_type": "fragment"
    }
   },
   "outputs": [
    {
     "name": "stdout",
     "output_type": "stream",
     "text": [
      "h4= 3153.875 kJ/kg\n",
      "s4= 6.680 kJ/kg\n",
      "T4= 374.657 °C\n"
     ]
    }
   ],
   "source": [
    "s4 = s3 #Turbina isentrópica\n",
    "P4 = 4 #Unidade em MPa, a conversão para Pa será feita na chamada à função abaixo.\n",
    "h4 = cp.PropsSI('H', 'S', s4 * 1E3, 'P', P4*1E6, fluido)*1e-3\n",
    "T4 = cp.PropsSI('T', 'S', s4 * 1E3, 'P', P4*1E6, fluido)  #Determinando a entalpia e convertendo para kJ/kg\n",
    "print('h4= {:.3f} kJ/kg'.format(h4))\n",
    "print('s4= {:.3f} kJ/kg'.format(s4))\n",
    "print('T4= {:.3f} °C'.format(T4-273.15))"
   ]
  },
  {
   "cell_type": "markdown",
   "metadata": {
    "slideshow": {
     "slide_type": "slide"
    }
   },
   "source": [
    "No Estado 6, a umidade no vapor não deve exceder 10,4%, portanto o título deve ser no mínimo $Q_6=0,894$ para uma pressão de saturação $P_6=10kPa$ e podemos determinar a entalpia e entropia:"
   ]
  },
  {
   "cell_type": "code",
   "execution_count": 19,
   "metadata": {
    "slideshow": {
     "slide_type": "fragment"
    }
   },
   "outputs": [
    {
     "name": "stdout",
     "output_type": "stream",
     "text": [
      "h6= 2330.301 kJ/kg\n",
      "v6= 13.115 kJ/kg\n",
      "s6= 7.354 kJ/kg\n",
      "T6= 45.806 °C\n"
     ]
    }
   ],
   "source": [
    "P6 = 0.010 #Unidade em MPa, a conversão para Pa será feita na chamada à função abaixo.\n",
    "Q6 = 0.894    # Título especificado\n",
    "h6 = cp.PropsSI('H', 'P', P6 * 1E6, 'Q', Q6, fluido) * 1E-3 #Determinando a entalpia e convertendo para kJ/kg\n",
    "v6 = 1/cp.PropsSI('D', 'P', P6 * 1E6, 'Q', Q6, fluido)  #Determinando a densidade e invertendo para obter o volume específico (m^3/kg)\n",
    "s6 = cp.PropsSI('S', 'P', P6 * 1E6, 'Q', Q6, fluido) * 1E-3 #Determinando a entropia e convertendo para kJ/kg\n",
    "T6 = cp.PropsSI('T', 'P', P6 * 1E6, 'Q', Q6, fluido)        #Determinando a temperatura em K\n",
    "print('h6= {:.3f} kJ/kg'.format(h6))\n",
    "print('v6= {:.3f} kJ/kg'.format(v6))\n",
    "print('s6= {:.3f} kJ/kg'.format(s6))\n",
    "print('T6= {:.3f} °C'.format(T6-273.15))"
   ]
  },
  {
   "cell_type": "markdown",
   "metadata": {
    "slideshow": {
     "slide_type": "slide"
    }
   },
   "source": [
    "No Estado 5 teremos $T_5 = 600°C$ e $s_5=s_6$ e, para determinar a entalpia:\n"
   ]
  },
  {
   "cell_type": "code",
   "execution_count": 20,
   "metadata": {
    "slideshow": {
     "slide_type": "fragment"
    }
   },
   "outputs": [
    {
     "name": "stdout",
     "output_type": "stream",
     "text": [
      "h5= 3673.760 kJ/kg\n"
     ]
    }
   ],
   "source": [
    "s5 = s6 #Turbina isentrópica\n",
    "T5 = 600 + 273.15 #Unidade em K\n",
    "h5 = cp.PropsSI('H', 'S', s5 * 1E3, 'T', T5, fluido)*1e-3\n",
    "print('h5= {:.3f} kJ/kg'.format(h5))"
   ]
  },
  {
   "cell_type": "markdown",
   "metadata": {
    "slideshow": {
     "slide_type": "slide"
    }
   },
   "source": [
    "Do diagrama T-s, observamos que a pressão de reaquecimento corresponde a $P_5$:\n"
   ]
  },
  {
   "cell_type": "code",
   "execution_count": 24,
   "metadata": {
    "slideshow": {
     "slide_type": "fragment"
    }
   },
   "outputs": [
    {
     "name": "stdout",
     "output_type": "stream",
     "text": [
      "P5 = 4.138 MPa:\n"
     ]
    }
   ],
   "source": [
    "P5 = cp.PropsSI('P', 'S', s5 * 1E3, 'T', T5, fluido) * 1e-6\n",
    "print('P5 = {:.3f} MPa:'.format(P5))"
   ]
  },
  {
   "cell_type": "markdown",
   "metadata": {
    "slideshow": {
     "slide_type": "slide"
    }
   },
   "source": [
    "Para calcular a eficiência térmica podemos utilizar a fórmula $\\eta=1-\\frac{q_{sai}}{q_{ent}}$, e $q_{sai}=h_6-h_1$ e $q_{ent}=(h_3-h_2)+(h_5-h_4)$: "
   ]
  },
  {
   "cell_type": "code",
   "execution_count": 26,
   "metadata": {
    "slideshow": {
     "slide_type": "fragment"
    }
   },
   "outputs": [
    {
     "name": "stdout",
     "output_type": "stream",
     "text": [
      "Q_sai= 2138.495 kJ/kg\n",
      "Q_ent= 3896.115 kJ/kg\n",
      "Eficiência = 0.451 \n"
     ]
    }
   ],
   "source": [
    "Q_sai = (h6-h1)\n",
    "Q_ent = (h3-h2)+(h5-h4)\n",
    "eta = 1-Q_sai/Q_ent\n",
    "print('Q_sai= {:.3f} kJ/kg'.format(Q_sai))\n",
    "print('Q_ent= {:.3f} kJ/kg'.format(Q_ent))\n",
    "print('Eficiência = {:.3f} '.format(eta))"
   ]
  },
  {
   "cell_type": "markdown",
   "metadata": {
    "slideshow": {
     "slide_type": "slide"
    }
   },
   "source": [
    "## Diagrama T-s - Ciclo de Rankine\n",
    "\n",
    "#### Processos termodinâmicos considerados:\n",
    "\n",
    "- Processo 1 a 2 : Compressão isentrópica   (s2 = s1); <br> \n",
    "- Processo 2 a 3 : Aquecimento isobárico    (P3 = P2); <br>\n",
    "- Processo 3 a 4 : Expansão isentrópica     (s4 = s3); <br>\n",
    "- Processo 4 a 5 : Aquecimento isobárico    (P4 = P5); <br>\n",
    "- Processo 5 a 6 : Expansão isentrópica     (s5 = s6); <br>\n",
    "- Processo 6 a 1 : Resfriamento isobárico   (P6 = P1)."
   ]
  },
  {
   "cell_type": "markdown",
   "metadata": {
    "slideshow": {
     "slide_type": "slide"
    }
   },
   "source": [
    "Para plotar o Diagrama T-s, precisamos utilizar a biblioteca matplotlib para mostrar o gráfico e a biblioteca numpy para poder gerar os vetores que serão plotados."
   ]
  },
  {
   "cell_type": "markdown",
   "metadata": {
    "slideshow": {
     "slide_type": "fragment"
    }
   },
   "source": [
    "Construindo o diagrama T - s:"
   ]
  },
  {
   "cell_type": "code",
   "execution_count": 33,
   "metadata": {
    "slideshow": {
     "slide_type": "slide"
    }
   },
   "outputs": [
    {
     "data": {
      "image/png": "[encoded data removed]",
      "text/plain": [
       "<Figure size 432x288 with 1 Axes>"
      ]
     },
     "metadata": {
      "needs_background": "light"
     },
     "output_type": "display_data"
    }
   ],
   "source": [
    "import matplotlib.pyplot as plt\n",
    "import numpy as np\n",
    "\n",
    "plt.figure() # Define a saída do gráfico\n",
    "\n",
    "## Curvas de saturação de líquido (Q=0) e vapor (Q=1) para temperatura variando entre 10°C e 647.096K (T crítica)\n",
    "npt = np.linspace(30,647.096-273.15,200) # Gera um vetor com 200 elementos para o intervalo de temperatura \n",
    "svap = [s for s in [cp.PropsSI('S', 'T', j + 273.15, 'Q', 1, fluido) * 1E-3 for j in npt]]\n",
    "sliq = [s for s in [cp.PropsSI('S', 'T', j + 273.15, 'Q', 0, fluido) * 1E-3 for j in npt]]\n",
    "plt.plot(svap, npt, 'r-')\n",
    "plt.plot(sliq, npt, 'b-')\n",
    "\n",
    "### Conjunto de processos  (s,T)\n",
    "\n",
    "T12 = [T1-273.15, T2-273.15] \n",
    "s12 = [s1, s2]\n",
    "\n",
    "T23=np.linspace(T2-273.15,T3-273.15,100)\n",
    "s23 = [s for s in [cp.PropsSI('S', 'T', j+273.15 , 'P', P3*1E6, fluido) * 1E-3 for j in T23]]\n",
    "\n",
    "T34 = [T3-273.15, T4-273.15]\n",
    "s34 = [s3, s4]\n",
    "\n",
    "T45 = np.linspace(T4-273.15,T5-273.15,100)\n",
    "s45 = [s for s in [cp.PropsSI('S', 'T', j+273.15 , 'P', P5*1E6, fluido) * 1E-3 for j in T45]]\n",
    "\n",
    "T56 = [T5-273.15, T6-273.15]\n",
    "s56 = [s5, s6]\n",
    "\n",
    "T61 = [T6-273.15, T1-273.15]\n",
    "s61 = [s6,s1]"
   ]
  },
  {
   "cell_type": "code",
   "execution_count": 34,
   "metadata": {
    "slideshow": {
     "slide_type": "slide"
    }
   },
   "outputs": [
    {
     "data": {
      "image/png": "[encoded data removed]",
      "text/plain": [
       "<Figure size 432x288 with 1 Axes>"
      ]
     },
     "metadata": {
      "needs_background": "light"
     },
     "output_type": "display_data"
    }
   ],
   "source": [
    "plt.plot(s12,T12,'g')\n",
    "plt.plot(s23,T23,'g')\n",
    "plt.plot(s34,T34,'g')\n",
    "plt.plot(s45,T45,'g')\n",
    "plt.plot(s56,T56,'g')\n",
    "plt.plot(s61,T61,'g')\n",
    "\n",
    "\n",
    "plt.xlabel('Entropia (kJ/(kg K)')\n",
    "plt.ylabel('Temperatura (°C)')\n",
    "plt.savefig('Rankine.png', transparent = True)\n",
    "plt.grid()\n",
    "plt.show()"
   ]
  },
  {
   "cell_type": "code",
   "execution_count": 35,
   "metadata": {
    "slideshow": {
     "slide_type": "slide"
    }
   },
   "outputs": [
    {
     "data": {
      "text/html": [
       "\n",
       "    <div class=\"bk-root\">\n",
       "        <a href=\"https://bokeh.org\" target=\"_blank\" class=\"bk-logo bk-logo-small bk-logo-notebook\"></a>\n",
       "        <span id=\"4420\">Loading BokehJS ...</span>\n",
       "    </div>"
      ]
     },
     "metadata": {},
     "output_type": "display_data"
    },
    {
     "data": {
      "application/javascript": [
       "\n",
       "(function(root) {\n",
       "  function now() {\n",
       "    return new Date();\n",
       "  }\n",
       "\n",
       "  var force = true;\n",
       "\n",
       "  if (typeof root._bokeh_onload_callbacks === \"undefined\" || force === true) {\n",
       "    root._bokeh_onload_callbacks = [];\n",
       "    root._bokeh_is_loading = undefined;\n",
       "  }\n",
       "\n",
       "  var JS_MIME_TYPE = 'application/javascript';\n",
       "  var HTML_MIME_TYPE = 'text/html';\n",
       "  var EXEC_MIME_TYPE = 'application/vnd.bokehjs_exec.v0+json';\n",
       "  var CLASS_NAME = 'output_bokeh rendered_html';\n",
       "\n",
       "  /**\n",
       "   * Render data to the DOM node\n",
       "   */\n",
       "  function render(props, node) {\n",
       "    var script = document.createElement(\"script\");\n",
       "    node.appendChild(script);\n",
       "  }\n",
       "\n",
       "  /**\n",
       "   * Handle when an output is cleared or removed\n",
       "   */\n",
       "  function handleClearOutput(event, handle) {\n",
       "    var cell = handle.cell;\n",
       "\n",
       "    var id = cell.output_area._bokeh_element_id;\n",
       "    var server_id = cell.output_area._bokeh_server_id;\n",
       "    // Clean up Bokeh references\n",
       "    if (id != null && id in Bokeh.index) {\n",
       "      Bokeh.index[id].model.document.clear();\n",
       "      delete Bokeh.index[id];\n",
       "    }\n",
       "\n",
       "    if (server_id !== undefined) {\n",
       "      // Clean up Bokeh references\n",
       "      var cmd = \"from bokeh.io.state import curstate; print(curstate().uuid_to_server['\" + server_id + \"'].get_sessions()[0].document.roots[0]._id)\";\n",
       "      cell.notebook.kernel.execute(cmd, {\n",
       "        iopub: {\n",
       "          output: function(msg) {\n",
       "            var id = msg.content.text.trim();\n",
       "            if (id in Bokeh.index) {\n",
       "              Bokeh.index[id].model.document.clear();\n",
       "              delete Bokeh.index[id];\n",
       "            }\n",
       "          }\n",
       "        }\n",
       "      });\n",
       "      // Destroy server and session\n",
       "      var cmd = \"import bokeh.io.notebook as ion; ion.destroy_server('\" + server_id + \"')\";\n",
       "      cell.notebook.kernel.execute(cmd);\n",
       "    }\n",
       "  }\n",
       "\n",
       "  /**\n",
       "   * Handle when a new output is added\n",
       "   */\n",
       "  function handleAddOutput(event, handle) {\n",
       "    var output_area = handle.output_area;\n",
       "    var output = handle.output;\n",
       "\n",
       "    // limit handleAddOutput to display_data with EXEC_MIME_TYPE content only\n",
       "    if ((output.output_type != \"display_data\") || (!output.data.hasOwnProperty(EXEC_MIME_TYPE))) {\n",
       "      return\n",
       "    }\n",
       "\n",
       "    var toinsert = output_area.element.find(\".\" + CLASS_NAME.split(' ')[0]);\n",
       "\n",
       "    if (output.metadata[EXEC_MIME_TYPE][\"id\"] !== undefined) {\n",
       "      toinsert[toinsert.length - 1].firstChild.textContent = output.data[JS_MIME_TYPE];\n",
       "      // store reference to embed id on output_area\n",
       "      output_area._bokeh_element_id = output.metadata[EXEC_MIME_TYPE][\"id\"];\n",
       "    }\n",
       "    if (output.metadata[EXEC_MIME_TYPE][\"server_id\"] !== undefined) {\n",
       "      var bk_div = document.createElement(\"div\");\n",
       "      bk_div.innerHTML = output.data[HTML_MIME_TYPE];\n",
       "      var script_attrs = bk_div.children[0].attributes;\n",
       "      for (var i = 0; i < script_attrs.length; i++) {\n",
       "        toinsert[toinsert.length - 1].firstChild.setAttribute(script_attrs[i].name, script_attrs[i].value);\n",
       "      }\n",
       "      // store reference to server id on output_area\n",
       "      output_area._bokeh_server_id = output.metadata[EXEC_MIME_TYPE][\"server_id\"];\n",
       "    }\n",
       "  }\n",
       "\n",
       "  function register_renderer(events, OutputArea) {\n",
       "\n",
       "    function append_mime(data, metadata, element) {\n",
       "      // create a DOM node to render to\n",
       "      var toinsert = this.create_output_subarea(\n",
       "        metadata,\n",
       "        CLASS_NAME,\n",
       "        EXEC_MIME_TYPE\n",
       "      );\n",
       "      this.keyboard_manager.register_events(toinsert);\n",
       "      // Render to node\n",
       "      var props = {data: data, metadata: metadata[EXEC_MIME_TYPE]};\n",
       "      render(props, toinsert[toinsert.length - 1]);\n",
       "      element.append(toinsert);\n",
       "      return toinsert\n",
       "    }\n",
       "\n",
       "    /* Handle when an output is cleared or removed */\n",
       "    events.on('clear_output.CodeCell', handleClearOutput);\n",
       "    events.on('delete.Cell', handleClearOutput);\n",
       "\n",
       "    /* Handle when a new output is added */\n",
       "    events.on('output_added.OutputArea', handleAddOutput);\n",
       "\n",
       "    /**\n",
       "     * Register the mime type and append_mime function with output_area\n",
       "     */\n",
       "    OutputArea.prototype.register_mime_type(EXEC_MIME_TYPE, append_mime, {\n",
       "      /* Is output safe? */\n",
       "      safe: true,\n",
       "      /* Index of renderer in `output_area.display_order` */\n",
       "      index: 0\n",
       "    });\n",
       "  }\n",
       "\n",
       "  // register the mime type if in Jupyter Notebook environment and previously unregistered\n",
       "  if (root.Jupyter !== undefined) {\n",
       "    var events = require('base/js/events');\n",
       "    var OutputArea = require('notebook/js/outputarea').OutputArea;\n",
       "\n",
       "    if (OutputArea.prototype.mime_types().indexOf(EXEC_MIME_TYPE) == -1) {\n",
       "      register_renderer(events, OutputArea);\n",
       "    }\n",
       "  }\n",
       "\n",
       "  \n",
       "  if (typeof (root._bokeh_timeout) === \"undefined\" || force === true) {\n",
       "    root._bokeh_timeout = Date.now() + 5000;\n",
       "    root._bokeh_failed_load = false;\n",
       "  }\n",
       "\n",
       "  var NB_LOAD_WARNING = {'data': {'text/html':\n",
       "     \"<div style='background-color: #fdd'>\\n\"+\n",
       "     \"<p>\\n\"+\n",
       "     \"BokehJS does not appear to have successfully loaded. If loading BokehJS from CDN, this \\n\"+\n",
       "     \"may be due to a slow or bad network connection. Possible fixes:\\n\"+\n",
       "     \"</p>\\n\"+\n",
       "     \"<ul>\\n\"+\n",
       "     \"<li>re-rerun `output_notebook()` to attempt to load from CDN again, or</li>\\n\"+\n",
       "     \"<li>use INLINE resources instead, as so:</li>\\n\"+\n",
       "     \"</ul>\\n\"+\n",
       "     \"<code>\\n\"+\n",
       "     \"from bokeh.resources import INLINE\\n\"+\n",
       "     \"output_notebook(resources=INLINE)\\n\"+\n",
       "     \"</code>\\n\"+\n",
       "     \"</div>\"}};\n",
       "\n",
       "  function display_loaded() {\n",
       "    var el = document.getElementById(\"4420\");\n",
       "    if (el != null) {\n",
       "      el.textContent = \"BokehJS is loading...\";\n",
       "    }\n",
       "    if (root.Bokeh !== undefined) {\n",
       "      if (el != null) {\n",
       "        el.textContent = \"BokehJS \" + root.Bokeh.version + \" successfully loaded.\";\n",
       "      }\n",
       "    } else if (Date.now() < root._bokeh_timeout) {\n",
       "      setTimeout(display_loaded, 100)\n",
       "    }\n",
       "  }\n",
       "\n",
       "\n",
       "  function run_callbacks() {\n",
       "    try {\n",
       "      root._bokeh_onload_callbacks.forEach(function(callback) {\n",
       "        if (callback != null)\n",
       "          callback();\n",
       "      });\n",
       "    } finally {\n",
       "      delete root._bokeh_onload_callbacks\n",
       "    }\n",
       "    console.debug(\"Bokeh: all callbacks have finished\");\n",
       "  }\n",
       "\n",
       "  function load_libs(css_urls, js_urls, callback) {\n",
       "    if (css_urls == null) css_urls = [];\n",
       "    if (js_urls == null) js_urls = [];\n",
       "\n",
       "    root._bokeh_onload_callbacks.push(callback);\n",
       "    if (root._bokeh_is_loading > 0) {\n",
       "      console.debug(\"Bokeh: BokehJS is being loaded, scheduling callback at\", now());\n",
       "      return null;\n",
       "    }\n",
       "    if (js_urls == null || js_urls.length === 0) {\n",
       "      run_callbacks();\n",
       "      return null;\n",
       "    }\n",
       "    console.debug(\"Bokeh: BokehJS not loaded, scheduling load and callback at\", now());\n",
       "    root._bokeh_is_loading = css_urls.length + js_urls.length;\n",
       "\n",
       "    function on_load() {\n",
       "      root._bokeh_is_loading--;\n",
       "      if (root._bokeh_is_loading === 0) {\n",
       "        console.debug(\"Bokeh: all BokehJS libraries/stylesheets loaded\");\n",
       "        run_callbacks()\n",
       "      }\n",
       "    }\n",
       "\n",
       "    function on_error() {\n",
       "      console.error(\"failed to load \" + url);\n",
       "    }\n",
       "\n",
       "    for (var i = 0; i < css_urls.length; i++) {\n",
       "      var url = css_urls[i];\n",
       "      const element = document.createElement(\"link\");\n",
       "      element.onload = on_load;\n",
       "      element.onerror = on_error;\n",
       "      element.rel = \"stylesheet\";\n",
       "      element.type = \"text/css\";\n",
       "      element.href = url;\n",
       "      console.debug(\"Bokeh: injecting link tag for BokehJS stylesheet: \", url);\n",
       "      document.body.appendChild(element);\n",
       "    }\n",
       "\n",
       "    for (var i = 0; i < js_urls.length; i++) {\n",
       "      var url = js_urls[i];\n",
       "      var element = document.createElement('script');\n",
       "      element.onload = on_load;\n",
       "      element.onerror = on_error;\n",
       "      element.async = false;\n",
       "      element.src = url;\n",
       "      console.debug(\"Bokeh: injecting script tag for BokehJS library: \", url);\n",
       "      document.head.appendChild(element);\n",
       "    }\n",
       "  };var element = document.getElementById(\"4420\");\n",
       "  if (element == null) {\n",
       "    console.error(\"Bokeh: ERROR: autoload.js configured with elementid '4420' but no matching script tag was found. \")\n",
       "    return false;\n",
       "  }\n",
       "\n",
       "  function inject_raw_css(css) {\n",
       "    const element = document.createElement(\"style\");\n",
       "    element.appendChild(document.createTextNode(css));\n",
       "    document.body.appendChild(element);\n",
       "  }\n",
       "\n",
       "  \n",
       "  var js_urls = [\"https://cdn.pydata.org/bokeh/release/bokeh-1.4.0.min.js\", \"https://cdn.pydata.org/bokeh/release/bokeh-widgets-1.4.0.min.js\", \"https://cdn.pydata.org/bokeh/release/bokeh-tables-1.4.0.min.js\", \"https://cdn.pydata.org/bokeh/release/bokeh-gl-1.4.0.min.js\"];\n",
       "  var css_urls = [];\n",
       "  \n",
       "\n",
       "  var inline_js = [\n",
       "    function(Bokeh) {\n",
       "      Bokeh.set_log_level(\"info\");\n",
       "    },\n",
       "    function(Bokeh) {\n",
       "    \n",
       "    \n",
       "    }\n",
       "  ];\n",
       "\n",
       "  function run_inline_js() {\n",
       "    \n",
       "    if (root.Bokeh !== undefined || force === true) {\n",
       "      \n",
       "    for (var i = 0; i < inline_js.length; i++) {\n",
       "      inline_js[i].call(root, root.Bokeh);\n",
       "    }\n",
       "    if (force === true) {\n",
       "        display_loaded();\n",
       "      }} else if (Date.now() < root._bokeh_timeout) {\n",
       "      setTimeout(run_inline_js, 100);\n",
       "    } else if (!root._bokeh_failed_load) {\n",
       "      console.log(\"Bokeh: BokehJS failed to load within specified timeout.\");\n",
       "      root._bokeh_failed_load = true;\n",
       "    } else if (force !== true) {\n",
       "      var cell = $(document.getElementById(\"4420\")).parents('.cell').data().cell;\n",
       "      cell.output_area.append_execute_result(NB_LOAD_WARNING)\n",
       "    }\n",
       "\n",
       "  }\n",
       "\n",
       "  if (root._bokeh_is_loading === 0) {\n",
       "    console.debug(\"Bokeh: BokehJS loaded, going straight to plotting\");\n",
       "    run_inline_js();\n",
       "  } else {\n",
       "    load_libs(css_urls, js_urls, function() {\n",
       "      console.debug(\"Bokeh: BokehJS plotting callback run at\", now());\n",
       "      run_inline_js();\n",
       "    });\n",
       "  }\n",
       "}(window));"
      ],
      "application/vnd.bokehjs_load.v0+json": "\n(function(root) {\n  function now() {\n    return new Date();\n  }\n\n  var force = true;\n\n  if (typeof root._bokeh_onload_callbacks === \"undefined\" || force === true) {\n    root._bokeh_onload_callbacks = [];\n    root._bokeh_is_loading = undefined;\n  }\n\n  \n\n  \n  if (typeof (root._bokeh_timeout) === \"undefined\" || force === true) {\n    root._bokeh_timeout = Date.now() + 5000;\n    root._bokeh_failed_load = false;\n  }\n\n  var NB_LOAD_WARNING = {'data': {'text/html':\n     \"<div style='background-color: #fdd'>\\n\"+\n     \"<p>\\n\"+\n     \"BokehJS does not appear to have successfully loaded. If loading BokehJS from CDN, this \\n\"+\n     \"may be due to a slow or bad network connection. Possible fixes:\\n\"+\n     \"</p>\\n\"+\n     \"<ul>\\n\"+\n     \"<li>re-rerun `output_notebook()` to attempt to load from CDN again, or</li>\\n\"+\n     \"<li>use INLINE resources instead, as so:</li>\\n\"+\n     \"</ul>\\n\"+\n     \"<code>\\n\"+\n     \"from bokeh.resources import INLINE\\n\"+\n     \"output_notebook(resources=INLINE)\\n\"+\n     \"</code>\\n\"+\n     \"</div>\"}};\n\n  function display_loaded() {\n    var el = document.getElementById(\"4420\");\n    if (el != null) {\n      el.textContent = \"BokehJS is loading...\";\n    }\n    if (root.Bokeh !== undefined) {\n      if (el != null) {\n        el.textContent = \"BokehJS \" + root.Bokeh.version + \" successfully loaded.\";\n      }\n    } else if (Date.now() < root._bokeh_timeout) {\n      setTimeout(display_loaded, 100)\n    }\n  }\n\n\n  function run_callbacks() {\n    try {\n      root._bokeh_onload_callbacks.forEach(function(callback) {\n        if (callback != null)\n          callback();\n      });\n    } finally {\n      delete root._bokeh_onload_callbacks\n    }\n    console.debug(\"Bokeh: all callbacks have finished\");\n  }\n\n  function load_libs(css_urls, js_urls, callback) {\n    if (css_urls == null) css_urls = [];\n    if (js_urls == null) js_urls = [];\n\n    root._bokeh_onload_callbacks.push(callback);\n    if (root._bokeh_is_loading > 0) {\n      console.debug(\"Bokeh: BokehJS is being loaded, scheduling callback at\", now());\n      return null;\n    }\n    if (js_urls == null || js_urls.length === 0) {\n      run_callbacks();\n      return null;\n    }\n    console.debug(\"Bokeh: BokehJS not loaded, scheduling load and callback at\", now());\n    root._bokeh_is_loading = css_urls.length + js_urls.length;\n\n    function on_load() {\n      root._bokeh_is_loading--;\n      if (root._bokeh_is_loading === 0) {\n        console.debug(\"Bokeh: all BokehJS libraries/stylesheets loaded\");\n        run_callbacks()\n      }\n    }\n\n    function on_error() {\n      console.error(\"failed to load \" + url);\n    }\n\n    for (var i = 0; i < css_urls.length; i++) {\n      var url = css_urls[i];\n      const element = document.createElement(\"link\");\n      element.onload = on_load;\n      element.onerror = on_error;\n      element.rel = \"stylesheet\";\n      element.type = \"text/css\";\n      element.href = url;\n      console.debug(\"Bokeh: injecting link tag for BokehJS stylesheet: \", url);\n      document.body.appendChild(element);\n    }\n\n    for (var i = 0; i < js_urls.length; i++) {\n      var url = js_urls[i];\n      var element = document.createElement('script');\n      element.onload = on_load;\n      element.onerror = on_error;\n      element.async = false;\n      element.src = url;\n      console.debug(\"Bokeh: injecting script tag for BokehJS library: \", url);\n      document.head.appendChild(element);\n    }\n  };var element = document.getElementById(\"4420\");\n  if (element == null) {\n    console.error(\"Bokeh: ERROR: autoload.js configured with elementid '4420' but no matching script tag was found. \")\n    return false;\n  }\n\n  function inject_raw_css(css) {\n    const element = document.createElement(\"style\");\n    element.appendChild(document.createTextNode(css));\n    document.body.appendChild(element);\n  }\n\n  \n  var js_urls = [\"https://cdn.pydata.org/bokeh/release/bokeh-1.4.0.min.js\", \"https://cdn.pydata.org/bokeh/release/bokeh-widgets-1.4.0.min.js\", \"https://cdn.pydata.org/bokeh/release/bokeh-tables-1.4.0.min.js\", \"https://cdn.pydata.org/bokeh/release/bokeh-gl-1.4.0.min.js\"];\n  var css_urls = [];\n  \n\n  var inline_js = [\n    function(Bokeh) {\n      Bokeh.set_log_level(\"info\");\n    },\n    function(Bokeh) {\n    \n    \n    }\n  ];\n\n  function run_inline_js() {\n    \n    if (root.Bokeh !== undefined || force === true) {\n      \n    for (var i = 0; i < inline_js.length; i++) {\n      inline_js[i].call(root, root.Bokeh);\n    }\n    if (force === true) {\n        display_loaded();\n      }} else if (Date.now() < root._bokeh_timeout) {\n      setTimeout(run_inline_js, 100);\n    } else if (!root._bokeh_failed_load) {\n      console.log(\"Bokeh: BokehJS failed to load within specified timeout.\");\n      root._bokeh_failed_load = true;\n    } else if (force !== true) {\n      var cell = $(document.getElementById(\"4420\")).parents('.cell').data().cell;\n      cell.output_area.append_execute_result(NB_LOAD_WARNING)\n    }\n\n  }\n\n  if (root._bokeh_is_loading === 0) {\n    console.debug(\"Bokeh: BokehJS loaded, going straight to plotting\");\n    run_inline_js();\n  } else {\n    load_libs(css_urls, js_urls, function() {\n      console.debug(\"Bokeh: BokehJS plotting callback run at\", now());\n      run_inline_js();\n    });\n  }\n}(window));"
     },
     "metadata": {},
     "output_type": "display_data"
    },
    {
     "data": {
      "text/html": [
       "<div style=\"display: table;\"><div style=\"display: table-row;\"><div style=\"display: table-cell;\"><b title=\"bokeh.models.renderers.GlyphRenderer\">GlyphRenderer</b>(</div><div style=\"display: table-cell;\">id&nbsp;=&nbsp;'4474', <span id=\"4487\" style=\"cursor: pointer;\">&hellip;)</span></div></div><div class=\"4486\" style=\"display: none;\"><div style=\"display: table-cell;\"></div><div style=\"display: table-cell;\">data_source&nbsp;=&nbsp;ColumnDataSource(id='4471', ...),</div></div><div class=\"4486\" style=\"display: none;\"><div style=\"display: table-cell;\"></div><div style=\"display: table-cell;\">glyph&nbsp;=&nbsp;Line(id='4472', ...),</div></div><div class=\"4486\" style=\"display: none;\"><div style=\"display: table-cell;\"></div><div style=\"display: table-cell;\">hover_glyph&nbsp;=&nbsp;None,</div></div><div class=\"4486\" style=\"display: none;\"><div style=\"display: table-cell;\"></div><div style=\"display: table-cell;\">js_event_callbacks&nbsp;=&nbsp;{},</div></div><div class=\"4486\" style=\"display: none;\"><div style=\"display: table-cell;\"></div><div style=\"display: table-cell;\">js_property_callbacks&nbsp;=&nbsp;{},</div></div><div class=\"4486\" style=\"display: none;\"><div style=\"display: table-cell;\"></div><div style=\"display: table-cell;\">level&nbsp;=&nbsp;'glyph',</div></div><div class=\"4486\" style=\"display: none;\"><div style=\"display: table-cell;\"></div><div style=\"display: table-cell;\">muted&nbsp;=&nbsp;False,</div></div><div class=\"4486\" style=\"display: none;\"><div style=\"display: table-cell;\"></div><div style=\"display: table-cell;\">muted_glyph&nbsp;=&nbsp;None,</div></div><div class=\"4486\" style=\"display: none;\"><div style=\"display: table-cell;\"></div><div style=\"display: table-cell;\">name&nbsp;=&nbsp;None,</div></div><div class=\"4486\" style=\"display: none;\"><div style=\"display: table-cell;\"></div><div style=\"display: table-cell;\">nonselection_glyph&nbsp;=&nbsp;Line(id='4473', ...),</div></div><div class=\"4486\" style=\"display: none;\"><div style=\"display: table-cell;\"></div><div style=\"display: table-cell;\">selection_glyph&nbsp;=&nbsp;None,</div></div><div class=\"4486\" style=\"display: none;\"><div style=\"display: table-cell;\"></div><div style=\"display: table-cell;\">subscribed_events&nbsp;=&nbsp;[],</div></div><div class=\"4486\" style=\"display: none;\"><div style=\"display: table-cell;\"></div><div style=\"display: table-cell;\">tags&nbsp;=&nbsp;[],</div></div><div class=\"4486\" style=\"display: none;\"><div style=\"display: table-cell;\"></div><div style=\"display: table-cell;\">view&nbsp;=&nbsp;CDSView(id='4475', ...),</div></div><div class=\"4486\" style=\"display: none;\"><div style=\"display: table-cell;\"></div><div style=\"display: table-cell;\">visible&nbsp;=&nbsp;True,</div></div><div class=\"4486\" style=\"display: none;\"><div style=\"display: table-cell;\"></div><div style=\"display: table-cell;\">x_range_name&nbsp;=&nbsp;'default',</div></div><div class=\"4486\" style=\"display: none;\"><div style=\"display: table-cell;\"></div><div style=\"display: table-cell;\">y_range_name&nbsp;=&nbsp;'default')</div></div></div>\n",
       "<script>\n",
       "(function() {\n",
       "  var expanded = false;\n",
       "  var ellipsis = document.getElementById(\"4487\");\n",
       "  ellipsis.addEventListener(\"click\", function() {\n",
       "    var rows = document.getElementsByClassName(\"4486\");\n",
       "    for (var i = 0; i < rows.length; i++) {\n",
       "      var el = rows[i];\n",
       "      el.style.display = expanded ? \"none\" : \"table-row\";\n",
       "    }\n",
       "    ellipsis.innerHTML = expanded ? \"&hellip;)\" : \"&lsaquo;&lsaquo;&lsaquo;\";\n",
       "    expanded = !expanded;\n",
       "  });\n",
       "})();\n",
       "</script>\n"
      ],
      "text/plain": [
       "GlyphRenderer(id='4474', ...)"
      ]
     },
     "execution_count": 35,
     "metadata": {},
     "output_type": "execute_result"
    }
   ],
   "source": [
    "from bokeh.plotting import *\n",
    "\n",
    "# Criando um arquivo estático em html\n",
    "output_file(\"Rankine_Reaquecimento.html\")\n",
    "\n",
    "output_notebook()\n",
    "\n",
    "p = figure(plot_width=600, plot_height=600)\n",
    "\n",
    "p.title.text = 'Ciclo Ideal de Rankine com Reaquecimento'\n",
    "p.title.align = 'center'\n",
    "p.title.text_color = 'black'\n",
    "p.title.text_font_size = '30px'\n",
    "p.xaxis[0].axis_label = 'Entropia (kJ/(kg K)'\n",
    "p.yaxis[0].axis_label = 'Temperatura (°C)'\n",
    "\n",
    "\n",
    "p.line(sliq, npt, legend_label = 'Curva de Líquido Saturado', line_width = 2, color = 'blue')\n",
    "p.line(svap, npt, legend_label = 'Curva de Vapor Saturado', line_width = 2, color = 'red')"
   ]
  },
  {
   "cell_type": "code",
   "execution_count": 36,
   "metadata": {
    "slideshow": {
     "slide_type": "slide"
    }
   },
   "outputs": [
    {
     "data": {
      "text/html": [
       "\n",
       "\n",
       "\n",
       "\n",
       "\n",
       "\n",
       "  <div class=\"bk-root\" id=\"47eae6bc-d9ca-4651-8a1c-72af2e5c6b40\" data-root-id=\"4421\"></div>\n"
      ]
     },
     "metadata": {},
     "output_type": "display_data"
    },
    {
     "data": {
      "application/javascript": [
       "(function(root) {\n",
       "  function embed_document(root) {\n",
       "    \n",
       "  var docs_json = {\"82818e58-fc98-4a09-b15e-09898b9298df\":{\"roots\":{\"references\":[{\"attributes\":{\"below\":[{\"id\":\"4430\",\"type\":\"LinearAxis\"}],\"center\":[{\"id\":\"4434\",\"type\":\"Grid\"},{\"id\":\"4439\",\"type\":\"Grid\"},{\"id\":\"4469\",\"type\":\"Legend\"}],\"left\":[{\"id\":\"4435\",\"type\":\"LinearAxis\"}],\"renderers\":[{\"id\":\"4460\",\"type\":\"GlyphRenderer\"},{\"id\":\"4474\",\"type\":\"GlyphRenderer\"},{\"id\":\"4491\",\"type\":\"GlyphRenderer\"},{\"id\":\"4496\",\"type\":\"GlyphRenderer\"},{\"id\":\"4501\",\"type\":\"GlyphRenderer\"},{\"id\":\"4506\",\"type\":\"GlyphRenderer\"},{\"id\":\"4511\",\"type\":\"GlyphRenderer\"},{\"id\":\"4516\",\"type\":\"GlyphRenderer\"}],\"title\":{\"id\":\"4453\",\"type\":\"Title\"},\"toolbar\":{\"id\":\"4446\",\"type\":\"Toolbar\"},\"x_range\":{\"id\":\"4422\",\"type\":\"DataRange1d\"},\"x_scale\":{\"id\":\"4426\",\"type\":\"LinearScale\"},\"y_range\":{\"id\":\"4424\",\"type\":\"DataRange1d\"},\"y_scale\":{\"id\":\"4428\",\"type\":\"LinearScale\"}},\"id\":\"4421\",\"subtype\":\"Figure\",\"type\":\"Plot\"},{\"attributes\":{\"label\":{\"value\":\"Curva de Vapor Saturado\"},\"renderers\":[{\"id\":\"4474\",\"type\":\"GlyphRenderer\"}]},\"id\":\"4485\",\"type\":\"LegendItem\"},{\"attributes\":{\"callback\":null,\"data\":{\"x\":[6.679589593773722,6.679589593773722],\"y\":[600.0,374.65699335210763]},\"selected\":{\"id\":\"4603\",\"type\":\"Selection\"},\"selection_policy\":{\"id\":\"4604\",\"type\":\"UnionRenderers\"}},\"id\":\"4498\",\"type\":\"ColumnDataSource\"},{\"attributes\":{},\"id\":\"4605\",\"type\":\"Selection\"},{\"attributes\":{\"items\":[{\"id\":\"4470\",\"type\":\"LegendItem\"},{\"id\":\"4485\",\"type\":\"LegendItem\"}],\"location\":\"top_left\"},\"id\":\"4469\",\"type\":\"Legend\"},{\"attributes\":{\"line_color\":\"green\",\"line_width\":2,\"x\":{\"field\":\"x\"},\"y\":{\"field\":\"y\"}},\"id\":\"4489\",\"type\":\"Line\"},{\"attributes\":{\"line_alpha\":0.1,\"line_color\":\"#1f77b4\",\"line_width\":2,\"x\":{\"field\":\"x\"},\"y\":{\"field\":\"y\"}},\"id\":\"4490\",\"type\":\"Line\"},{\"attributes\":{\"data_source\":{\"id\":\"4488\",\"type\":\"ColumnDataSource\"},\"glyph\":{\"id\":\"4489\",\"type\":\"Line\"},\"hover_glyph\":null,\"muted_glyph\":null,\"nonselection_glyph\":{\"id\":\"4490\",\"type\":\"Line\"},\"selection_glyph\":null,\"view\":{\"id\":\"4492\",\"type\":\"CDSView\"}},\"id\":\"4491\",\"type\":\"GlyphRenderer\"},{\"attributes\":{\"source\":{\"id\":\"4488\",\"type\":\"ColumnDataSource\"}},\"id\":\"4492\",\"type\":\"CDSView\"},{\"attributes\":{},\"id\":\"4608\",\"type\":\"UnionRenderers\"},{\"attributes\":{\"line_color\":\"green\",\"line_width\":2,\"x\":{\"field\":\"x\"},\"y\":{\"field\":\"y\"}},\"id\":\"4494\",\"type\":\"Line\"},{\"attributes\":{\"callback\":null,\"data\":{\"x\":[6.660609082297436,6.669141088465282,6.677622389361025,6.6860541051078854,6.694437314137458,6.702773055245018,6.711062329522503,6.719306102177628,6.727505304246957,6.735660834210088,6.743773559511624,6.751844317997007,6.7598739192679,6.767863145962333,6.775812754964488,6.7837234785485565,6.791596025460884,6.7994310819442445,6.807229312707831,6.814991361846313,6.822717853711031,6.8304093937362635,6.838066569223224,6.845689950084285,6.8532800895498305,6.860837524839832,6.868362777802265,6.87585635552022,6.883318750889523,6.890750443168504,6.898151898501498,6.905523570417518,6.9128659003054995,6.920179317867347,6.927464241550064,6.93472107895801,6.94195022724642,6.949152073497138,6.95632699507752,6.96347535998337,6.970597527166783,6.977693846849603,6.984764660823308,6.99181030273594,6.998831098366814,7.005827365889528,7.012799416123937,7.019747552777591,7.026672072677163,7.033573265990364,7.040451416438785,7.0473068015021445,7.0541396926143,7.060950355351445,7.067739049612848,7.074506029794505,7.081251544956,7.087975838980913,7.094679150731052,7.10136171419482,7.108023758629952,7.11466550870088,7.121287184610997,7.127889002229997,7.134471173216552,7.141033905136505,7.147577401576768,7.154101862255158,7.160607483126281,7.167094456483672,7.17356297105835,7.180013212113919,7.186445361538377,7.192859597932768,7.199256096696786,7.2056350301115115,7.21199656741931,7.218340874901104,7.224668115951046,7.230978451148756,7.2372720383291655,7.243549032650113,7.249809586657753,7.2560538503498675,7.262281971237143,7.2684940944025564,7.274690362558848,7.28087091610424,7.287035893176408,7.293185429704806,7.299319659461391,7.3054387141098225,7.31154272325315,7.317631814480117,7.3237061134100525,7.329765743736471,7.335810827269376,7.341841483976342,7.347857832022406,7.353859987808825],\"y\":{\"__ndarray__\":\"3g92C4Nqd0D9279T7o53QB2oCZxZs3dAPHRT5MTXd0BcQJ0sMPx3QHsM53SbIHhAmtgwvQZFeEC6pHoFcml4QNlwxE3djXhA+DwOlkiyeEAYCVjes9Z4QDfVoSYf+3hAVqHrboofeUB2bTW39UN5QJU5f/9gaHlAtQXJR8yMeUDU0RKQN7F5QPOdXNii1XlAE2qmIA76eUAyNvBoeR56QFICOrHkQnpAcc6D+U9nekCQms1Bu4t6QLBmF4omsHpAzzJh0pHUekDu/qoa/fh6QA7L9GJoHXtALZc+q9NBe0BMY4jzPmZ7QGwv0juqintAi/sbhBWve0Cqx2XMgNN7QMqTrxTs93tA6l/5XFccfEAJLEOlwkB8QCj4jO0tZXxASMTWNZmJfEBnkCB+BK58QIZcasZv0nxApii0Dtv2fEDF9P1WRht9QOTAR5+xP31ABI2R5xxkfUAjWdsviIh9QEIlJXjzrH1AYvFuwF7RfUCBvbgIyvV9QKCJAlE1Gn5AwFVMmaA+fkDgIZbhC2N+QP/t3yl3h35AHropcuKrfkA+hnO6TdB+QF1SvQK59H5AfB4HSyQZf0Cc6lCTjz1/QLu2mtv6YX9A2oLkI2aGf0D6Ti5s0ap/QBkbeLQ8z39AOOfB/Kfzf0Cs2YWiCQyAQLy/qkY/HoBAy6XP6nQwgEDbi/SOqkKAQOtxGTPgVIBA+lc+1xVngEAKPmN7S3mAQBokiB+Bi4BAKgqtw7adgEA58NFn7K+AQEnW9gsiwoBAWLwbsFfUgEBookBUjeaAQHiIZfjC+IBAiG6KnPgKgUCXVK9ALh2BQKc61ORjL4FAtiD5iJlBgUDGBh4tz1OBQNbsQtEEZoFA5tJndTp4gUD2uIwZcIqBQAWfsb2lnIFAFYXWYduugUAka/sFEcGBQDRRIKpG04FARDdFTnzlgUBUHWrysfeBQGMDj5bnCYJAc+mzOh0cgkCCz9jeUi6CQJK1/YKIQIJAopsiJ75SgkCygUfL82SCQMFnbG8pd4JA0U2RE1+JgkDhM7a3lJuCQPAZ21vKrYJAAAAAAADAgkA=\",\"dtype\":\"float64\",\"shape\":[100]}},\"selected\":{\"id\":\"4605\",\"type\":\"Selection\"},\"selection_policy\":{\"id\":\"4606\",\"type\":\"UnionRenderers\"}},\"id\":\"4503\",\"type\":\"ColumnDataSource\"},{\"attributes\":{\"line_alpha\":0.1,\"line_color\":\"#1f77b4\",\"line_width\":2,\"x\":{\"field\":\"x\"},\"y\":{\"field\":\"y\"}},\"id\":\"4495\",\"type\":\"Line\"},{\"attributes\":{\"data_source\":{\"id\":\"4493\",\"type\":\"ColumnDataSource\"},\"glyph\":{\"id\":\"4494\",\"type\":\"Line\"},\"hover_glyph\":null,\"muted_glyph\":null,\"nonselection_glyph\":{\"id\":\"4495\",\"type\":\"Line\"},\"selection_glyph\":null,\"view\":{\"id\":\"4497\",\"type\":\"CDSView\"}},\"id\":\"4496\",\"type\":\"GlyphRenderer\"},{\"attributes\":{\"source\":{\"id\":\"4493\",\"type\":\"ColumnDataSource\"}},\"id\":\"4497\",\"type\":\"CDSView\"},{\"attributes\":{\"line_color\":\"green\",\"line_width\":2,\"x\":{\"field\":\"x\"},\"y\":{\"field\":\"y\"}},\"id\":\"4499\",\"type\":\"Line\"},{\"attributes\":{},\"id\":\"4607\",\"type\":\"Selection\"},{\"attributes\":{\"data_source\":{\"id\":\"4498\",\"type\":\"ColumnDataSource\"},\"glyph\":{\"id\":\"4499\",\"type\":\"Line\"},\"hover_glyph\":null,\"muted_glyph\":null,\"nonselection_glyph\":{\"id\":\"4500\",\"type\":\"Line\"},\"selection_glyph\":null,\"view\":{\"id\":\"4502\",\"type\":\"CDSView\"}},\"id\":\"4501\",\"type\":\"GlyphRenderer\"},{\"attributes\":{},\"id\":\"4609\",\"type\":\"Selection\"},{\"attributes\":{\"line_alpha\":0.1,\"line_color\":\"#1f77b4\",\"line_width\":2,\"x\":{\"field\":\"x\"},\"y\":{\"field\":\"y\"}},\"id\":\"4500\",\"type\":\"Line\"},{\"attributes\":{},\"id\":\"4606\",\"type\":\"UnionRenderers\"},{\"attributes\":{\"align\":\"center\",\"text\":\"Ciclo Ideal de Rankine com Reaquecimento\",\"text_color\":{\"value\":\"black\"},\"text_font_size\":{\"value\":\"30px\"}},\"id\":\"4453\",\"type\":\"Title\"},{\"attributes\":{\"callback\":null},\"id\":\"4424\",\"type\":\"DataRange1d\"},{\"attributes\":{\"callback\":null,\"data\":{\"x\":[8.451965909748932,8.41681552259489,8.382180005511547,8.348049293066044,8.314413536561462,8.28126309777629,8.248588542957279,8.216380637046376,8.18463033812483,8.153328792058627,8.122467327331407,8.09203745005204,8.062030839126022,8.032439341580382,8.003254968034039,7.9744698883056895,7.946076427153073,7.918067060138235,7.89043440961412,7.8631712408288195,7.8362704581451705,7.809725101370745,7.783528342200779,7.757673480768027,7.732153942301183,7.706963273889905,7.682095141356281,7.657543326231589,7.633301722837664,7.609364335475395,7.5857252757118125,7.562378759772661,7.5393191060397715,7.516540732643475,7.494038155156659,7.471805984385211,7.449838924252631,7.428131769779,7.406679405143299,7.385476801839366,7.364519016908065,7.34380119125119,7.323318548017137,7.303066391058384,7.283040103452993,7.263235146086205,7.243647056287776,7.224271446518719,7.205104003102863,7.186140484998403,7.167376722603249,7.14880861658994,7.130432136764666,7.112243320945588,7.094238273855871,7.076413166027036,7.058764232708408,7.041287772778736,7.023980147656712,7.006837780206814,6.989857153637995,6.973034810392443,6.956367351022452,6.939851433053612,6.923483769833023,6.907261129361219,6.891180333107575,6.875238254808393,6.859431819247941,6.843758001022467,6.82821382328783,6.812796356491449,6.7975027170895155,6.782330066250589,6.767275608546839,6.752336590634427,6.737510299924359,6.72279406324567,6.708185245502088,6.6936812483242045,6.67927950871848,6.664977497714714,6.650772719013461,6.636662707634668,6.622645028568986,6.608717275432731,6.594877069127657,6.581122056506214,6.567449909043195,6.55385832151414,6.54034501068075,6.526907713983768,6.513544188242821,6.500252208363334,6.487029566049822,6.47387406852494,6.460783537253379,6.447755806669523,6.434788722907356,6.421880142531292,6.409027931265906,6.396229962722631,6.383484117121147,6.370788280002969,6.358140340934636,6.345538192197457,6.332979727460988,6.320462840436836,6.307985423509564,6.295545366341114,6.28314055444537,6.27076886772886,6.258428178994146,6.246116352401681,6.2338312418863095,6.221570689523829,6.209332523843437,6.1971145580809885,6.184914588367721,6.172730391849005,6.1605597247266495,6.148400320217807,6.136249886422987,6.124106104094699,6.111966624297643,6.099829065950155,6.087691013236289,6.075550012876447,6.063403571243842,6.051249151313207,6.039084169426795,6.026905991861928,6.01471193118336,6.002499242362038,5.990265118640864,5.978006687126296,5.965721004083019,5.953405049906477,5.941055723746515,5.928669837751578,5.916244110900841,5.903775162387422,5.8912595045118925,5.8786935350407505,5.866073528979038,5.853395629699804,5.840655839366981,5.827850008579214,5.814973825153622,5.80202280195786,5.788992263686502,5.775877332464143,5.762672912141255,5.749373671130302,5.735974023607554,5.72246810888109,5.708849768695017,5.695112522205022,5.6812495383190935,5.667253605047082,5.653117095444503,5.638831929665027,5.624389532551337,5.609780786091059,5.594995975940211,5.580024731063645,5.5648559553559345,5.549477749874619,5.533877324032118,5.51804089373502,5.501953564009291,5.485599193081838,5.468960234161405,5.452017550228255,5.434750195928699,5.417135159080329,5.399147052187324,5.380757741540854,5.3619358976473075,5.3426464454502245,5.3228498854423485,5.302501446293134,5.281550014474587,5.259936764024128,5.237593375878985,5.2144396841160825,5.190380503658035,5.1653012584270375,5.139061799163311,5.111487395704768,5.0823551462478695,5.051372619414572,5.018142659146374,4.982102093636124,4.942407803411375,4.897706986478661,4.845618608787129,4.781337587644941,4.692433581275879,4.406961892363361],\"y\":{\"__ndarray__\":\"AAAAAAAAPkBPAQOUdro/QE8BA5R2ukBA9oEE3rGXQUCdAgYo7XRCQESDB3IoUkNA7AMJvGMvRECThAoGnwxFQDoFDFDa6UVA4oUNmhXHRkCJBg/kUKRHQDCHEC6MgUhA2AcSeMdeSUB/iBPCAjxKQCYJFQw+GUtAzokWVnn2S0B1ChigtNNMQByLGervsE1AxAsbNCuOTkBrjBx+ZmtPQIkGD+RQJFBA3cYPie6SUEAwhxAujAFRQIRHEdMpcFFA2AcSeMfeUUAsyBIdZU1SQH+IE8ICvFJA0kgUZ6AqU0AmCRUMPplTQHrJFbHbB1RAzokWVnl2VEAiShf7FuVUQHUKGKC0U1VAyMoYRVLCVUAcixnq7zBWQHBLGo+Nn1ZAxAsbNCsOV0AYzBvZyHxXQGuMHH5m61dAv0wdIwRaWEASDR7IochYQGbNHm0/N1lAuo0fEt2lWUANTiC3ehRaQGEOIVwYg1pAtc4hAbbxWkAIjyKmU2BbQFxPI0vxzltAsA8k8I49XEAD0CSVLKxcQFeQJTrKGl1AqlAm32eJXUD+ECeEBfhdQFLRJymjZl5ApZEozkDVXkD5USlz3kNfQE0SKhh8sl9AUGmV3owQYEB6yRWx20dgQKQploMqf2BAzokWVnm2YED46ZYoyO1gQCJKF/sWJWFAS6qXzWVcYUB1ChigtJNhQJ9qmHIDy2FAyMoYRVICYkDyKpkXoTliQByLGervcGJARuuZvD6oYkBwSxqPjd9iQJqrmmHcFmNAxAsbNCtOY0Dua5sGeoVjQBjMG9nIvGNAQSycqxf0Y0BrjBx+ZitkQJXsnFC1YmRAv0wdIwSaZEDorJ31UtFkQBINHsihCGVAPG2emvA/ZUBmzR5tP3dlQJAtnz+OrmVAuo0fEt3lZUDj7Z/kKx1mQA1OILd6VGZAN66gicmLZkBhDiFcGMNmQItuoS5n+mZAtc4hAbYxZ0DeLqLTBGlnQAiPIqZToGdAMu+ieKLXZ0BcTyNL8Q5oQIavox1ARmhAsA8k8I59aEDZb6TC3bRoQAPQJJUs7GhALTClZ3sjaUBXkCU6ylppQIHwpQwZkmlAqlAm32fJaUDUsKaxtgBqQP4QJ4QFOGpAKHGnVlRvakBS0Scpo6ZqQHwxqPvx3WpApZEozkAVa0DP8aigj0xrQPlRKXPeg2tAI7KpRS27a0BNEioYfPJrQHdyqurKKWxAoNIqvRlhbEDKMquPaJhsQPSSK2K3z2xAHvOrNAYHbUBIUywHVT5tQHKzrNmjdW1AmxMtrPKsbUDFc61+QeRtQO/TLVGQG25AGTSuI99SbkBDlC72LYpuQG30rsh8wW5AllQvm8v4bkDAtK9tGjBvQOoUMEBpZ29AFHWwErieb0A+1TDlBtZvQLSa2NuqBnBAyMoYRVIicEDe+liu+T1wQPIqmRehWXBACFvZgEh1cEAcixnq75BwQDG7WVOXrHBARuuZvD7IcEBbG9ol5uNwQHBLGo+N/3BAhXta+DQbcUCaq5ph3DZxQK7b2sqDUnFAxAsbNCtucUDYO1ud0olxQO5rmwZ6pXFAApzbbyHBcUAYzBvZyNxxQCz8W0Jw+HFAQSycqxcUckBWXNwUvy9yQGuMHH5mS3JAgLxc5w1nckCV7JxQtYJyQKoc3blcnnJAv0wdIwS6ckDUfF2Mq9VyQOisnfVS8XJA/dzdXvoMc0ASDR7IoShzQCc9XjFJRHNAPG2emvBfc0BRnd4DmHtzQGbNHm0/l3NAe/1e1uayc0CQLZ8/js5zQKVd36g16nNAuo0fEt0FdEDOvV97hCF0QOPtn+QrPXRA+B3gTdNYdEANTiC3enR0QCJ+YCAikHRAN66gicmrdEBM3uDycMd0QGEOIVwY43RAdj5hxb/+dECLbqEuZxp1QKCe4ZcONnVAtc4hAbZRdUDJ/mFqXW11QN4uotMEiXVA817iPKykdUAIjyKmU8B1QB2/Yg/723VAMu+ieKL3dUBHH+PhSRN2QFxPI0vxLnZAcX9jtJhKdkCGr6MdQGZ2QJvf44bngXZAsA8k8I6ddkDEP2RZNrl2QNlvpMLd1HZA7p/kK4XwdkAD0CSVLAx3QBgAZf7TJ3dALTClZ3tDd0BCYOXQIl93QA==\",\"dtype\":\"float64\",\"shape\":[200]}},\"selected\":{\"id\":\"4597\",\"type\":\"Selection\"},\"selection_policy\":{\"id\":\"4598\",\"type\":\"UnionRenderers\"}},\"id\":\"4471\",\"type\":\"ColumnDataSource\"},{\"attributes\":{\"callback\":null},\"id\":\"4422\",\"type\":\"DataRange1d\"},{\"attributes\":{\"axis_label\":\"Entropia (kJ/(kg K)\",\"formatter\":{\"id\":\"4467\",\"type\":\"BasicTickFormatter\"},\"ticker\":{\"id\":\"4431\",\"type\":\"BasicTicker\"}},\"id\":\"4430\",\"type\":\"LinearAxis\"},{\"attributes\":{\"line_color\":\"green\",\"line_width\":2,\"x\":{\"field\":\"x\"},\"y\":{\"field\":\"y\"}},\"id\":\"4509\",\"type\":\"Line\"},{\"attributes\":{},\"id\":\"4426\",\"type\":\"LinearScale\"},{\"attributes\":{\"callback\":null,\"data\":{\"x\":[0.6491956051959173,0.7211894423346118,0.7919986491779343,0.8616668730209781,0.9302359095009675,0.9977460504886083,1.064236321144777,1.129744638534327,1.1943079165862869,1.2579621359539002,1.320742392343854,1.382682933001076,1.4438171880806023,1.5041778014440321,1.5637966638266043,1.622704950203045,1.6809331624221138,1.7385111776940327,1.7954683032335002,1.8518333372299611,1.9076346362990955,1.9629001896387688,2.0176577002494533,2.0719346737764126,2.125758515783849,2.1791566385847063,2.2321565791321807,2.2847861299485537,2.337073485646882,2.3890474083274587,2.440737416052983,2.4921739997921377,2.543388875766939,2.5944152821799076,2.645288332027051,2.69604543740189,2.7467268257785853,2.797376175846404,2.8480414104993934,2.8987756990322877,2.9496387417990313,3.000698442374301,3.0520331210396097,3.1037345003174934,3.155911818299151,3.208697636157182,3.262256276445385,3.316796513291312,3.3725914824624756,3.430011643701725,3.4895833507309715,3.552103500613162,3.61889726094062,5.322381390641471,5.419193679013168,5.495604375590025,5.560352721464353,5.617296675027214,5.6685507779779165,5.7154268585845935,5.758807101163551,5.799319221403462,5.8374288919680115,5.873492801832365,5.907791164807882,5.940548682067248,5.971948629142501,6.002142649693278,6.031257760843921,6.059401486383403,6.086665696945587,6.11312953506489,6.138861678618754,6.163922116893987,6.1883635616148425,6.2122325804773695,6.2355705169107205,6.2584142431611625,6.280796781993125,6.302747823793336,6.324294159642648,6.345460046311489,6.366267515680284,6.386736638467706,6.406885750145013,6.426731645365172,6.44628974602738,6.4655742471478455,6.484598243955315,6.503373843029662,6.521912259819683,6.540223904486581,6.558318457702817,6.5762049377769145,6.593891760261941,6.611386791029467,6.62869739364493,6.645830471758566,6.662792507124349,6.679589593773722],\"y\":{\"__ndarray__\":\"sPBzK/omR0BHWMDI3fJJQN6/DGbBvkxAdCdZA6WKT0CGx1JQRCtRQFH7+B42kVJAHC+f7Sf3U0DoYkW8GV1VQLOW64oLw1ZAfsqRWf0oWEBK/jco745ZQBUy3vbg9FpA4GWExdJaXECsmSqUxMBdQHfN0GK2Jl9AooC7GFRGYECHmg4ATflgQGy0YedFrGFAUs60zj5fYkA46Ae2NxJjQB4CW50wxWNABByuhCl4ZEDpNQFsIitlQM9PVFMb3mVAtGmnOhSRZkCag/ohDURnQICdTQkG92dAZreg8P6paEBL0fPX91xpQDHrRr/wD2pAFwWapunCakD8Hu2N4nVrQOI4QHXbKGxAyFKTXNTbbECtbOZDzY5tQJOGOSvGQW5AeaCMEr/0bkBeut/5t6dvQCJqmXBYLXBAFfdC5NSGcEAIhOxXUeBwQPoQlsvNOXFA7p0/P0qTcUDgKumyxuxxQNO3kiZDRnJAxkQ8mr+fckC50eUNPPlyQKxej4G4UnNAnus49TSsc0CReOJosQV0QIQFjNwtX3RAd5I1UKq4dEBqH9/DJhJ1QF2siDeja3VAUDkyqx/FdUBCxtsenB52QDVThZIYeHZAKOAuBpXRdkAbbdh5ESt3QA76ge2NhHdAAYcrYQred0DzE9XUhjd4QOagfkgDkXhA2S0ovH/qeEDMutEv/EN5QL9He6N4nXlAstQkF/X2eUClYc6KcVB6QJfud/7tqXpAinshcmoDe0B9CMvl5lx7QHCVdFljtntAYyIezd8PfEBWr8dAXGl8QEg8cbTYwnxAO8kaKFUcfUAuVsSb0XV9QCHjbQ9Oz31AFHAXg8oofkAH/cD2RoJ+QPqJamrD235A7BYU3j81f0Dfo71RvI5/QNIwZ8U46H9A4l6InNoggEBcJV3WmE2AQNbrMRBXeoBATrIGShWngEDIeNuD09OAQEI/sL2RAIFAuwWF908tgUA0zFkxDlqBQK6SLmvMhoFAJ1kDpYqzgUChH9jeSOCBQBrmrBgHDYJAk6yBUsU5gkANc1aMg2aCQIY5K8ZBk4JAAAAAAADAgkA=\",\"dtype\":\"float64\",\"shape\":[100]}},\"selected\":{\"id\":\"4601\",\"type\":\"Selection\"},\"selection_policy\":{\"id\":\"4602\",\"type\":\"UnionRenderers\"}},\"id\":\"4493\",\"type\":\"ColumnDataSource\"},{\"attributes\":{},\"id\":\"4428\",\"type\":\"LinearScale\"},{\"attributes\":{\"line_alpha\":0.1,\"line_color\":\"#1f77b4\",\"line_width\":2,\"x\":{\"field\":\"x\"},\"y\":{\"field\":\"y\"}},\"id\":\"4510\",\"type\":\"Line\"},{\"attributes\":{},\"id\":\"4601\",\"type\":\"Selection\"},{\"attributes\":{\"data_source\":{\"id\":\"4508\",\"type\":\"ColumnDataSource\"},\"glyph\":{\"id\":\"4509\",\"type\":\"Line\"},\"hover_glyph\":null,\"muted_glyph\":null,\"nonselection_glyph\":{\"id\":\"4510\",\"type\":\"Line\"},\"selection_glyph\":null,\"view\":{\"id\":\"4512\",\"type\":\"CDSView\"}},\"id\":\"4511\",\"type\":\"GlyphRenderer\"},{\"attributes\":{\"line_alpha\":0.1,\"line_color\":\"#1f77b4\",\"line_width\":2,\"x\":{\"field\":\"x\"},\"y\":{\"field\":\"y\"}},\"id\":\"4473\",\"type\":\"Line\"},{\"attributes\":{},\"id\":\"4431\",\"type\":\"BasicTicker\"},{\"attributes\":{\"ticker\":{\"id\":\"4431\",\"type\":\"BasicTicker\"}},\"id\":\"4434\",\"type\":\"Grid\"},{\"attributes\":{\"source\":{\"id\":\"4508\",\"type\":\"ColumnDataSource\"}},\"id\":\"4512\",\"type\":\"CDSView\"},{\"attributes\":{\"axis_label\":\"Temperatura (\\u00b0C)\",\"formatter\":{\"id\":\"4465\",\"type\":\"BasicTickFormatter\"},\"ticker\":{\"id\":\"4436\",\"type\":\"BasicTicker\"}},\"id\":\"4435\",\"type\":\"LinearAxis\"},{\"attributes\":{\"line_color\":\"green\",\"line_width\":2,\"x\":{\"field\":\"x\"},\"y\":{\"field\":\"y\"}},\"id\":\"4514\",\"type\":\"Line\"},{\"attributes\":{},\"id\":\"4436\",\"type\":\"BasicTicker\"},{\"attributes\":{},\"id\":\"4600\",\"type\":\"UnionRenderers\"},{\"attributes\":{\"line_alpha\":0.1,\"line_color\":\"#1f77b4\",\"line_width\":2,\"x\":{\"field\":\"x\"},\"y\":{\"field\":\"y\"}},\"id\":\"4515\",\"type\":\"Line\"},{\"attributes\":{\"dimension\":1,\"ticker\":{\"id\":\"4436\",\"type\":\"BasicTicker\"}},\"id\":\"4439\",\"type\":\"Grid\"},{\"attributes\":{\"data_source\":{\"id\":\"4513\",\"type\":\"ColumnDataSource\"},\"glyph\":{\"id\":\"4514\",\"type\":\"Line\"},\"hover_glyph\":null,\"muted_glyph\":null,\"nonselection_glyph\":{\"id\":\"4515\",\"type\":\"Line\"},\"selection_glyph\":null,\"view\":{\"id\":\"4517\",\"type\":\"CDSView\"}},\"id\":\"4516\",\"type\":\"GlyphRenderer\"},{\"attributes\":{\"callback\":null,\"data\":{\"x\":[0.436754859524373,0.46051838228721487,0.48414617954774253,0.5076403189384212,0.5310027871567667,0.5542354972829786,0.5773402953676213,0.6003189663640346,0.6231732394781687,0.6459047929909546,0.6685152586059334,0.6910062253693958,0.7133792432015057,0.7356358260802272,0.757777454905209,0.7798055800764101,0.8017216238121827,0.8235269822328152,0.8452230272307975,0.8668111081494312,0.8882925532876846,0.9096686712482216,0.930940752144651,0.9521100686816936,0.9731778771208487,0.9941454181443901,1.015013917626813,1.0357845873243885,1.0564586254920756,1.0770372174345013,1.0975215359993375,1.1179127420190598,1.138211984707962,1.1584204020182745,1.1785391209617742,1.1985692579003906,1.2185119188103266,1.2383681995225622,1.2581391859436333,1.2778259542590245,1.2974295711222692,1.3169510938313809,1.3363915704951104,1.3557520401909056,1.3750335331156658,1.3942370707314429,1.4133636659066007,1.4324143230540742,1.4513900382675435,1.470291799456286,1.489120586479349,1.5078773712802422,1.5265631180219432,1.5451787832234254,1.5637253158972384,1.5822036576898457,1.6006147430234694,1.618959499240755,1.637238846752334,1.6554536991870823,1.6736049635454426,1.691693540356214,1.709720323836514,1.727686202054898,1.745592057098619,1.763438765243856,1.7812271971298623,1.7989582179368522,1.8166326875674361,1.834251460832118,1.8518153876383752,1.8693253131839438,1.8867820781539049,1.9041865189217246,1.9215394677548145,1.9388417530238327,1.9560941994165641,1.973297628156327,1.9904528572244466,2.007560701587907,2.0246219734315267,2.041637482395107,2.05860803581596,2.075534438976446,2.092417495357386,2.1092580068970888,2.126056774256564,2.1428145970910064,2.159532274327971,2.176210604452581,2.1928503857999937,2.209452416855729,2.226017496564123,2.2425464246454183,2.259040001921969,2.275499030654167,2.2919243148865154,2.308316660804646,2.324676877103778,2.3410057753694544,2.357304170471295,2.3735728809704244,2.3898127295418603,2.4060245434123253,2.422209154814862,2.438367401461213,2.454500127033122,2.4706081816938865,2.4866924226215334,2.5027537145649887,2.5187929304247834,2.5348109518611044,2.550808669927503,2.566786985737769,2.582746811163189,2.5986890695648714,2.6146146965630086,2.630524640845847,2.6464198650212447,2.662301346513771,2.67817007851097,2.694027070963305,2.7098733516356877,2.72570996722862,2.741537984557013,2.7573584918029375,2.77317259984354,2.7889814436609166,2.804786183840048,2.8205880081619354,2.8363881332996095,2.852187806625257,2.8679883081373916,2.883790952518251,2.899597091331955,2.915408115375565,2.931225457195724,2.9470505937855944,2.9628850494772916,2.978730399047486,2.9945882710550786,3.0104603514319788,3.026348387350283,3.0422541913917263,3.0581796460479187,3.0741267085834307,3.090097416297143,3.1060938922217063,3.1221183513057786,3.1381731071289956,3.1542605792065763,3.170383300947421,3.1865439283387733,3.2027452494405884,3.2189901947854622,3.235281848793974,3.2516234623340763,3.268018466573579,3.2844704883019937,3.300983366929954,3.3175611734149952,3.334208231412805,3.3509291410165143,3.3677288055271553,3.384612461800423,3.401585714845911,3.418654577522325,3.435825516387916,3.4531055050426063,3.4705020866554275,3.488023447831443,3.505678506557026,3.5234770177721146,3.5414297009415914,3.55954839550723,3.5778462514209037,3.5963379641565565,3.6150400661135453,3.6339712895968472,3.6531530206906737,3.6726098685557482,3.6923703812294772,3.7124679471569055,3.7329419316304,3.753839109037602,3.7752154646913443,3.797138452229359,3.8196898003567537,3.842968960556316,3.86709727445246,3.892222951960765,3.918527189199256,3.9462330135486376,3.975623365719054,4.007090898364464,4.041286045288696,4.079544980170212,4.125171409331126,4.188206986789639,4.406961892363361],\"y\":{\"__ndarray__\":\"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\",\"dtype\":\"float64\",\"shape\":[200]}},\"selected\":{\"id\":\"4483\",\"type\":\"Selection\"},\"selection_policy\":{\"id\":\"4484\",\"type\":\"UnionRenderers\"}},\"id\":\"4457\",\"type\":\"ColumnDataSource\"},{\"attributes\":{\"source\":{\"id\":\"4471\",\"type\":\"ColumnDataSource\"}},\"id\":\"4475\",\"type\":\"CDSView\"},{\"attributes\":{\"source\":{\"id\":\"4513\",\"type\":\"ColumnDataSource\"}},\"id\":\"4517\",\"type\":\"CDSView\"},{\"attributes\":{\"bottom_units\":\"screen\",\"fill_alpha\":{\"value\":0.5},\"fill_color\":{\"value\":\"lightgrey\"},\"left_units\":\"screen\",\"level\":\"overlay\",\"line_alpha\":{\"value\":1.0},\"line_color\":{\"value\":\"black\"},\"line_dash\":[4,4],\"line_width\":{\"value\":2},\"render_mode\":\"css\",\"right_units\":\"screen\",\"top_units\":\"screen\"},\"id\":\"4468\",\"type\":\"BoxAnnotation\"},{\"attributes\":{},\"id\":\"4597\",\"type\":\"Selection\"},{\"attributes\":{},\"id\":\"4598\",\"type\":\"UnionRenderers\"},{\"attributes\":{},\"id\":\"4599\",\"type\":\"Selection\"},{\"attributes\":{},\"id\":\"4440\",\"type\":\"PanTool\"},{\"attributes\":{},\"id\":\"4441\",\"type\":\"WheelZoomTool\"},{\"attributes\":{\"overlay\":{\"id\":\"4468\",\"type\":\"BoxAnnotation\"}},\"id\":\"4442\",\"type\":\"BoxZoomTool\"},{\"attributes\":{},\"id\":\"4443\",\"type\":\"SaveTool\"},{\"attributes\":{\"callback\":null,\"data\":{\"x\":[7.353859987809368,7.353859987809368],\"y\":[600.0,45.806328923937826]},\"selected\":{\"id\":\"4607\",\"type\":\"Selection\"},\"selection_policy\":{\"id\":\"4608\",\"type\":\"UnionRenderers\"}},\"id\":\"4508\",\"type\":\"ColumnDataSource\"},{\"attributes\":{},\"id\":\"4445\",\"type\":\"HelpTool\"},{\"attributes\":{},\"id\":\"4444\",\"type\":\"ResetTool\"},{\"attributes\":{},\"id\":\"4602\",\"type\":\"UnionRenderers\"},{\"attributes\":{\"line_color\":\"red\",\"line_width\":2,\"x\":{\"field\":\"x\"},\"y\":{\"field\":\"y\"}},\"id\":\"4472\",\"type\":\"Line\"},{\"attributes\":{\"source\":{\"id\":\"4498\",\"type\":\"ColumnDataSource\"}},\"id\":\"4502\",\"type\":\"CDSView\"},{\"attributes\":{},\"id\":\"4467\",\"type\":\"BasicTickFormatter\"},{\"attributes\":{\"data_source\":{\"id\":\"4471\",\"type\":\"ColumnDataSource\"},\"glyph\":{\"id\":\"4472\",\"type\":\"Line\"},\"hover_glyph\":null,\"muted_glyph\":null,\"nonselection_glyph\":{\"id\":\"4473\",\"type\":\"Line\"},\"selection_glyph\":null,\"view\":{\"id\":\"4475\",\"type\":\"CDSView\"}},\"id\":\"4474\",\"type\":\"GlyphRenderer\"},{\"attributes\":{},\"id\":\"4610\",\"type\":\"UnionRenderers\"},{\"attributes\":{},\"id\":\"4483\",\"type\":\"Selection\"},{\"attributes\":{\"active_drag\":\"auto\",\"active_inspect\":\"auto\",\"active_multi\":null,\"active_scroll\":\"auto\",\"active_tap\":\"auto\",\"tools\":[{\"id\":\"4440\",\"type\":\"PanTool\"},{\"id\":\"4441\",\"type\":\"WheelZoomTool\"},{\"id\":\"4442\",\"type\":\"BoxZoomTool\"},{\"id\":\"4443\",\"type\":\"SaveTool\"},{\"id\":\"4444\",\"type\":\"ResetTool\"},{\"id\":\"4445\",\"type\":\"HelpTool\"}]},\"id\":\"4446\",\"type\":\"Toolbar\"},{\"attributes\":{},\"id\":\"4603\",\"type\":\"Selection\"},{\"attributes\":{\"line_color\":\"green\",\"line_width\":2,\"x\":{\"field\":\"x\"},\"y\":{\"field\":\"y\"}},\"id\":\"4504\",\"type\":\"Line\"},{\"attributes\":{\"label\":{\"value\":\"Curva de L\\u00edquido Saturado\"},\"renderers\":[{\"id\":\"4460\",\"type\":\"GlyphRenderer\"}]},\"id\":\"4470\",\"type\":\"LegendItem\"},{\"attributes\":{\"line_color\":\"blue\",\"line_width\":2,\"x\":{\"field\":\"x\"},\"y\":{\"field\":\"y\"}},\"id\":\"4458\",\"type\":\"Line\"},{\"attributes\":{\"source\":{\"id\":\"4457\",\"type\":\"ColumnDataSource\"}},\"id\":\"4461\",\"type\":\"CDSView\"},{\"attributes\":{\"line_alpha\":0.1,\"line_color\":\"#1f77b4\",\"line_width\":2,\"x\":{\"field\":\"x\"},\"y\":{\"field\":\"y\"}},\"id\":\"4505\",\"type\":\"Line\"},{\"attributes\":{\"data_source\":{\"id\":\"4503\",\"type\":\"ColumnDataSource\"},\"glyph\":{\"id\":\"4504\",\"type\":\"Line\"},\"hover_glyph\":null,\"muted_glyph\":null,\"nonselection_glyph\":{\"id\":\"4505\",\"type\":\"Line\"},\"selection_glyph\":null,\"view\":{\"id\":\"4507\",\"type\":\"CDSView\"}},\"id\":\"4506\",\"type\":\"GlyphRenderer\"},{\"attributes\":{\"callback\":null,\"data\":{\"x\":[0.6491956051958255,0.6491956051958255],\"y\":[45.806328923937826,46.30450957451956]},\"selected\":{\"id\":\"4599\",\"type\":\"Selection\"},\"selection_policy\":{\"id\":\"4600\",\"type\":\"UnionRenderers\"}},\"id\":\"4488\",\"type\":\"ColumnDataSource\"},{\"attributes\":{\"line_alpha\":0.1,\"line_color\":\"#1f77b4\",\"line_width\":2,\"x\":{\"field\":\"x\"},\"y\":{\"field\":\"y\"}},\"id\":\"4459\",\"type\":\"Line\"},{\"attributes\":{\"data_source\":{\"id\":\"4457\",\"type\":\"ColumnDataSource\"},\"glyph\":{\"id\":\"4458\",\"type\":\"Line\"},\"hover_glyph\":null,\"muted_glyph\":null,\"nonselection_glyph\":{\"id\":\"4459\",\"type\":\"Line\"},\"selection_glyph\":null,\"view\":{\"id\":\"4461\",\"type\":\"CDSView\"}},\"id\":\"4460\",\"type\":\"GlyphRenderer\"},{\"attributes\":{},\"id\":\"4465\",\"type\":\"BasicTickFormatter\"},{\"attributes\":{\"callback\":null,\"data\":{\"x\":[7.353859987809368,0.6491956051958255],\"y\":[45.806328923937826,45.806328923937826]},\"selected\":{\"id\":\"4609\",\"type\":\"Selection\"},\"selection_policy\":{\"id\":\"4610\",\"type\":\"UnionRenderers\"}},\"id\":\"4513\",\"type\":\"ColumnDataSource\"},{\"attributes\":{},\"id\":\"4604\",\"type\":\"UnionRenderers\"},{\"attributes\":{\"source\":{\"id\":\"4503\",\"type\":\"ColumnDataSource\"}},\"id\":\"4507\",\"type\":\"CDSView\"},{\"attributes\":{},\"id\":\"4484\",\"type\":\"UnionRenderers\"}],\"root_ids\":[\"4421\"]},\"title\":\"Bokeh Application\",\"version\":\"1.4.0\"}};\n",
       "  var render_items = [{\"docid\":\"82818e58-fc98-4a09-b15e-09898b9298df\",\"roots\":{\"4421\":\"47eae6bc-d9ca-4651-8a1c-72af2e5c6b40\"}}];\n",
       "  root.Bokeh.embed.embed_items_notebook(docs_json, render_items);\n",
       "\n",
       "  }\n",
       "  if (root.Bokeh !== undefined) {\n",
       "    embed_document(root);\n",
       "  } else {\n",
       "    var attempts = 0;\n",
       "    var timer = setInterval(function(root) {\n",
       "      if (root.Bokeh !== undefined) {\n",
       "        clearInterval(timer);\n",
       "        embed_document(root);\n",
       "      } else {\n",
       "        attempts++;\n",
       "        if (attempts > 100) {\n",
       "          clearInterval(timer);\n",
       "          console.log(\"Bokeh: ERROR: Unable to run BokehJS code because BokehJS library is missing\");\n",
       "        }\n",
       "      }\n",
       "    }, 10, root)\n",
       "  }\n",
       "})(window);"
      ],
      "application/vnd.bokehjs_exec.v0+json": ""
     },
     "metadata": {
      "application/vnd.bokehjs_exec.v0+json": {
       "id": "4421"
      }
     },
     "output_type": "display_data"
    }
   ],
   "source": [
    "p.line(s12, T12, line_width = 2, color = 'green')\n",
    "p.line(s23, T23, line_width = 2, color = 'green')\n",
    "p.line(s34, T34, line_width = 2, color = 'green')\n",
    "p.line(s45, T45, line_width = 2, color = 'green')\n",
    "p.line(s56, T56, line_width = 2, color = 'green')\n",
    "p.line(s61, T61, line_width = 2, color = 'green')\n",
    "p.legend.location = \"top_left\"\n",
    "\n",
    "# Exibir o Gráfico\n",
    "show(p)"
   ]
  },
  {
   "cell_type": "markdown",
   "metadata": {
    "slideshow": {
     "slide_type": "slide"
    }
   },
   "source": [
    "### Exercício\n",
    "Utilizando este Notebook, simule o mesmo ciclo considerando que a umidade do vapor na saída da caldeira não ultrapasse 5%. Em relação ao exemplo, essa mudança na especificação do título aumenta ou diminui a eficiência do ciclo? Justifique."
   ]
  }
 ],
 "metadata": {
  "kernelspec": {
   "display_name": "Python 3",
   "language": "python",
   "name": "python3"
  },
  "language_info": {
   "codemirror_mode": {
    "name": "ipython",
    "version": 3
   },
   "file_extension": ".py",
   "mimetype": "text/x-python",
   "name": "python",
   "nbconvert_exporter": "python",
   "pygments_lexer": "ipython3",
   "version": "3.7.6"
  }
 },
 "nbformat": 4,
 "nbformat_minor": 4
}
