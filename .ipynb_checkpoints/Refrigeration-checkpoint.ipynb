{
 "cells": [
  {
   "cell_type": "markdown",
   "metadata": {},
   "source": [
    "## Ciclo Ideal de Refrigeração por Compressão de Vapor"
   ]
  },
  {
   "cell_type": "markdown",
   "metadata": {},
   "source": [
    "\n",
    "### **Exemplo:** Um refrigerador utiliza refrigerante R134a como fluido de trabalho e opera em um ciclo de refrigeração por compressão de vapor entre $0,14MPa$ e $0,8MPa$. Se a vazão mássica do refrigerante for de $0,05 kg/s$, determine (a) a taxa de remoção de calor do espaço refrigerado e a potência forneccida ao compressor, (b) a taxa de rejeição de calor para o ambiente e (c) o COP do refrigerador."
   ]
  },
  {
   "cell_type": "markdown",
   "metadata": {},
   "source": [
    "Para a solução do problema devemos analisar o diagrama T-s para o ciclo ideal de refrigeração. Observe que a vazão mássica está especificada ($ \\dot{m}=0,05m^3/s $) e os limites de pressão são $ 0,14MPa $  na entrada e $0,8MPa$ na saída do compressor. Podemos construir o diagrama abaixo, desprezando as perdas de carga no evaporador e condensador, considerando o compressor isentrópico e a válvula de expansão isentálpica."
   ]
  },
  {
   "cell_type": "code",
   "execution_count": 1,
   "metadata": {},
   "outputs": [
    {
     "data": {
      "image/png": "[encoded data removed]",
      "text/plain": [
       "<IPython.core.display.Image object>"
      ]
     },
     "execution_count": 1,
     "metadata": {},
     "output_type": "execute_result"
    }
   ],
   "source": [
    "from IPython.display import Image\n",
    "Image(\"Ciclo.png\")"
   ]
  },
  {
   "cell_type": "markdown",
   "metadata": {},
   "source": [
    "## Solução"
   ]
  },
  {
   "cell_type": "markdown",
   "metadata": {},
   "source": [
    "Para a solução do problema precisamos obter as propriedades do fluido de trabalho (R134a) nos estados de interesse. para isso vamos usar a biblioteca de propriedades de fluidos CoolProp (http://www.coolprop.org) e definir o R134a como fluido refrigerante."
   ]
  },
  {
   "cell_type": "code",
   "execution_count": 165,
   "metadata": {},
   "outputs": [],
   "source": [
    "from CoolProp import CoolProp as cp\n",
    "from sympy import pretty_print as latex\n",
    "fluido= 'R134a'\n",
    "cp.set_reference_state(fluido,'ASHRAE') # Definindo o padrão ASHRAE de referência para as propriedades termodinâmicas.\n",
    "m=0.05 # vazão mássica dada no enunciado."
   ]
  },
  {
   "cell_type": "markdown",
   "metadata": {},
   "source": [
    "Para o estado 1, temos vapor saturado a $P_1=0,14MPa$:\n"
   ]
  },
  {
   "cell_type": "code",
   "execution_count": 214,
   "metadata": {},
   "outputs": [
    {
     "name": "stdout",
     "output_type": "stream",
     "text": [
      "h1= 239.176 kJ/kg:\n",
      "s1= 0.945 kJ/kg:\n",
      "T1= -18.760 °C:\n"
     ]
    }
   ],
   "source": [
    "P1=0.14 #Unidade em MPa, a conversão para Pa será feita na chamada à função abaixo.\n",
    "Q1=1    # Título igual a um para vapor saturado\n",
    "h1 = cp.PropsSI('H', 'P', P1 * 1E6, 'Q', Q1, fluido) * 1E-3 #Determinando a entalpia e convertendo para kJ/kg\n",
    "s1 = cp.PropsSI('S', 'P', P1 * 1E6, 'Q', Q1, fluido) * 1E-3 #Determinando a entropia e convertendo para kJ/kg\n",
    "T1 = cp.PropsSI('T', 'P', P1 * 1E6, 'Q', Q1, fluido)        #Determinando a temperatura em K\n",
    "print('h1= {:.3f} kJ/kg:'.format(h1))\n",
    "print('s1= {:.3f} kJ/kg:'.format(s1))\n",
    "print('T1= {:.3f} °C:'.format(T1-273.15))"
   ]
  },
  {
   "cell_type": "markdown",
   "metadata": {},
   "source": [
    "Para o estado 2, temos vapor superaquecido a $P_2=0,8MPa$ e $s_2=s_1$ (Compressor isentrópico):\n"
   ]
  },
  {
   "cell_type": "code",
   "execution_count": 232,
   "metadata": {},
   "outputs": [
    {
     "name": "stdout",
     "output_type": "stream",
     "text": [
      "h2= 293.811 kJ/kg:\n",
      "T2= 75.449 kJ/kg:\n"
     ]
    }
   ],
   "source": [
    "P2 = 0.8 #Unidade em MPa, a conversão para Pa será feita na chamada à função abaixo.\n",
    "s2 = s1    # Título igual a um para vapor saturado\n",
    "h2 = cp.PropsSI('H', 'P', P2 * 1E6, 'S', s2*1E3, fluido) * 1E-3 #Determinando a entalpia e convertendo para kJ/kg\n",
    "T2 = cp.PropsSI('T', 'P', P2 * 1E6, 'S', s2*1E3, fluido)        #Determinando a temperatura em K\n",
    "print('h2= {:.3f} kJ/kg:'.format(h2))\n",
    "print('T2= {:.3f} kJ/kg:'.format(T2-273.15))"
   ]
  },
  {
   "cell_type": "markdown",
   "metadata": {},
   "source": [
    "Do diagrama T-s, observamos que no estado 3 temos líquido saturado a $P_3=0,8MPa$:\n"
   ]
  },
  {
   "cell_type": "code",
   "execution_count": 233,
   "metadata": {},
   "outputs": [
    {
     "name": "stdout",
     "output_type": "stream",
     "text": [
      "h3= 148.010 kJ/kg:\n",
      "T3= 65.234 °C:\n"
     ]
    }
   ],
   "source": [
    "P3=P2 #Unidade em MPa, a conversão para Pa será feita na chamada à função abaixo.\n",
    "Q3=0    # Título igual a zero para líquido saturado\n",
    "h3 = cp.PropsSI('H', 'P', P3 * 1E6, 'Q', Q3, fluido) * 1E-3 #Determinando a entalpia e convertendo para kJ/kg\n",
    "s3 = cp.PropsSI('S', 'P', P3 * 1E6, 'Q', Q3, fluido) * 1E-3 #Determinando a entalpia e convertendo para kJ/kg\n",
    "T3 = cp.PropsSI('T', 'P', P3 * 1E6, 'Q', Q3, fluido)        #Determinando a temperatura em K\n",
    "print('h3= {:.3f} kJ/kg:'.format(h3))\n",
    "print('T3= {:.3f} °C:'.format(T3-273.15))"
   ]
  },
  {
   "cell_type": "markdown",
   "metadata": {},
   "source": [
    "E, como a válvula de expansão é isentálpica, $h_4=h_3$:\n"
   ]
  },
  {
   "cell_type": "code",
   "execution_count": 234,
   "metadata": {},
   "outputs": [
    {
     "name": "stdout",
     "output_type": "stream",
     "text": [
      "h4= 148.010 kJ/kg:\n",
      "s4= 0.586 kJ/kg:\n",
      "T4= -18.760 kJ/kg:\n"
     ]
    }
   ],
   "source": [
    "h4=h3 #Válvula isentálpica\n",
    "T4=T1\n",
    "P4=P1\n",
    "s4 = cp.PropsSI('S', 'H', h4* 1E3, 'P', P4*1E6, fluido) * 1E-3 #Determinando a entalpia e convertendo para kJ/kg\n",
    "print('h4= {:.3f} kJ/kg:'.format(h4))\n",
    "print('s4= {:.3f} kJ/kg:'.format(s4))\n",
    "print('T4= {:.3f} kJ/kg:'.format(T4-273.15))"
   ]
  },
  {
   "cell_type": "markdown",
   "metadata": {},
   "source": [
    "Para continuar a solução do problemas, vamos aplicar a equação da energia para volume de controle para cada um dos quatro componentes do ciclo, considerando ainda regime permanente ($\\frac{dE_{vc}}{dt}=0$) e desprezando-se a variação de energias cinética e potencial. Assim, para o evaporador $\\dot{W}=0$ e a equação da energia se reduz a: \n",
    "$\\dot{Q_L}=\\dot{m}(h_1-h_4)$"
   ]
  },
  {
   "cell_type": "code",
   "execution_count": 235,
   "metadata": {},
   "outputs": [
    {
     "name": "stdout",
     "output_type": "stream",
     "text": [
      "QL = 4.558 kW:\n"
     ]
    }
   ],
   "source": [
    "QL=m*(h1-h4)\n",
    "print('QL = {:.3f} kW:'.format(QL))"
   ]
  },
  {
   "cell_type": "markdown",
   "metadata": {},
   "source": [
    "Aplicando a equação da energia para volume de controle para o compressor $\\dot{Q}=0$ obtemos: \n",
    "$\\dot{W_{ent}}=\\dot{m}(h_2-h_1)$"
   ]
  },
  {
   "cell_type": "code",
   "execution_count": 236,
   "metadata": {},
   "outputs": [
    {
     "name": "stdout",
     "output_type": "stream",
     "text": [
      "W = 2.732 kW:\n"
     ]
    }
   ],
   "source": [
    "W=m*(h2-h1)\n",
    "print('W = {:.3f} kW:'.format(W))"
   ]
  },
  {
   "cell_type": "markdown",
   "metadata": {},
   "source": [
    "Aplicando a equação da energia para volume de controle para o condensador $\\dot{Q}=0$ obtemos: \n",
    "$\\dot{Q_{H}}=\\dot{m}(h_2-h_3)$"
   ]
  },
  {
   "cell_type": "code",
   "execution_count": 237,
   "metadata": {},
   "outputs": [
    {
     "name": "stdout",
     "output_type": "stream",
     "text": [
      "QH = 7.290 kW\n"
     ]
    }
   ],
   "source": [
    "QH=m*(h2-h3)\n",
    "print('QH = {:.3f} kW'.format(QH))"
   ]
  },
  {
   "cell_type": "markdown",
   "metadata": {},
   "source": [
    "Finalmente, obtemos o coeficiente de desempenho: $COP=\\frac{\\dot{Q_L}}{\\dot{W_{ent}}}$:"
   ]
  },
  {
   "cell_type": "code",
   "execution_count": 238,
   "metadata": {},
   "outputs": [
    {
     "name": "stdout",
     "output_type": "stream",
     "text": [
      "COP = 1.669\n"
     ]
    }
   ],
   "source": [
    "COP=QL/W\n",
    "print('COP = {:.3f}'.format(COP))"
   ]
  },
  {
   "cell_type": "markdown",
   "metadata": {},
   "source": [
    "## Diagrama T-s - Ciclo de Refrigeração\n",
    "\n",
    "#### Processos termodinâmicos considerados:\n",
    "\n",
    "- Processo 1 a 2 : Compressão isentrópica (s2 = s1); <br> \n",
    "- Processo 2 a 3 : Condensação isobárica  (P3 = P2); <br>\n",
    "- Processo 3 a 4 : Expansão isentálpica   (h4 = h3); <br>\n",
    "- Processo 4 a 1 : Evaporação isobárica   (P4 = P1)."
   ]
  },
  {
   "cell_type": "markdown",
   "metadata": {},
   "source": [
    "Para plotar o Diagrama T-s, precisamos utilizar a biblioteca matplotlib para mostrar o gráfico e a biblioteca numpy para poder gerar os vetores que serão plotados."
   ]
  },
  {
   "cell_type": "markdown",
   "metadata": {},
   "source": [
    "5 -Construindo o diagrama T - s:"
   ]
  },
  {
   "cell_type": "code",
   "execution_count": 239,
   "metadata": {},
   "outputs": [
    {
     "data": {
      "image/png": "[encoded data removed]",
      "text/plain": [
       "<Figure size 432x288 with 1 Axes>"
      ]
     },
     "metadata": {
      "needs_background": "light"
     },
     "output_type": "display_data"
    }
   ],
   "source": [
    "import matplotlib.pyplot as plt\n",
    "import numpy as np\n",
    "\n",
    "plt.figure() # Define a saída do gráfico\n",
    "\n",
    "## Curvas de saturação de líquido (Q=0) e vapor (Q=1) para temperatura variando entre 10°C e 647.096K (T crítica)\n",
    "npt = np.linspace(-20,101.06,200) # Gera um vetor com 200 elementos para o intervalo de temperatura \n",
    "svap = [s for s in [cp.PropsSI('S', 'T', j + 273.15, 'Q', 1, fluido) * 1E-3 for j in npt]]\n",
    "sliq = [s for s in [cp.PropsSI('S', 'T', j + 273.15, 'Q', 0, fluido) * 1E-3 for j in npt]]\n",
    "plt.plot(svap, npt, 'r-')\n",
    "plt.plot(sliq, npt, 'b-')\n",
    "\n",
    "### Conjunto de processos  (s,T)\n",
    "\n",
    "T12 = [T1-273.15, T2-273.15] \n",
    "s12 = [s1, s2]\n",
    "\n",
    "T23=np.linspace(T2-273.15,T3-273.16,100)\n",
    "s23 = [s for s in [cp.PropsSI('S', 'T', j+273.15 , 'P', P3*1E6, fluido) * 1E-3 for j in T23]]\n",
    "\n",
    "P34 = np.linspace(P3,P4,20)\n",
    "T34 = [T-273.15 for T in [cp.PropsSI('T', 'H', h3*1E3, 'P', j*1E6, fluido)  for j in P34]]\n",
    "s34 = [s for s in [cp.PropsSI('S', 'H', h3*1E3, 'P', j*1E6, fluido) * 1E-3 for j in P34]]\n",
    "\n",
    "T41 = [T4-273.15, T1-273.15]\n",
    "s41 = [s4,s1]\n",
    "\n",
    "plt.plot(s12,T12,'g')\n",
    "plt.plot(s23,T23,'g')\n",
    "plt.plot(s34,T34,'g')\n",
    "plt.plot(s41,T41,'g')\n",
    "\n",
    "\n",
    "plt.xlabel('Entropia (kJ/(kg K)')\n",
    "plt.ylabel('Temperatura (°C)')\n",
    "plt.savefig('Rankine.png', transparent = True)\n",
    "plt.grid()\n",
    "plt.show()"
   ]
  },
  {
   "cell_type": "code",
   "execution_count": 249,
   "metadata": {},
   "outputs": [
    {
     "data": {
      "text/html": [
       "\n",
       "    <div class=\"bk-root\">\n",
       "        <a href=\"https://bokeh.org\" target=\"_blank\" class=\"bk-logo bk-logo-small bk-logo-notebook\"></a>\n",
       "        <span id=\"8800\">Loading BokehJS ...</span>\n",
       "    </div>"
      ]
     },
     "metadata": {},
     "output_type": "display_data"
    },
    {
     "data": {
      "application/javascript": [
       "\n",
       "(function(root) {\n",
       "  function now() {\n",
       "    return new Date();\n",
       "  }\n",
       "\n",
       "  var force = true;\n",
       "\n",
       "  if (typeof root._bokeh_onload_callbacks === \"undefined\" || force === true) {\n",
       "    root._bokeh_onload_callbacks = [];\n",
       "    root._bokeh_is_loading = undefined;\n",
       "  }\n",
       "\n",
       "  var JS_MIME_TYPE = 'application/javascript';\n",
       "  var HTML_MIME_TYPE = 'text/html';\n",
       "  var EXEC_MIME_TYPE = 'application/vnd.bokehjs_exec.v0+json';\n",
       "  var CLASS_NAME = 'output_bokeh rendered_html';\n",
       "\n",
       "  /**\n",
       "   * Render data to the DOM node\n",
       "   */\n",
       "  function render(props, node) {\n",
       "    var script = document.createElement(\"script\");\n",
       "    node.appendChild(script);\n",
       "  }\n",
       "\n",
       "  /**\n",
       "   * Handle when an output is cleared or removed\n",
       "   */\n",
       "  function handleClearOutput(event, handle) {\n",
       "    var cell = handle.cell;\n",
       "\n",
       "    var id = cell.output_area._bokeh_element_id;\n",
       "    var server_id = cell.output_area._bokeh_server_id;\n",
       "    // Clean up Bokeh references\n",
       "    if (id != null && id in Bokeh.index) {\n",
       "      Bokeh.index[id].model.document.clear();\n",
       "      delete Bokeh.index[id];\n",
       "    }\n",
       "\n",
       "    if (server_id !== undefined) {\n",
       "      // Clean up Bokeh references\n",
       "      var cmd = \"from bokeh.io.state import curstate; print(curstate().uuid_to_server['\" + server_id + \"'].get_sessions()[0].document.roots[0]._id)\";\n",
       "      cell.notebook.kernel.execute(cmd, {\n",
       "        iopub: {\n",
       "          output: function(msg) {\n",
       "            var id = msg.content.text.trim();\n",
       "            if (id in Bokeh.index) {\n",
       "              Bokeh.index[id].model.document.clear();\n",
       "              delete Bokeh.index[id];\n",
       "            }\n",
       "          }\n",
       "        }\n",
       "      });\n",
       "      // Destroy server and session\n",
       "      var cmd = \"import bokeh.io.notebook as ion; ion.destroy_server('\" + server_id + \"')\";\n",
       "      cell.notebook.kernel.execute(cmd);\n",
       "    }\n",
       "  }\n",
       "\n",
       "  /**\n",
       "   * Handle when a new output is added\n",
       "   */\n",
       "  function handleAddOutput(event, handle) {\n",
       "    var output_area = handle.output_area;\n",
       "    var output = handle.output;\n",
       "\n",
       "    // limit handleAddOutput to display_data with EXEC_MIME_TYPE content only\n",
       "    if ((output.output_type != \"display_data\") || (!output.data.hasOwnProperty(EXEC_MIME_TYPE))) {\n",
       "      return\n",
       "    }\n",
       "\n",
       "    var toinsert = output_area.element.find(\".\" + CLASS_NAME.split(' ')[0]);\n",
       "\n",
       "    if (output.metadata[EXEC_MIME_TYPE][\"id\"] !== undefined) {\n",
       "      toinsert[toinsert.length - 1].firstChild.textContent = output.data[JS_MIME_TYPE];\n",
       "      // store reference to embed id on output_area\n",
       "      output_area._bokeh_element_id = output.metadata[EXEC_MIME_TYPE][\"id\"];\n",
       "    }\n",
       "    if (output.metadata[EXEC_MIME_TYPE][\"server_id\"] !== undefined) {\n",
       "      var bk_div = document.createElement(\"div\");\n",
       "      bk_div.innerHTML = output.data[HTML_MIME_TYPE];\n",
       "      var script_attrs = bk_div.children[0].attributes;\n",
       "      for (var i = 0; i < script_attrs.length; i++) {\n",
       "        toinsert[toinsert.length - 1].firstChild.setAttribute(script_attrs[i].name, script_attrs[i].value);\n",
       "        toinsert[toinsert.length - 1].firstChild.textContent = bk_div.children[0].textContent\n",
       "      }\n",
       "      // store reference to server id on output_area\n",
       "      output_area._bokeh_server_id = output.metadata[EXEC_MIME_TYPE][\"server_id\"];\n",
       "    }\n",
       "  }\n",
       "\n",
       "  function register_renderer(events, OutputArea) {\n",
       "\n",
       "    function append_mime(data, metadata, element) {\n",
       "      // create a DOM node to render to\n",
       "      var toinsert = this.create_output_subarea(\n",
       "        metadata,\n",
       "        CLASS_NAME,\n",
       "        EXEC_MIME_TYPE\n",
       "      );\n",
       "      this.keyboard_manager.register_events(toinsert);\n",
       "      // Render to node\n",
       "      var props = {data: data, metadata: metadata[EXEC_MIME_TYPE]};\n",
       "      render(props, toinsert[toinsert.length - 1]);\n",
       "      element.append(toinsert);\n",
       "      return toinsert\n",
       "    }\n",
       "\n",
       "    /* Handle when an output is cleared or removed */\n",
       "    events.on('clear_output.CodeCell', handleClearOutput);\n",
       "    events.on('delete.Cell', handleClearOutput);\n",
       "\n",
       "    /* Handle when a new output is added */\n",
       "    events.on('output_added.OutputArea', handleAddOutput);\n",
       "\n",
       "    /**\n",
       "     * Register the mime type and append_mime function with output_area\n",
       "     */\n",
       "    OutputArea.prototype.register_mime_type(EXEC_MIME_TYPE, append_mime, {\n",
       "      /* Is output safe? */\n",
       "      safe: true,\n",
       "      /* Index of renderer in `output_area.display_order` */\n",
       "      index: 0\n",
       "    });\n",
       "  }\n",
       "\n",
       "  // register the mime type if in Jupyter Notebook environment and previously unregistered\n",
       "  if (root.Jupyter !== undefined) {\n",
       "    var events = require('base/js/events');\n",
       "    var OutputArea = require('notebook/js/outputarea').OutputArea;\n",
       "\n",
       "    if (OutputArea.prototype.mime_types().indexOf(EXEC_MIME_TYPE) == -1) {\n",
       "      register_renderer(events, OutputArea);\n",
       "    }\n",
       "  }\n",
       "\n",
       "  \n",
       "  if (typeof (root._bokeh_timeout) === \"undefined\" || force === true) {\n",
       "    root._bokeh_timeout = Date.now() + 5000;\n",
       "    root._bokeh_failed_load = false;\n",
       "  }\n",
       "\n",
       "  var NB_LOAD_WARNING = {'data': {'text/html':\n",
       "     \"<div style='background-color: #fdd'>\\n\"+\n",
       "     \"<p>\\n\"+\n",
       "     \"BokehJS does not appear to have successfully loaded. If loading BokehJS from CDN, this \\n\"+\n",
       "     \"may be due to a slow or bad network connection. Possible fixes:\\n\"+\n",
       "     \"</p>\\n\"+\n",
       "     \"<ul>\\n\"+\n",
       "     \"<li>re-rerun `output_notebook()` to attempt to load from CDN again, or</li>\\n\"+\n",
       "     \"<li>use INLINE resources instead, as so:</li>\\n\"+\n",
       "     \"</ul>\\n\"+\n",
       "     \"<code>\\n\"+\n",
       "     \"from bokeh.resources import INLINE\\n\"+\n",
       "     \"output_notebook(resources=INLINE)\\n\"+\n",
       "     \"</code>\\n\"+\n",
       "     \"</div>\"}};\n",
       "\n",
       "  function display_loaded() {\n",
       "    var el = document.getElementById(\"8800\");\n",
       "    if (el != null) {\n",
       "      el.textContent = \"BokehJS is loading...\";\n",
       "    }\n",
       "    if (root.Bokeh !== undefined) {\n",
       "      if (el != null) {\n",
       "        el.textContent = \"BokehJS \" + root.Bokeh.version + \" successfully loaded.\";\n",
       "      }\n",
       "    } else if (Date.now() < root._bokeh_timeout) {\n",
       "      setTimeout(display_loaded, 100)\n",
       "    }\n",
       "  }\n",
       "\n",
       "\n",
       "  function run_callbacks() {\n",
       "    try {\n",
       "      root._bokeh_onload_callbacks.forEach(function(callback) {\n",
       "        if (callback != null)\n",
       "          callback();\n",
       "      });\n",
       "    } finally {\n",
       "      delete root._bokeh_onload_callbacks\n",
       "    }\n",
       "    console.debug(\"Bokeh: all callbacks have finished\");\n",
       "  }\n",
       "\n",
       "  function load_libs(css_urls, js_urls, callback) {\n",
       "    if (css_urls == null) css_urls = [];\n",
       "    if (js_urls == null) js_urls = [];\n",
       "\n",
       "    root._bokeh_onload_callbacks.push(callback);\n",
       "    if (root._bokeh_is_loading > 0) {\n",
       "      console.debug(\"Bokeh: BokehJS is being loaded, scheduling callback at\", now());\n",
       "      return null;\n",
       "    }\n",
       "    if (js_urls == null || js_urls.length === 0) {\n",
       "      run_callbacks();\n",
       "      return null;\n",
       "    }\n",
       "    console.debug(\"Bokeh: BokehJS not loaded, scheduling load and callback at\", now());\n",
       "    root._bokeh_is_loading = css_urls.length + js_urls.length;\n",
       "\n",
       "    function on_load() {\n",
       "      root._bokeh_is_loading--;\n",
       "      if (root._bokeh_is_loading === 0) {\n",
       "        console.debug(\"Bokeh: all BokehJS libraries/stylesheets loaded\");\n",
       "        run_callbacks()\n",
       "      }\n",
       "    }\n",
       "\n",
       "    function on_error() {\n",
       "      console.error(\"failed to load \" + url);\n",
       "    }\n",
       "\n",
       "    for (var i = 0; i < css_urls.length; i++) {\n",
       "      var url = css_urls[i];\n",
       "      const element = document.createElement(\"link\");\n",
       "      element.onload = on_load;\n",
       "      element.onerror = on_error;\n",
       "      element.rel = \"stylesheet\";\n",
       "      element.type = \"text/css\";\n",
       "      element.href = url;\n",
       "      console.debug(\"Bokeh: injecting link tag for BokehJS stylesheet: \", url);\n",
       "      document.body.appendChild(element);\n",
       "    }\n",
       "\n",
       "    const hashes = {\"https://cdn.bokeh.org/bokeh/release/bokeh-2.0.2.min.js\": \"ufR9RFnRs6lniiaFvtJziE0YeidtAgBRH6ux2oUItHw5WTvE1zuk9uzhUU/FJXDp\", \"https://cdn.bokeh.org/bokeh/release/bokeh-widgets-2.0.2.min.js\": \"8QM/PGWBT+IssZuRcDcjzwIh1mkOmJSoNMmyYDZbCfXJg3Ap1lEvdVgFuSAwhb/J\", \"https://cdn.bokeh.org/bokeh/release/bokeh-tables-2.0.2.min.js\": \"Jm8cH3Rg0P6UeZhVY5cLy1WzKajUT9KImCY+76hEqrcJt59/d8GPvFHjCkYgnSIn\", \"https://cdn.bokeh.org/bokeh/release/bokeh-gl-2.0.2.min.js\": \"Ozhzj+SI7ywm74aOI/UajcWz+C0NjsPunEVyVIrxzYkB+jA+2tUw8x5xJCbVtK5I\"};\n",
       "\n",
       "    for (var i = 0; i < js_urls.length; i++) {\n",
       "      var url = js_urls[i];\n",
       "      var element = document.createElement('script');\n",
       "      element.onload = on_load;\n",
       "      element.onerror = on_error;\n",
       "      element.async = false;\n",
       "      element.src = url;\n",
       "      if (url in hashes) {\n",
       "        element.crossOrigin = \"anonymous\";\n",
       "        element.integrity = \"sha384-\" + hashes[url];\n",
       "      }\n",
       "      console.debug(\"Bokeh: injecting script tag for BokehJS library: \", url);\n",
       "      document.head.appendChild(element);\n",
       "    }\n",
       "  };\n",
       "\n",
       "  function inject_raw_css(css) {\n",
       "    const element = document.createElement(\"style\");\n",
       "    element.appendChild(document.createTextNode(css));\n",
       "    document.body.appendChild(element);\n",
       "  }\n",
       "\n",
       "  \n",
       "  var js_urls = [\"https://cdn.bokeh.org/bokeh/release/bokeh-2.0.2.min.js\", \"https://cdn.bokeh.org/bokeh/release/bokeh-widgets-2.0.2.min.js\", \"https://cdn.bokeh.org/bokeh/release/bokeh-tables-2.0.2.min.js\", \"https://cdn.bokeh.org/bokeh/release/bokeh-gl-2.0.2.min.js\"];\n",
       "  var css_urls = [];\n",
       "  \n",
       "\n",
       "  var inline_js = [\n",
       "    function(Bokeh) {\n",
       "      Bokeh.set_log_level(\"info\");\n",
       "    },\n",
       "    function(Bokeh) {\n",
       "    \n",
       "    \n",
       "    }\n",
       "  ];\n",
       "\n",
       "  function run_inline_js() {\n",
       "    \n",
       "    if (root.Bokeh !== undefined || force === true) {\n",
       "      \n",
       "    for (var i = 0; i < inline_js.length; i++) {\n",
       "      inline_js[i].call(root, root.Bokeh);\n",
       "    }\n",
       "    if (force === true) {\n",
       "        display_loaded();\n",
       "      }} else if (Date.now() < root._bokeh_timeout) {\n",
       "      setTimeout(run_inline_js, 100);\n",
       "    } else if (!root._bokeh_failed_load) {\n",
       "      console.log(\"Bokeh: BokehJS failed to load within specified timeout.\");\n",
       "      root._bokeh_failed_load = true;\n",
       "    } else if (force !== true) {\n",
       "      var cell = $(document.getElementById(\"8800\")).parents('.cell').data().cell;\n",
       "      cell.output_area.append_execute_result(NB_LOAD_WARNING)\n",
       "    }\n",
       "\n",
       "  }\n",
       "\n",
       "  if (root._bokeh_is_loading === 0) {\n",
       "    console.debug(\"Bokeh: BokehJS loaded, going straight to plotting\");\n",
       "    run_inline_js();\n",
       "  } else {\n",
       "    load_libs(css_urls, js_urls, function() {\n",
       "      console.debug(\"Bokeh: BokehJS plotting callback run at\", now());\n",
       "      run_inline_js();\n",
       "    });\n",
       "  }\n",
       "}(window));"
      ],
      "application/vnd.bokehjs_load.v0+json": "\n(function(root) {\n  function now() {\n    return new Date();\n  }\n\n  var force = true;\n\n  if (typeof root._bokeh_onload_callbacks === \"undefined\" || force === true) {\n    root._bokeh_onload_callbacks = [];\n    root._bokeh_is_loading = undefined;\n  }\n\n  \n\n  \n  if (typeof (root._bokeh_timeout) === \"undefined\" || force === true) {\n    root._bokeh_timeout = Date.now() + 5000;\n    root._bokeh_failed_load = false;\n  }\n\n  var NB_LOAD_WARNING = {'data': {'text/html':\n     \"<div style='background-color: #fdd'>\\n\"+\n     \"<p>\\n\"+\n     \"BokehJS does not appear to have successfully loaded. If loading BokehJS from CDN, this \\n\"+\n     \"may be due to a slow or bad network connection. Possible fixes:\\n\"+\n     \"</p>\\n\"+\n     \"<ul>\\n\"+\n     \"<li>re-rerun `output_notebook()` to attempt to load from CDN again, or</li>\\n\"+\n     \"<li>use INLINE resources instead, as so:</li>\\n\"+\n     \"</ul>\\n\"+\n     \"<code>\\n\"+\n     \"from bokeh.resources import INLINE\\n\"+\n     \"output_notebook(resources=INLINE)\\n\"+\n     \"</code>\\n\"+\n     \"</div>\"}};\n\n  function display_loaded() {\n    var el = document.getElementById(\"8800\");\n    if (el != null) {\n      el.textContent = \"BokehJS is loading...\";\n    }\n    if (root.Bokeh !== undefined) {\n      if (el != null) {\n        el.textContent = \"BokehJS \" + root.Bokeh.version + \" successfully loaded.\";\n      }\n    } else if (Date.now() < root._bokeh_timeout) {\n      setTimeout(display_loaded, 100)\n    }\n  }\n\n\n  function run_callbacks() {\n    try {\n      root._bokeh_onload_callbacks.forEach(function(callback) {\n        if (callback != null)\n          callback();\n      });\n    } finally {\n      delete root._bokeh_onload_callbacks\n    }\n    console.debug(\"Bokeh: all callbacks have finished\");\n  }\n\n  function load_libs(css_urls, js_urls, callback) {\n    if (css_urls == null) css_urls = [];\n    if (js_urls == null) js_urls = [];\n\n    root._bokeh_onload_callbacks.push(callback);\n    if (root._bokeh_is_loading > 0) {\n      console.debug(\"Bokeh: BokehJS is being loaded, scheduling callback at\", now());\n      return null;\n    }\n    if (js_urls == null || js_urls.length === 0) {\n      run_callbacks();\n      return null;\n    }\n    console.debug(\"Bokeh: BokehJS not loaded, scheduling load and callback at\", now());\n    root._bokeh_is_loading = css_urls.length + js_urls.length;\n\n    function on_load() {\n      root._bokeh_is_loading--;\n      if (root._bokeh_is_loading === 0) {\n        console.debug(\"Bokeh: all BokehJS libraries/stylesheets loaded\");\n        run_callbacks()\n      }\n    }\n\n    function on_error() {\n      console.error(\"failed to load \" + url);\n    }\n\n    for (var i = 0; i < css_urls.length; i++) {\n      var url = css_urls[i];\n      const element = document.createElement(\"link\");\n      element.onload = on_load;\n      element.onerror = on_error;\n      element.rel = \"stylesheet\";\n      element.type = \"text/css\";\n      element.href = url;\n      console.debug(\"Bokeh: injecting link tag for BokehJS stylesheet: \", url);\n      document.body.appendChild(element);\n    }\n\n    const hashes = {\"https://cdn.bokeh.org/bokeh/release/bokeh-2.0.2.min.js\": \"ufR9RFnRs6lniiaFvtJziE0YeidtAgBRH6ux2oUItHw5WTvE1zuk9uzhUU/FJXDp\", \"https://cdn.bokeh.org/bokeh/release/bokeh-widgets-2.0.2.min.js\": \"8QM/PGWBT+IssZuRcDcjzwIh1mkOmJSoNMmyYDZbCfXJg3Ap1lEvdVgFuSAwhb/J\", \"https://cdn.bokeh.org/bokeh/release/bokeh-tables-2.0.2.min.js\": \"Jm8cH3Rg0P6UeZhVY5cLy1WzKajUT9KImCY+76hEqrcJt59/d8GPvFHjCkYgnSIn\", \"https://cdn.bokeh.org/bokeh/release/bokeh-gl-2.0.2.min.js\": \"Ozhzj+SI7ywm74aOI/UajcWz+C0NjsPunEVyVIrxzYkB+jA+2tUw8x5xJCbVtK5I\"};\n\n    for (var i = 0; i < js_urls.length; i++) {\n      var url = js_urls[i];\n      var element = document.createElement('script');\n      element.onload = on_load;\n      element.onerror = on_error;\n      element.async = false;\n      element.src = url;\n      if (url in hashes) {\n        element.crossOrigin = \"anonymous\";\n        element.integrity = \"sha384-\" + hashes[url];\n      }\n      console.debug(\"Bokeh: injecting script tag for BokehJS library: \", url);\n      document.head.appendChild(element);\n    }\n  };\n\n  function inject_raw_css(css) {\n    const element = document.createElement(\"style\");\n    element.appendChild(document.createTextNode(css));\n    document.body.appendChild(element);\n  }\n\n  \n  var js_urls = [\"https://cdn.bokeh.org/bokeh/release/bokeh-2.0.2.min.js\", \"https://cdn.bokeh.org/bokeh/release/bokeh-widgets-2.0.2.min.js\", \"https://cdn.bokeh.org/bokeh/release/bokeh-tables-2.0.2.min.js\", \"https://cdn.bokeh.org/bokeh/release/bokeh-gl-2.0.2.min.js\"];\n  var css_urls = [];\n  \n\n  var inline_js = [\n    function(Bokeh) {\n      Bokeh.set_log_level(\"info\");\n    },\n    function(Bokeh) {\n    \n    \n    }\n  ];\n\n  function run_inline_js() {\n    \n    if (root.Bokeh !== undefined || force === true) {\n      \n    for (var i = 0; i < inline_js.length; i++) {\n      inline_js[i].call(root, root.Bokeh);\n    }\n    if (force === true) {\n        display_loaded();\n      }} else if (Date.now() < root._bokeh_timeout) {\n      setTimeout(run_inline_js, 100);\n    } else if (!root._bokeh_failed_load) {\n      console.log(\"Bokeh: BokehJS failed to load within specified timeout.\");\n      root._bokeh_failed_load = true;\n    } else if (force !== true) {\n      var cell = $(document.getElementById(\"8800\")).parents('.cell').data().cell;\n      cell.output_area.append_execute_result(NB_LOAD_WARNING)\n    }\n\n  }\n\n  if (root._bokeh_is_loading === 0) {\n    console.debug(\"Bokeh: BokehJS loaded, going straight to plotting\");\n    run_inline_js();\n  } else {\n    load_libs(css_urls, js_urls, function() {\n      console.debug(\"Bokeh: BokehJS plotting callback run at\", now());\n      run_inline_js();\n    });\n  }\n}(window));"
     },
     "metadata": {},
     "output_type": "display_data"
    },
    {
     "data": {
      "text/html": [
       "\n",
       "\n",
       "\n",
       "\n",
       "\n",
       "\n",
       "  <div class=\"bk-root\" id=\"c86003b8-eb29-4448-92c9-7a5583bb6cd0\" data-root-id=\"8801\"></div>\n"
      ]
     },
     "metadata": {},
     "output_type": "display_data"
    },
    {
     "data": {
      "application/javascript": [
       "(function(root) {\n",
       "  function embed_document(root) {\n",
       "    \n",
       "  var docs_json = {\"7eaaefe8-b212-4390-985b-4adaf826a6c6\":{\"roots\":{\"references\":[{\"attributes\":{\"below\":[{\"id\":\"8810\"}],\"center\":[{\"id\":\"8813\"},{\"id\":\"8817\"},{\"id\":\"8848\"}],\"left\":[{\"id\":\"8814\"}],\"renderers\":[{\"id\":\"8839\"},{\"id\":\"8853\"},{\"id\":\"8868\"},{\"id\":\"8873\"},{\"id\":\"8878\"},{\"id\":\"8883\"}],\"title\":{\"id\":\"8832\"},\"toolbar\":{\"id\":\"8825\"},\"x_range\":{\"id\":\"8802\"},\"x_scale\":{\"id\":\"8806\"},\"y_range\":{\"id\":\"8804\"},\"y_scale\":{\"id\":\"8808\"}},\"id\":\"8801\",\"subtype\":\"Figure\",\"type\":\"Plot\"},{\"attributes\":{\"align\":\"center\",\"text\":\"Ciclo Ideal de Rankine\",\"text_color\":{\"value\":\"black\"},\"text_font_size\":{\"value\":\"30px\"}},\"id\":\"8832\",\"type\":\"Title\"},{\"attributes\":{\"line_alpha\":0.1,\"line_color\":\"green\",\"line_width\":2,\"x\":{\"field\":\"x\"},\"y\":{\"field\":\"y\"}},\"id\":\"8867\",\"type\":\"Line\"},{\"attributes\":{\"line_color\":\"red\",\"line_width\":2,\"x\":{\"field\":\"x\"},\"y\":{\"field\":\"y\"}},\"id\":\"8851\",\"type\":\"Line\"},{\"attributes\":{\"data\":{\"x\":[0.9457119400754604,0.945169904924682,0.9446357857123122,0.9441094711091971,0.9435908507917882,0.943079815422376,0.9425762566293842,0.942080066987713,0.9415911399991373,0.9411093700727541,0.9406346525054774,0.9401668834625821,0.9397059599582894,0.9392517798363968,0.9388042417509467,0.9383632451469307,0.9379286902410319,0.9375004780023892,0.9370785101334034,0.9366626890505555,0.9362529178652499,0.9358491003646754,0.9354511409926746,0.9350589448306298,0.9346724175783419,0.9342914655349157,0.9339159955796331,0.933545915163763,0.933181132250892,0.9328215553542732,0.9324670934824014,0.9321176561280337,0.9317731532488982,0.9314334952483594,0.9310985929560206,0.9307683576082616,0.9304427008287067,0.9301215346086029,0.9298047712871115,0.9294923235315002,0.9291841043172199,0.9288800269078631,0.9285800048349954,0.9282839518778353,0.9279917820427904,0.9277034095428214,0.9274187487766297,0.9271377143076549,0.9268602208428651,0.926586183211334,0.9263155163425748,0.9260481352446348,0.9257839549819193,0.9255228906527353,0.9252648573665365,0.9250097702208528,0.9247575442778762,0.9245080945407033,0.9242613359291886,0.9240171832554068,0.9237755511986937,0.9235363542802401,0.9232995068372192,0.9230649229964201,0.922832516647358,0.9226022014148353,0.9223738906309248,0.9221474973063448,0.9219229341011854,0.9217001132949706,0.9214789467559967,0.9212593459099331,0.9210412217076271,0.9208244845920893,0.9206090444645999,0.9203948106499039,0.9201816918604424,0.9199695961595676,0.9197584309236949,0.9195481028033338,0.919338517682937,0.9191295806395157,0.9189211958999417,0.9187132667968829,0.9185056957232922,0.9182983840853769,0.918091232253967,0.9178841395142002,0.9176770040134293,0.9174697227072659,0.9172621913036499,0.9170543042048495,0.9168459544472685,0.9166370336389505,0.9164274318946534,0.9162170377683461,0.9160057381830077,0.9157934183575611,0.9155799617307803,0.9153652498820133,0.9151491624485182,0.9149315770392366,0.9147123691447872,0.9144914120434563,0.9142685767029575,0.9140437316776983,0.9138167430012889,0.9135874740740091,0.9133557855449103,0.9131215351882334,0.9128845777737834,0.9126447649308709,0.9124019450054311,0.9121559628966465,0.9119066599554333,0.9116538737275243,0.9113974378436616,0.9111371818175542,0.9108729308514267,0.9106045056308358,0.9103317221079794,0.9100543912727196,0.9097723189104137,0.9094853053456039,0.909193145170542,0.9088956269573909,0.9085925329529102,0.9082836387542575,0.9079687129644576,0.9076475168259424,0.9073198038304072,0.9069853193030761,0.9066437999602055,0.9062949734326282,0.9059385577636323,0.9055742608616779,0.9052017799401113,0.9048208008578442,0.9044309974900943,0.904032030992658,0.9036235490344686,0.9032051849477768,0.9027765569048551,0.9023372668727322,0.9018868995309111,0.9014250212689631,0.9009511788629747,0.9004648981627099,0.8999656826386225,0.8994530117578,0.8989263394181146,0.8983850918142119,0.8978286655276889,0.8972564252135138,0.896667701126942,0.8960617862505824,0.8954379334312098,0.8947953518823756,0.8941332034745867,0.8934505985715161,0.8927465913848401,0.8920201747776989,0.8912702744344183,0.8904957422991796,0.8896953491681163,0.8888677762971663,0.888011605860724,0.8871253100624518,0.8862072386577694,0.8852556045952596,0.884268467418176,0.8832437139838464,0.8821790359517235,0.8810719033533546,0.8799195333784099,0.8787188532761566,0.8774664559604907,0.8761585464893817,0.8747908770243007,0.8733586670983968,0.871856504941201,0.8702782240793822,0.868616747236842,0.8668638863433017,0.8650100826600313,0.8630440636988052,0.8609523821233612,0.8587187833073161,0.8563233173932148,0.853741058411561,0.850940196829781,0.8478790891451755,0.8445014789271146,0.8407282996712221,0.8364425456022838,0.8301597030678263,0.8205704935179059,0.8097411794290643,0.7963713242674333,0.7664886134429695],\"y\":{\"__ndarray__\":\"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\",\"dtype\":\"float64\",\"shape\":[200]}},\"selected\":{\"id\":\"9145\"},\"selection_policy\":{\"id\":\"9146\"}},\"id\":\"8850\",\"type\":\"ColumnDataSource\"},{\"attributes\":{\"source\":{\"id\":\"8880\"}},\"id\":\"8884\",\"type\":\"CDSView\"},{\"attributes\":{},\"id\":\"8861\",\"type\":\"Selection\"},{\"attributes\":{\"data_source\":{\"id\":\"8865\"},\"glyph\":{\"id\":\"8866\"},\"hover_glyph\":null,\"muted_glyph\":null,\"nonselection_glyph\":{\"id\":\"8867\"},\"selection_glyph\":null,\"view\":{\"id\":\"8869\"}},\"id\":\"8868\",\"type\":\"GlyphRenderer\"},{\"attributes\":{\"data_source\":{\"id\":\"8870\"},\"glyph\":{\"id\":\"8871\"},\"hover_glyph\":null,\"muted_glyph\":null,\"nonselection_glyph\":{\"id\":\"8872\"},\"selection_glyph\":null,\"view\":{\"id\":\"8874\"}},\"id\":\"8873\",\"type\":\"GlyphRenderer\"},{\"attributes\":{\"source\":{\"id\":\"8836\"}},\"id\":\"8840\",\"type\":\"CDSView\"},{\"attributes\":{\"line_alpha\":0.1,\"line_color\":\"green\",\"line_width\":2,\"x\":{\"field\":\"x\"},\"y\":{\"field\":\"y\"}},\"id\":\"8882\",\"type\":\"Line\"},{\"attributes\":{},\"id\":\"9154\",\"type\":\"UnionRenderers\"},{\"attributes\":{},\"id\":\"8804\",\"type\":\"DataRange1d\"},{\"attributes\":{},\"id\":\"8845\",\"type\":\"BasicTickFormatter\"},{\"attributes\":{\"items\":[{\"id\":\"8849\"},{\"id\":\"8864\"}]},\"id\":\"8848\",\"type\":\"Legend\"},{\"attributes\":{},\"id\":\"8862\",\"type\":\"UnionRenderers\"},{\"attributes\":{\"line_alpha\":0.1,\"line_color\":\"green\",\"line_width\":2,\"x\":{\"field\":\"x\"},\"y\":{\"field\":\"y\"}},\"id\":\"8872\",\"type\":\"Line\"},{\"attributes\":{\"line_alpha\":0.1,\"line_color\":\"green\",\"line_width\":2,\"x\":{\"field\":\"x\"},\"y\":{\"field\":\"y\"}},\"id\":\"8877\",\"type\":\"Line\"},{\"attributes\":{},\"id\":\"9147\",\"type\":\"Selection\"},{\"attributes\":{\"data_source\":{\"id\":\"8880\"},\"glyph\":{\"id\":\"8881\"},\"hover_glyph\":null,\"muted_glyph\":null,\"nonselection_glyph\":{\"id\":\"8882\"},\"selection_glyph\":null,\"view\":{\"id\":\"8884\"}},\"id\":\"8883\",\"type\":\"GlyphRenderer\"},{\"attributes\":{\"data\":{\"x\":[0.9446150957228582,0.9446150957228582],\"y\":[-18.759570375783227,75.44884029116116]},\"selected\":{\"id\":\"9147\"},\"selection_policy\":{\"id\":\"9148\"}},\"id\":\"8865\",\"type\":\"ColumnDataSource\"},{\"attributes\":{\"bottom_units\":\"screen\",\"fill_alpha\":0.5,\"fill_color\":\"lightgrey\",\"left_units\":\"screen\",\"level\":\"overlay\",\"line_alpha\":1.0,\"line_color\":\"black\",\"line_dash\":[4,4],\"line_width\":2,\"render_mode\":\"css\",\"right_units\":\"screen\",\"top_units\":\"screen\"},\"id\":\"8824\",\"type\":\"BoxAnnotation\"},{\"attributes\":{\"data_source\":{\"id\":\"8875\"},\"glyph\":{\"id\":\"8876\"},\"hover_glyph\":null,\"muted_glyph\":null,\"nonselection_glyph\":{\"id\":\"8877\"},\"selection_glyph\":null,\"view\":{\"id\":\"8879\"}},\"id\":\"8878\",\"type\":\"GlyphRenderer\"},{\"attributes\":{},\"id\":\"8818\",\"type\":\"PanTool\"},{\"attributes\":{\"overlay\":{\"id\":\"8824\"}},\"id\":\"8820\",\"type\":\"BoxZoomTool\"},{\"attributes\":{\"active_drag\":\"auto\",\"active_inspect\":\"auto\",\"active_multi\":null,\"active_scroll\":\"auto\",\"active_tap\":\"auto\",\"tools\":[{\"id\":\"8818\"},{\"id\":\"8819\"},{\"id\":\"8820\"},{\"id\":\"8821\"},{\"id\":\"8822\"},{\"id\":\"8823\"}]},\"id\":\"8825\",\"type\":\"Toolbar\"},{\"attributes\":{},\"id\":\"8811\",\"type\":\"BasicTicker\"},{\"attributes\":{\"line_color\":\"green\",\"line_width\":2,\"x\":{\"field\":\"x\"},\"y\":{\"field\":\"y\"}},\"id\":\"8866\",\"type\":\"Line\"},{\"attributes\":{\"source\":{\"id\":\"8865\"}},\"id\":\"8869\",\"type\":\"CDSView\"},{\"attributes\":{\"label\":{\"value\":\"Curva de Vapor Saturado\"},\"renderers\":[{\"id\":\"8853\"}]},\"id\":\"8864\",\"type\":\"LegendItem\"},{\"attributes\":{\"line_color\":\"green\",\"line_width\":2,\"x\":{\"field\":\"x\"},\"y\":{\"field\":\"y\"}},\"id\":\"8876\",\"type\":\"Line\"},{\"attributes\":{},\"id\":\"9152\",\"type\":\"UnionRenderers\"},{\"attributes\":{\"axis_label\":\"Temperatura (\\u00b0C)\",\"formatter\":{\"id\":\"8845\"},\"ticker\":{\"id\":\"8815\"}},\"id\":\"8814\",\"type\":\"LinearAxis\"},{\"attributes\":{},\"id\":\"8815\",\"type\":\"BasicTicker\"},{\"attributes\":{},\"id\":\"9151\",\"type\":\"Selection\"},{\"attributes\":{\"data\":{\"x\":[0.10463543277635971,0.10773466747466595,0.1108294324363146,0.11391976602459244,0.11700570652428623,0.12008729214684292,0.12316456103553296,0.1262375512706215,0.1293063008745469,0.1323708478171162,0.13543123002070614,0.13848748536549765,0.1415396516947186,0.14458776681992094,0.14763186852627858,0.1506719945779252,0.15370818272331543,0.15674047070063504,0.15976889624324672,0.16279349708517935,0.1658143109666688,0.16883137563974615,0.17184472887388547,0.17485440846170713,0.17786045222474195,0.18086289801926694,0.18386178374220352,0.18685714733709757,0.18984902680016813,0.19283746018644746,0.19582248561599774,0.1988041412802282,0.20178246544829667,0.20475749647361968,0.2077292728004796,0.2106978329707455,0.2136632156307055,0.2166254595380184,0.21958460356879098,0.2225406867247819,0.22549374814074583,0.22844382709191474,0.23139096300162548,0.23433519544910808,0.23727656417742532,0.24021510910158392,0.24315087031681692,0.24608388810705126,0.24901420295355742,0.2519418555438006,0.25486688678049196,0.2577893377908551,0.26070924993611344,0.2636266648212068,0.26654162430474876,0.26945417050923487,0.2723643458315081,0.2752721929534968,0.2781777548532383,0.28108107481618877,0.2839821964468432,0.28688116368067745,0.289778020796417,0.29267281242865517,0.29556558358083107,0.2984563796385836,0.3013452463835008,0.30423223000727584,0.3071173771262894,0.31000073479664253,0.31288235052965147,0.31576227230782605,0.318640548601364,0.32151722838516816,0.32439236115642134,0.32726599695274355,0.3301381863709525,0.3330089805864574,0.3358784313733253,0.33874659112503575,0.341613512875966,0.34447925032364535,0.3473438578518061,0.35020739055427574,0.3530699042597563,0.35593145555752137,0.3587921018240988,0.36165190125096475,0.3645109128733215,0.3673691966000009,0.3702268132445694,0.3730838245576772,0.37594029326073375,0.3787962830809843,0.38165185878804686,0.38450708623200913,0.3873620323831656,0.3902167653734842,0.3930713545399124,0.39592587046961464,0.3987803850472717,0.4016349715045508,0.40448970447188465,0.40734466003269376,0.4101999157802112,0.41305555087706125,0.4159116461177701,0.41876828399439786,0.42162554876548736,0.4244835265285426,0.4273423052962818,0.4302019750769039,0.4330626279586335,0.4359243581988596,0.4387872623181526,0.4416514391995172,0.444516990193249,0.4473840192277836,0.45025263292697304,0.45312294073425924,0.4559950550442479,0.4588690913422256,0.4617451683522321,0.46462340819432224,0.4675039365517282,0.47038688284869357,0.47327238043981573,0.4761605668118047,0.47905158379867085,0.4819455778114208,0.4848427000834591,0.48774310693301365,0.4906469600440111,0.49355442676698547,0.49646568044175804,0.4993809007434055,0.5023002740563408,0.505223993870698,0.5081522612171542,0.5110852851294782,0.5140232831461091,0.5169664818515152,0.5199151174619361,0.5228694364592964,0.5258296962783628,0.5287961660536037,0.5317691274301076,0.5347488754468431,0.5377357194995172,0.5407299843909,0.5437320114841909,0.5467421599575292,0.5497608081892001,0.552788355276379,0.5558252227133724,0.5588718562220022,0.5619287278180396,0.5649963380613242,0.5680752185754069,0.5711659348501196,0.5742690893711988,0.5773853251246537,0.5805153295321034,0.5836598388835491,0.5868196433465616,0.5899955926461607,0.5931886025284905,0.596399662144654,0.5996298425200968,0.6028803063112382,0.6061523190968672,0.6094472625101117,0.6127666495913758,0.6161121428390264,0.6194855755601875,0.6228889772891822,0.6263246042606971,0.629794976219669,0.6333029212509144,0.6368516308636921,0.6404447283375877,0.6440863544294575,0.6477812761176281,0.6515350263739569,0.6553540864281336,0.6592461272953695,0.6632203357252432,0.6672878632471946,0.6714624596421334,0.6757613914795282,0.6802068176791449,0.684827930286664,0.6896644454734628,0.6947726364918658,0.7002365627386733,0.7061781156452641,0.7128556794216553,0.7208032853408034,0.7314487923850935,0.7664886134429695],\"y\":{\"__ndarray__\":\"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\",\"dtype\":\"float64\",\"shape\":[200]}},\"selected\":{\"id\":\"8861\"},\"selection_policy\":{\"id\":\"8862\"}},\"id\":\"8836\",\"type\":\"ColumnDataSource\"},{\"attributes\":{\"line_alpha\":0.1,\"line_color\":\"red\",\"line_width\":2,\"x\":{\"field\":\"x\"},\"y\":{\"field\":\"y\"}},\"id\":\"8852\",\"type\":\"Line\"},{\"attributes\":{},\"id\":\"8823\",\"type\":\"HelpTool\"},{\"attributes\":{\"label\":{\"value\":\"Curva de L\\u00edquido Saturado\"},\"renderers\":[{\"id\":\"8839\"}]},\"id\":\"8849\",\"type\":\"LegendItem\"},{\"attributes\":{\"axis\":{\"id\":\"8810\"},\"ticker\":null},\"id\":\"8813\",\"type\":\"Grid\"},{\"attributes\":{\"line_alpha\":0.1,\"line_color\":\"blue\",\"line_width\":2,\"x\":{\"field\":\"x\"},\"y\":{\"field\":\"y\"}},\"id\":\"8838\",\"type\":\"Line\"},{\"attributes\":{},\"id\":\"8821\",\"type\":\"SaveTool\"},{\"attributes\":{},\"id\":\"8802\",\"type\":\"DataRange1d\"},{\"attributes\":{\"source\":{\"id\":\"8870\"}},\"id\":\"8874\",\"type\":\"CDSView\"},{\"attributes\":{},\"id\":\"9146\",\"type\":\"UnionRenderers\"},{\"attributes\":{\"axis\":{\"id\":\"8814\"},\"dimension\":1,\"ticker\":null},\"id\":\"8817\",\"type\":\"Grid\"},{\"attributes\":{\"source\":{\"id\":\"8850\"}},\"id\":\"8854\",\"type\":\"CDSView\"},{\"attributes\":{},\"id\":\"8819\",\"type\":\"WheelZoomTool\"},{\"attributes\":{\"line_color\":\"green\",\"line_width\":2,\"x\":{\"field\":\"x\"},\"y\":{\"field\":\"y\"}},\"id\":\"8871\",\"type\":\"Line\"},{\"attributes\":{\"axis_label\":\"Entropia (kJ/(kg K)\",\"formatter\":{\"id\":\"8843\"},\"ticker\":{\"id\":\"8811\"}},\"id\":\"8810\",\"type\":\"LinearAxis\"},{\"attributes\":{\"data\":{\"x\":[0.9446150957228581,0.9442293237902983,0.9438430939999387,0.9434564032623014,0.9430692484534574,0.9426816264145058,0.9422935339510405,0.9419049678326119,0.9415159247921709,0.94112640152551,0.9407363946906856,0.9403459009074362,0.9399549167565853,0.939563438779432,0.9391714634771328,0.9387789873100659,0.938386006697191,0.9379925180153863,0.9375985175987804,0.9372040017380673,0.9368089666798051,0.9364134086257065,0.9360173237319097,0.9356207081082344,0.9352235578174268,0.934825868874385,0.9344276372453681,0.9340288588471917,0.9336295295464038,0.9332296451584448,0.9328292014467894,0.932428194122069,0.9320266188411765,0.9316244712063534,0.9312217467642521,0.9308184410049848,0.9304145493611454,0.9300100672068135,0.9296049898565355,0.9291993125642836,0.9287930305223894,0.9283861388604591,0.9279786326442561,0.9275705068745677,0.9271617564860382,0.9267523763459787,0.9263423612531533,0.925931705936529,0.925520405054003,0.9251084531911004,0.9246958448596381,0.9242825744963604,0.9238686364615383,0.9234540250375421,0.9230387344273746,0.9226227587531685,0.922206092054653,0.9217887282875789,0.9213706613221061,0.9209518849411527,0.920532392838702,0.9201121786180684,0.9196912357901212,0.9192695577714619,0.9188471378825557,0.9184239693458169,0.9180000452836481,0.9175753587164224,0.9171499025604192,0.9167236696257062,0.9162966526139629,0.9158688441162501,0.9154402366107212,0.9150108224602704,0.9145805939101189,0.9141495430853372,0.9137176619883013,0.9132849424960768,0.9128513763577369,0.9124169551916006,0.9119816704824,0.9115455135783642,0.9111084756882258,0.9106705478781417,0.9102317210685251,0.9097919860307893,0.9093513333839971,0.9089097535914155,0.908467236956966,0.9080237736215773,0.9075793535594244,0.9071339665740602,0.906687602294434,0.9062402501707815,0.9057918994704016,0.9053425392732998,0.9048921584676949,0.9044407457453928,0.9039882895970164,0.5142906812428993],\"y\":{\"__ndarray__\":\"hOqgzLncUkDb9nOXHdZSQDMDR2KBz1JAig8aLeXIUkDhG+33SMJSQDkowMKsu1JAkDSTjRC1UkDnQGZYdK5SQD9NOSPYp1JAllkM7juhUkDuZd+4n5pSQEVysoMDlFJAnH6FTmeNUkD0ilgZy4ZSQEuXK+QugFJAoqP+rpJ5UkD6r9F59nJSQFG8pERabFJAqMh3D75lUkAA1UraIV9SQFfhHaWFWFJAru3wb+lRUkAG+sM6TUtSQF0GlwWxRFJAtBJq0BQ+UkAMHz2beDdSQGMrEGbcMFJAuzfjMEAqUkASRLb7oyNSQGlQicYHHVJAwVxckWsWUkAYaS9czw9SQG91AiczCVJAx4HV8ZYCUkAejqi8+vtRQHWae4de9VFAzaZOUsLuUUAksyEdJuhRQHu/9OeJ4VFA08vHsu3aUUAq2Jp9UdRRQILkbUi1zVFA2fBAExnHUUAw/RPefMBRQIgJ56jguVFA3xW6c0SzUUA2Io0+qKxRQI4uYAkMplFA5Toz1G+fUUA8Rwaf05hRQJRT2Wk3klFA61+sNJuLUUBCbH///oRRQJp4UspiflFA8YQllcZ3UUBIkfhfKnFRQKCdyyqOalFA96me9fFjUUBOtnHAVV1RQKbCRIu5VlFA/c4XVh1QUUBV2+oggUlRQKznvevkQlFAA/SQtkg8UUBbAGSBrDVRQLIMN0wQL1FACRkKF3QoUUBhJd3h1yFRQLgxsKw7G1FADz6Dd58UUUBnSlZCAw5RQL5WKQ1nB1FAFWP818oAUUBtb8+iLvpQQMR7om2S81BAHIh1OPbsUEBzlEgDWuZQQMqgG86931BAIq3umCHZUEB5ucFjhdJQQNDFlC7py1BAKNJn+UzFUEB/3jrEsL5QQNbqDY8UuFBALvfgWXixUECFA7Qk3KpQQNwPh+8/pFBANBxauqOdUECLKC2FB5dQQOI0AFBrkFBAOkHTGs+JUECRTablMoNQQOhZebCWfFBAQGZMe/p1UECXch9GXm9QQO9+8hDCaFBARovF2yViUECdl5imiVtQQPWja3HtVFBATLA+PFFOUEA=\",\"dtype\":\"float64\",\"shape\":[100]}},\"selected\":{\"id\":\"9149\"},\"selection_policy\":{\"id\":\"9150\"}},\"id\":\"8870\",\"type\":\"ColumnDataSource\"},{\"attributes\":{},\"id\":\"8843\",\"type\":\"BasicTickFormatter\"},{\"attributes\":{},\"id\":\"9153\",\"type\":\"Selection\"},{\"attributes\":{\"data\":{\"x\":[0.5862433140883693,0.9446150957228582],\"y\":[-18.759570375783227,-18.759570375783227]},\"selected\":{\"id\":\"9153\"},\"selection_policy\":{\"id\":\"9154\"}},\"id\":\"8880\",\"type\":\"ColumnDataSource\"},{\"attributes\":{},\"id\":\"9149\",\"type\":\"Selection\"},{\"attributes\":{\"data_source\":{\"id\":\"8850\"},\"glyph\":{\"id\":\"8851\"},\"hover_glyph\":null,\"muted_glyph\":null,\"nonselection_glyph\":{\"id\":\"8852\"},\"selection_glyph\":null,\"view\":{\"id\":\"8854\"}},\"id\":\"8853\",\"type\":\"GlyphRenderer\"},{\"attributes\":{\"line_color\":\"blue\",\"line_width\":2,\"x\":{\"field\":\"x\"},\"y\":{\"field\":\"y\"}},\"id\":\"8837\",\"type\":\"Line\"},{\"attributes\":{\"data\":{\"x\":[0.5143417067377667,0.5146426746119251,0.515017293267927,0.5154761819246504,0.5160320507461051,0.5167002619064104,0.5174995871751831,0.5184532495574049,0.5195903851802497,0.5209481436300618,0.5225747882922499,0.5245344195884016,0.5269144445373906,0.5298379325719591,0.5334852137642382,0.5381343521277738,0.5442441872223714,0.5526471956423057,0.5650867902051466,0.5862433140883693],\"y\":[65.23370821115441,63.070683054910205,60.822057404910424,58.47975136544653,56.03436633420978,53.47487632039207,50.78822123687928,47.95876184554726,44.96753505712951,41.791213737793214,38.40061623542948,34.7585061186212,30.816227487691776,26.508336442645202,21.743576781457023,16.388680228814906,10.23668565616714,2.937296761954883,-6.184821507853712,-18.759570375783227]},\"selected\":{\"id\":\"9151\"},\"selection_policy\":{\"id\":\"9152\"}},\"id\":\"8875\",\"type\":\"ColumnDataSource\"},{\"attributes\":{},\"id\":\"8822\",\"type\":\"ResetTool\"},{\"attributes\":{\"source\":{\"id\":\"8875\"}},\"id\":\"8879\",\"type\":\"CDSView\"},{\"attributes\":{},\"id\":\"9145\",\"type\":\"Selection\"},{\"attributes\":{\"data_source\":{\"id\":\"8836\"},\"glyph\":{\"id\":\"8837\"},\"hover_glyph\":null,\"muted_glyph\":null,\"nonselection_glyph\":{\"id\":\"8838\"},\"selection_glyph\":null,\"view\":{\"id\":\"8840\"}},\"id\":\"8839\",\"type\":\"GlyphRenderer\"},{\"attributes\":{},\"id\":\"9148\",\"type\":\"UnionRenderers\"},{\"attributes\":{},\"id\":\"9150\",\"type\":\"UnionRenderers\"},{\"attributes\":{},\"id\":\"8808\",\"type\":\"LinearScale\"},{\"attributes\":{\"line_color\":\"green\",\"line_width\":2,\"x\":{\"field\":\"x\"},\"y\":{\"field\":\"y\"}},\"id\":\"8881\",\"type\":\"Line\"},{\"attributes\":{},\"id\":\"8806\",\"type\":\"LinearScale\"}],\"root_ids\":[\"8801\"]},\"title\":\"Bokeh Application\",\"version\":\"2.0.2\"}};\n",
       "  var render_items = [{\"docid\":\"7eaaefe8-b212-4390-985b-4adaf826a6c6\",\"root_ids\":[\"8801\"],\"roots\":{\"8801\":\"c86003b8-eb29-4448-92c9-7a5583bb6cd0\"}}];\n",
       "  root.Bokeh.embed.embed_items_notebook(docs_json, render_items);\n",
       "\n",
       "  }\n",
       "  if (root.Bokeh !== undefined) {\n",
       "    embed_document(root);\n",
       "  } else {\n",
       "    var attempts = 0;\n",
       "    var timer = setInterval(function(root) {\n",
       "      if (root.Bokeh !== undefined) {\n",
       "        clearInterval(timer);\n",
       "        embed_document(root);\n",
       "      } else {\n",
       "        attempts++;\n",
       "        if (attempts > 100) {\n",
       "          clearInterval(timer);\n",
       "          console.log(\"Bokeh: ERROR: Unable to run BokehJS code because BokehJS library is missing\");\n",
       "        }\n",
       "      }\n",
       "    }, 10, root)\n",
       "  }\n",
       "})(window);"
      ],
      "application/vnd.bokehjs_exec.v0+json": ""
     },
     "metadata": {
      "application/vnd.bokehjs_exec.v0+json": {
       "id": "8801"
      }
     },
     "output_type": "display_data"
    }
   ],
   "source": [
    "from bokeh.plotting import *\n",
    "\n",
    "# Criando um arquivo estático em html\n",
    "output_file(\"Rankine.html\")\n",
    "\n",
    "output_notebook()\n",
    "\n",
    "p = figure(plot_width=600, plot_height=600)\n",
    "\n",
    "p.title.text = 'Ciclo Ideal de Rankine'\n",
    "p.title.align = 'center'\n",
    "p.title.text_color = 'black'\n",
    "p.title.text_font_size = '30px'\n",
    "p.xaxis[0].axis_label = 'Entropia (kJ/(kg K)'\n",
    "p.yaxis[0].axis_label = 'Temperatura (°C)'\n",
    "\n",
    "\n",
    "p.line(sliq, npt, legend_label = 'Curva de Líquido Saturado', line_width = 2, color = 'blue')\n",
    "p.line(svap, npt, legend_label = 'Curva de Vapor Saturado', line_width = 2, color = 'red')\n",
    "\n",
    "\n",
    "p.line(s12, T12, line_width = 2, color = 'green')\n",
    "p.line(s23, T23, line_width = 2, color = 'green')\n",
    "p.line(s34, T34, line_width = 2, color = 'green')\n",
    "p.line(s41, T41, line_width = 2, color = 'green')\n",
    "\n",
    "# Exibir o Gráfico\n",
    "show(p)"
   ]
  }
 ],
 "metadata": {
  "kernelspec": {
   "display_name": "Python 3",
   "language": "python",
   "name": "python3"
  },
  "language_info": {
   "codemirror_mode": {
    "name": "ipython",
    "version": 3
   },
   "file_extension": ".py",
   "mimetype": "text/x-python",
   "name": "python",
   "nbconvert_exporter": "python",
   "pygments_lexer": "ipython3",
   "version": "3.7.7"
  }
 },
 "nbformat": 4,
 "nbformat_minor": 4
}
